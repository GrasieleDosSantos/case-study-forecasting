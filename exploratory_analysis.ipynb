{
 "cells": [
  {
   "cell_type": "markdown",
   "metadata": {},
   "source": [
    "# Estudo de caso: previsão de vendas\n",
    "\n",
    "Nesse estudo vamos fazer uma análise exploratória de dados de vendas, onde cada linha do conjunto contém informações de venda de um determinado item, associadas a ciclos temporais. As colunas de nosso dataset são:\n",
    "\n",
    "- COD_MATERIAL            Código do produto\n",
    "- COD_CICLO               Ciclo (variável de tempo)\n",
    "- DES_CATEGORIA_MATERIAL  Categoria do produto\n",
    "- DES_MARCA_MATERIAL      Marca do Produto\n",
    "- FLG_DATA                Indicador de existência ou não de datas comemorativas no ciclo\n",
    "- FLG_CAMPANHA_MKT_A      Indicador de existência ou não da campanha de marketing A no ciclo\n",
    "- FLG_CAMPANHA_MKT_B      Indicador de existência ou não da campanha de marketing B no ciclo\n",
    "- FLG_CAMPANHA_MKT_C      Indicador de existência ou não da campanha de marketing C no ciclo\n",
    "- FLG_CAMPANHA_MKT_D      Indicador de existência ou não da campanha de marketing D no ciclo\n",
    "- FLG_CAMPANHA_MKT_E      Indicador de existência ou não da campanha de marketing E no ciclo\n",
    "- FLG_CAMPANHA_MKT_F      Indicador de existência ou não da campanha de marketing E no ciclo\n",
    "- PCT_DESCONTO            Percentual de desconto aplicado na venda (0 - 100)\n",
    "- VL_PRECO                Preço do produto\n",
    "- QT_VENDA                Quantidade vendida\n",
    "\n",
    "O objetivo é prever a quantidade vendida de cada item em 3 ciclos específicos: 202016, 202017 e 202101.\n",
    "\n",
    "\n",
    "Este notebook também contém uma seção de pré-processamento dos dados e diferentes experimentos associados a diferentes abordagens de treinamento de algoritmos de machine learning, na tentativa de encontrar um modelo que apresente uma boa performance quando comparado aos outros. A partir desta exploração construíremos os scripts de pré-processamento, treino e inferência, para possibilitar futuras automações e inferência para novos dados."
   ]
  },
  {
   "cell_type": "markdown",
   "metadata": {},
   "source": [
    "## Análise Exploratória"
   ]
  },
  {
   "cell_type": "code",
   "execution_count": 1,
   "metadata": {
    "tags": []
   },
   "outputs": [
    {
     "name": "stderr",
     "output_type": "stream",
     "text": [
      "/Users/grasiele/opt/anaconda3/lib/python3.8/site-packages/pandas/core/computation/expressions.py:20: UserWarning: Pandas requires version '2.7.3' or newer of 'numexpr' (version '2.7.1' currently installed).\n",
      "  from pandas.core.computation.check import NUMEXPR_INSTALLED\n",
      "/Users/grasiele/opt/anaconda3/lib/python3.8/site-packages/xgboost/compat.py:93: FutureWarning: pandas.Int64Index is deprecated and will be removed from pandas in a future version. Use pandas.Index with the appropriate dtype instead.\n",
      "  from pandas import MultiIndex, Int64Index\n",
      "/Users/grasiele/opt/anaconda3/lib/python3.8/site-packages/dask/dataframe/utils.py:367: FutureWarning: pandas.Int64Index is deprecated and will be removed from pandas in a future version. Use pandas.Index with the appropriate dtype instead.\n",
      "  _numeric_index_types = (pd.Int64Index, pd.Float64Index, pd.UInt64Index)\n",
      "/Users/grasiele/opt/anaconda3/lib/python3.8/site-packages/dask/dataframe/utils.py:367: FutureWarning: pandas.Float64Index is deprecated and will be removed from pandas in a future version. Use pandas.Index with the appropriate dtype instead.\n",
      "  _numeric_index_types = (pd.Int64Index, pd.Float64Index, pd.UInt64Index)\n",
      "/Users/grasiele/opt/anaconda3/lib/python3.8/site-packages/dask/dataframe/utils.py:367: FutureWarning: pandas.UInt64Index is deprecated and will be removed from pandas in a future version. Use pandas.Index with the appropriate dtype instead.\n",
      "  _numeric_index_types = (pd.Int64Index, pd.Float64Index, pd.UInt64Index)\n"
     ]
    }
   ],
   "source": [
    "import pandas as pd \n",
    "from pandas.plotting import autocorrelation_plot\n",
    "import numpy as np \n",
    "import os\n",
    "import matplotlib.pyplot as plt \n",
    "import seaborn as sns \n",
    "\n",
    "from statsmodels.tsa.arima.model import ARIMA\n",
    "import statsmodels.api as sm\n",
    "from statsmodels.graphics.tsaplots import plot_pacf\n",
    "from sklearn.metrics import mean_squared_error\n",
    "\n",
    "import xgboost as xgb\n",
    "\n",
    "sns.set_style(\"whitegrid\")"
   ]
  },
  {
   "cell_type": "code",
   "execution_count": 2,
   "metadata": {
    "tags": []
   },
   "outputs": [
    {
     "data": {
      "text/html": [
       "<div>\n",
       "<style scoped>\n",
       "    .dataframe tbody tr th:only-of-type {\n",
       "        vertical-align: middle;\n",
       "    }\n",
       "\n",
       "    .dataframe tbody tr th {\n",
       "        vertical-align: top;\n",
       "    }\n",
       "\n",
       "    .dataframe thead th {\n",
       "        text-align: right;\n",
       "    }\n",
       "</style>\n",
       "<table border=\"1\" class=\"dataframe\">\n",
       "  <thead>\n",
       "    <tr style=\"text-align: right;\">\n",
       "      <th></th>\n",
       "      <th>COD_MATERIAL</th>\n",
       "      <th>COD_CICLO</th>\n",
       "      <th>DES_CATEGORIA_MATERIAL</th>\n",
       "      <th>DES_MARCA_MATERIAL</th>\n",
       "      <th>FLG_DATA</th>\n",
       "      <th>FLG_CAMPANHA_MKT_A</th>\n",
       "      <th>FLG_CAMPANHA_MKT_B</th>\n",
       "      <th>FLG_CAMPANHA_MKT_C</th>\n",
       "      <th>FLG_CAMPANHA_MKT_D</th>\n",
       "      <th>FLG_CAMPANHA_MKT_E</th>\n",
       "      <th>FLG_CAMPANHA_MKT_F</th>\n",
       "      <th>PCT_DESCONTO</th>\n",
       "      <th>VL_PRECO</th>\n",
       "      <th>QT_VENDA</th>\n",
       "    </tr>\n",
       "  </thead>\n",
       "  <tbody>\n",
       "    <tr>\n",
       "      <th>0</th>\n",
       "      <td>6246</td>\n",
       "      <td>201908</td>\n",
       "      <td>anon_S12</td>\n",
       "      <td>anon_S53</td>\n",
       "      <td>1</td>\n",
       "      <td>0.0</td>\n",
       "      <td>0.0</td>\n",
       "      <td>0.0</td>\n",
       "      <td>0.0</td>\n",
       "      <td>0.0</td>\n",
       "      <td>0.0</td>\n",
       "      <td>NaN</td>\n",
       "      <td>461.4</td>\n",
       "      <td>240.0</td>\n",
       "    </tr>\n",
       "    <tr>\n",
       "      <th>1</th>\n",
       "      <td>6246</td>\n",
       "      <td>201915</td>\n",
       "      <td>anon_S12</td>\n",
       "      <td>anon_S53</td>\n",
       "      <td>0</td>\n",
       "      <td>0.0</td>\n",
       "      <td>0.0</td>\n",
       "      <td>0.0</td>\n",
       "      <td>0.0</td>\n",
       "      <td>0.0</td>\n",
       "      <td>0.0</td>\n",
       "      <td>NaN</td>\n",
       "      <td>461.4</td>\n",
       "      <td>240.0</td>\n",
       "    </tr>\n",
       "    <tr>\n",
       "      <th>2</th>\n",
       "      <td>6306</td>\n",
       "      <td>201916</td>\n",
       "      <td>anon_S12</td>\n",
       "      <td>anon_S53</td>\n",
       "      <td>1</td>\n",
       "      <td>0.0</td>\n",
       "      <td>0.0</td>\n",
       "      <td>0.0</td>\n",
       "      <td>0.0</td>\n",
       "      <td>0.0</td>\n",
       "      <td>0.0</td>\n",
       "      <td>NaN</td>\n",
       "      <td>521.4</td>\n",
       "      <td>240.0</td>\n",
       "    </tr>\n",
       "    <tr>\n",
       "      <th>3</th>\n",
       "      <td>6480</td>\n",
       "      <td>201801</td>\n",
       "      <td>anon_S12</td>\n",
       "      <td>anon_S17</td>\n",
       "      <td>0</td>\n",
       "      <td>0.0</td>\n",
       "      <td>0.0</td>\n",
       "      <td>0.0</td>\n",
       "      <td>0.0</td>\n",
       "      <td>0.0</td>\n",
       "      <td>0.0</td>\n",
       "      <td>NaN</td>\n",
       "      <td>833.4</td>\n",
       "      <td>528.0</td>\n",
       "    </tr>\n",
       "    <tr>\n",
       "      <th>4</th>\n",
       "      <td>6480</td>\n",
       "      <td>201802</td>\n",
       "      <td>anon_S12</td>\n",
       "      <td>anon_S17</td>\n",
       "      <td>0</td>\n",
       "      <td>0.0</td>\n",
       "      <td>0.0</td>\n",
       "      <td>0.0</td>\n",
       "      <td>0.0</td>\n",
       "      <td>0.0</td>\n",
       "      <td>0.0</td>\n",
       "      <td>NaN</td>\n",
       "      <td>833.4</td>\n",
       "      <td>564.0</td>\n",
       "    </tr>\n",
       "  </tbody>\n",
       "</table>\n",
       "</div>"
      ],
      "text/plain": [
       "   COD_MATERIAL  COD_CICLO DES_CATEGORIA_MATERIAL DES_MARCA_MATERIAL  \\\n",
       "0          6246     201908               anon_S12           anon_S53   \n",
       "1          6246     201915               anon_S12           anon_S53   \n",
       "2          6306     201916               anon_S12           anon_S53   \n",
       "3          6480     201801               anon_S12           anon_S17   \n",
       "4          6480     201802               anon_S12           anon_S17   \n",
       "\n",
       "   FLG_DATA  FLG_CAMPANHA_MKT_A  FLG_CAMPANHA_MKT_B  FLG_CAMPANHA_MKT_C  \\\n",
       "0         1                 0.0                 0.0                 0.0   \n",
       "1         0                 0.0                 0.0                 0.0   \n",
       "2         1                 0.0                 0.0                 0.0   \n",
       "3         0                 0.0                 0.0                 0.0   \n",
       "4         0                 0.0                 0.0                 0.0   \n",
       "\n",
       "   FLG_CAMPANHA_MKT_D  FLG_CAMPANHA_MKT_E  FLG_CAMPANHA_MKT_F  PCT_DESCONTO  \\\n",
       "0                 0.0                 0.0                 0.0           NaN   \n",
       "1                 0.0                 0.0                 0.0           NaN   \n",
       "2                 0.0                 0.0                 0.0           NaN   \n",
       "3                 0.0                 0.0                 0.0           NaN   \n",
       "4                 0.0                 0.0                 0.0           NaN   \n",
       "\n",
       "   VL_PRECO  QT_VENDA  \n",
       "0     461.4     240.0  \n",
       "1     461.4     240.0  \n",
       "2     521.4     240.0  \n",
       "3     833.4     528.0  \n",
       "4     833.4     564.0  "
      ]
     },
     "execution_count": 2,
     "metadata": {},
     "output_type": "execute_result"
    }
   ],
   "source": [
    "df = pd.read_csv('output.csv')\n",
    "df.head()"
   ]
  },
  {
   "cell_type": "code",
   "execution_count": 3,
   "metadata": {
    "tags": []
   },
   "outputs": [
    {
     "data": {
      "text/plain": [
       "(52094, 14)"
      ]
     },
     "execution_count": 3,
     "metadata": {},
     "output_type": "execute_result"
    }
   ],
   "source": [
    "df.shape"
   ]
  },
  {
   "cell_type": "code",
   "execution_count": 4,
   "metadata": {
    "tags": []
   },
   "outputs": [
    {
     "name": "stdout",
     "output_type": "stream",
     "text": [
      "<class 'pandas.core.frame.DataFrame'>\n",
      "RangeIndex: 52094 entries, 0 to 52093\n",
      "Data columns (total 14 columns):\n",
      " #   Column                  Non-Null Count  Dtype  \n",
      "---  ------                  --------------  -----  \n",
      " 0   COD_MATERIAL            52094 non-null  int64  \n",
      " 1   COD_CICLO               52094 non-null  int64  \n",
      " 2   DES_CATEGORIA_MATERIAL  52094 non-null  object \n",
      " 3   DES_MARCA_MATERIAL      52094 non-null  object \n",
      " 4   FLG_DATA                52094 non-null  int64  \n",
      " 5   FLG_CAMPANHA_MKT_A      52094 non-null  float64\n",
      " 6   FLG_CAMPANHA_MKT_B      52094 non-null  float64\n",
      " 7   FLG_CAMPANHA_MKT_C      52094 non-null  float64\n",
      " 8   FLG_CAMPANHA_MKT_D      52094 non-null  float64\n",
      " 9   FLG_CAMPANHA_MKT_E      52094 non-null  float64\n",
      " 10  FLG_CAMPANHA_MKT_F      52094 non-null  float64\n",
      " 11  PCT_DESCONTO            16780 non-null  float64\n",
      " 12  VL_PRECO                52088 non-null  float64\n",
      " 13  QT_VENDA                48946 non-null  float64\n",
      "dtypes: float64(9), int64(3), object(2)\n",
      "memory usage: 5.6+ MB\n"
     ]
    }
   ],
   "source": [
    "df.info()"
   ]
  },
  {
   "cell_type": "code",
   "execution_count": 5,
   "metadata": {
    "tags": []
   },
   "outputs": [
    {
     "data": {
      "text/plain": [
       "COD_MATERIAL                  0\n",
       "COD_CICLO                     0\n",
       "DES_CATEGORIA_MATERIAL        0\n",
       "DES_MARCA_MATERIAL            0\n",
       "FLG_DATA                      0\n",
       "FLG_CAMPANHA_MKT_A            0\n",
       "FLG_CAMPANHA_MKT_B            0\n",
       "FLG_CAMPANHA_MKT_C            0\n",
       "FLG_CAMPANHA_MKT_D            0\n",
       "FLG_CAMPANHA_MKT_E            0\n",
       "FLG_CAMPANHA_MKT_F            0\n",
       "PCT_DESCONTO              35314\n",
       "VL_PRECO                      6\n",
       "QT_VENDA                   3148\n",
       "dtype: int64"
      ]
     },
     "execution_count": 5,
     "metadata": {},
     "output_type": "execute_result"
    }
   ],
   "source": [
    "df.isna().sum()"
   ]
  },
  {
   "cell_type": "markdown",
   "metadata": {},
   "source": [
    "Vemos que a variável 'PCT_DESCONTO' possui cerca de 68% de dados faltantes. Já nosso target, a variável 'QT_VENDA', possui 3148 dados faltantes. Observe também que as variáveis flag são do tipo float, mas descrevem variáveis de natureza categórica. Por isso, ao analisarmos correlação e propriedades como média, std, e outras, consideraremos somente as variáveis intrinsicamente do tipo numérico."
   ]
  },
  {
   "cell_type": "code",
   "execution_count": 6,
   "metadata": {
    "tags": []
   },
   "outputs": [
    {
     "data": {
      "text/html": [
       "<div>\n",
       "<style scoped>\n",
       "    .dataframe tbody tr th:only-of-type {\n",
       "        vertical-align: middle;\n",
       "    }\n",
       "\n",
       "    .dataframe tbody tr th {\n",
       "        vertical-align: top;\n",
       "    }\n",
       "\n",
       "    .dataframe thead th {\n",
       "        text-align: right;\n",
       "    }\n",
       "</style>\n",
       "<table border=\"1\" class=\"dataframe\">\n",
       "  <thead>\n",
       "    <tr style=\"text-align: right;\">\n",
       "      <th></th>\n",
       "      <th>PCT_DESCONTO</th>\n",
       "      <th>VL_PRECO</th>\n",
       "      <th>QT_VENDA</th>\n",
       "    </tr>\n",
       "  </thead>\n",
       "  <tbody>\n",
       "    <tr>\n",
       "      <th>PCT_DESCONTO</th>\n",
       "      <td>1.000000</td>\n",
       "      <td>-0.031468</td>\n",
       "      <td>0.006591</td>\n",
       "    </tr>\n",
       "    <tr>\n",
       "      <th>VL_PRECO</th>\n",
       "      <td>-0.031468</td>\n",
       "      <td>1.000000</td>\n",
       "      <td>0.100871</td>\n",
       "    </tr>\n",
       "    <tr>\n",
       "      <th>QT_VENDA</th>\n",
       "      <td>0.006591</td>\n",
       "      <td>0.100871</td>\n",
       "      <td>1.000000</td>\n",
       "    </tr>\n",
       "  </tbody>\n",
       "</table>\n",
       "</div>"
      ],
      "text/plain": [
       "              PCT_DESCONTO  VL_PRECO  QT_VENDA\n",
       "PCT_DESCONTO      1.000000 -0.031468  0.006591\n",
       "VL_PRECO         -0.031468  1.000000  0.100871\n",
       "QT_VENDA          0.006591  0.100871  1.000000"
      ]
     },
     "execution_count": 6,
     "metadata": {},
     "output_type": "execute_result"
    }
   ],
   "source": [
    "df[['PCT_DESCONTO', 'VL_PRECO', 'QT_VENDA']].corr()"
   ]
  },
  {
   "cell_type": "markdown",
   "metadata": {},
   "source": [
    "Aqui podemos observar uma correlação baixa entre preço e quantidade de venda, ou seja, não necessariamente itens mais baratos venderão mais."
   ]
  },
  {
   "cell_type": "code",
   "execution_count": 7,
   "metadata": {
    "tags": []
   },
   "outputs": [
    {
     "data": {
      "text/html": [
       "<div>\n",
       "<style scoped>\n",
       "    .dataframe tbody tr th:only-of-type {\n",
       "        vertical-align: middle;\n",
       "    }\n",
       "\n",
       "    .dataframe tbody tr th {\n",
       "        vertical-align: top;\n",
       "    }\n",
       "\n",
       "    .dataframe thead th {\n",
       "        text-align: right;\n",
       "    }\n",
       "</style>\n",
       "<table border=\"1\" class=\"dataframe\">\n",
       "  <thead>\n",
       "    <tr style=\"text-align: right;\">\n",
       "      <th></th>\n",
       "      <th>count</th>\n",
       "      <th>mean</th>\n",
       "      <th>std</th>\n",
       "      <th>min</th>\n",
       "      <th>25%</th>\n",
       "      <th>50%</th>\n",
       "      <th>75%</th>\n",
       "      <th>max</th>\n",
       "    </tr>\n",
       "  </thead>\n",
       "  <tbody>\n",
       "    <tr>\n",
       "      <th>PCT_DESCONTO</th>\n",
       "      <td>16780.0</td>\n",
       "      <td>19.461982</td>\n",
       "      <td>77.696194</td>\n",
       "      <td>0.00</td>\n",
       "      <td>15.0</td>\n",
       "      <td>20.0</td>\n",
       "      <td>25.035</td>\n",
       "      <td>10000.00</td>\n",
       "    </tr>\n",
       "    <tr>\n",
       "      <th>VL_PRECO</th>\n",
       "      <td>52088.0</td>\n",
       "      <td>544.998243</td>\n",
       "      <td>250.925173</td>\n",
       "      <td>234.06</td>\n",
       "      <td>389.4</td>\n",
       "      <td>461.4</td>\n",
       "      <td>593.400</td>\n",
       "      <td>5539.62</td>\n",
       "    </tr>\n",
       "    <tr>\n",
       "      <th>QT_VENDA</th>\n",
       "      <td>48946.0</td>\n",
       "      <td>34004.046275</td>\n",
       "      <td>98123.669055</td>\n",
       "      <td>235.00</td>\n",
       "      <td>810.0</td>\n",
       "      <td>5880.0</td>\n",
       "      <td>29964.000</td>\n",
       "      <td>4047372.00</td>\n",
       "    </tr>\n",
       "  </tbody>\n",
       "</table>\n",
       "</div>"
      ],
      "text/plain": [
       "                count          mean           std     min    25%     50%  \\\n",
       "PCT_DESCONTO  16780.0     19.461982     77.696194    0.00   15.0    20.0   \n",
       "VL_PRECO      52088.0    544.998243    250.925173  234.06  389.4   461.4   \n",
       "QT_VENDA      48946.0  34004.046275  98123.669055  235.00  810.0  5880.0   \n",
       "\n",
       "                    75%         max  \n",
       "PCT_DESCONTO     25.035    10000.00  \n",
       "VL_PRECO        593.400     5539.62  \n",
       "QT_VENDA      29964.000  4047372.00  "
      ]
     },
     "execution_count": 7,
     "metadata": {},
     "output_type": "execute_result"
    }
   ],
   "source": [
    "df[['PCT_DESCONTO', 'VL_PRECO', 'QT_VENDA']].describe().T"
   ]
  },
  {
   "cell_type": "markdown",
   "metadata": {},
   "source": [
    "Pelas descritiva acima, podemos ver que a variável 'pct_desconto' possui outliers. Mas não vamos nos preocupar com essa questão, pois no pré processamento ela será descartada por conter muitos valores faltantes. Vamos agora analisar a distribuição das demais variáveis."
   ]
  },
  {
   "cell_type": "code",
   "execution_count": 8,
   "metadata": {
    "tags": []
   },
   "outputs": [
    {
     "data": {
      "text/plain": [
       "anon_S5     14053\n",
       "anon_S2     12870\n",
       "anon_S12    12828\n",
       "anon_S11     7018\n",
       "anon_S18     3120\n",
       "anon_S30     2205\n",
       "Name: DES_CATEGORIA_MATERIAL, dtype: int64"
      ]
     },
     "execution_count": 8,
     "metadata": {},
     "output_type": "execute_result"
    }
   ],
   "source": [
    "df['DES_CATEGORIA_MATERIAL'].value_counts()"
   ]
  },
  {
   "cell_type": "code",
   "execution_count": 9,
   "metadata": {
    "tags": []
   },
   "outputs": [
    {
     "data": {
      "text/plain": [
       "anon_S8     10302\n",
       "anon_S24     7361\n",
       "anon_S23     3649\n",
       "anon_S22     3513\n",
       "anon_S20     3333\n",
       "            ...  \n",
       "anon_S92        1\n",
       "anon_S80        1\n",
       "anon_S87        1\n",
       "anon_S82        1\n",
       "anon_S84        1\n",
       "Name: DES_MARCA_MATERIAL, Length: 85, dtype: int64"
      ]
     },
     "execution_count": 9,
     "metadata": {},
     "output_type": "execute_result"
    }
   ],
   "source": [
    "df['DES_MARCA_MATERIAL'].value_counts()"
   ]
  },
  {
   "cell_type": "markdown",
   "metadata": {},
   "source": [
    "Vamos que esta última feature possui uma cardinalidade alta. Vamos, por agora, considerar apenas os 10 valores mais frequentes, e agrupar os demais em uma única categoria chamada 'other'."
   ]
  },
  {
   "cell_type": "code",
   "execution_count": 10,
   "metadata": {
    "tags": []
   },
   "outputs": [],
   "source": [
    "counts = df['DES_MARCA_MATERIAL'].value_counts()\n",
    "to_group = counts[counts < 1525].index.tolist()\n",
    "df['DES_MARCA_MATERIAL'] = df['DES_MARCA_MATERIAL'].replace(to_group, 'Other')"
   ]
  },
  {
   "cell_type": "code",
   "execution_count": 11,
   "metadata": {
    "tags": []
   },
   "outputs": [
    {
     "data": {
      "text/plain": [
       "Other       13844\n",
       "anon_S8     10302\n",
       "anon_S24     7361\n",
       "anon_S23     3649\n",
       "anon_S22     3513\n",
       "anon_S20     3333\n",
       "anon_S17     2347\n",
       "anon_S21     2282\n",
       "anon_S6      2039\n",
       "anon_S9      1898\n",
       "anon_S4      1526\n",
       "Name: DES_MARCA_MATERIAL, dtype: int64"
      ]
     },
     "execution_count": 11,
     "metadata": {},
     "output_type": "execute_result"
    }
   ],
   "source": [
    "df['DES_MARCA_MATERIAL'].value_counts()"
   ]
  },
  {
   "cell_type": "code",
   "execution_count": 12,
   "metadata": {
    "tags": []
   },
   "outputs": [
    {
     "data": {
      "text/plain": [
       "53"
      ]
     },
     "execution_count": 12,
     "metadata": {},
     "output_type": "execute_result"
    }
   ],
   "source": [
    "df['COD_CICLO'].nunique()"
   ]
  },
  {
   "cell_type": "code",
   "execution_count": 13,
   "metadata": {
    "tags": []
   },
   "outputs": [
    {
     "data": {
      "text/plain": [
       "array([201801, 201802, 201803, 201804, 201805, 201806, 201807, 201808,\n",
       "       201809, 201810, 201811, 201812, 201813, 201814, 201815, 201816,\n",
       "       201817, 201818, 201901, 201902, 201903, 201904, 201905, 201906,\n",
       "       201907, 201908, 201909, 201910, 201911, 201912, 201913, 201914,\n",
       "       201915, 201916, 201917, 202001, 202002, 202003, 202004, 202005,\n",
       "       202006, 202007, 202008, 202009, 202010, 202011, 202012, 202013,\n",
       "       202014, 202015, 202016, 202017, 202101])"
      ]
     },
     "execution_count": 13,
     "metadata": {},
     "output_type": "execute_result"
    }
   ],
   "source": [
    "df['COD_CICLO'].sort_values().unique()"
   ]
  },
  {
   "cell_type": "code",
   "execution_count": 14,
   "metadata": {
    "tags": []
   },
   "outputs": [
    {
     "data": {
      "text/plain": [
       "202017    1053\n",
       "202016    1049\n",
       "202101    1046\n",
       "Name: COD_CICLO, dtype: int64"
      ]
     },
     "execution_count": 14,
     "metadata": {},
     "output_type": "execute_result"
    }
   ],
   "source": [
    "df[df['QT_VENDA'].isna()]['COD_CICLO'].value_counts()"
   ]
  },
  {
   "cell_type": "markdown",
   "metadata": {},
   "source": [
    "Aqui vemos que os dados faltantes em 'QT_VENDA' se referem aos ciclos para os quais queremos fazer as previsões. Portanto, não temos o ground-truth associado a estes ciclos."
   ]
  },
  {
   "cell_type": "code",
   "execution_count": 15,
   "metadata": {
    "tags": []
   },
   "outputs": [
    {
     "data": {
      "text/plain": [
       "FLG_CAMPANHA_MKT_A    36124\n",
       "FLG_CAMPANHA_MKT_B    13577\n",
       "FLG_CAMPANHA_MKT_D     2213\n",
       "FLG_CAMPANHA_MKT_C      180\n",
       "Name: CAMPANHA_MKT, dtype: int64"
      ]
     },
     "execution_count": 15,
     "metadata": {},
     "output_type": "execute_result"
    }
   ],
   "source": [
    "# categorizing the campaing variables in order to plot their distribution\n",
    "df_cat = df.loc[:,['FLG_CAMPANHA_MKT_A', 'FLG_CAMPANHA_MKT_B', 'FLG_CAMPANHA_MKT_C', 'FLG_CAMPANHA_MKT_D', 'FLG_CAMPANHA_MKT_E', 'FLG_CAMPANHA_MKT_F']]\n",
    "df_cat['CAMPANHA_MKT'] = df_cat.idxmax(axis=1)\n",
    "df_cat['CAMPANHA_MKT'].value_counts()"
   ]
  },
  {
   "cell_type": "markdown",
   "metadata": {},
   "source": [
    "Note que não há registros correspondentes às campanhas E e F."
   ]
  },
  {
   "cell_type": "code",
   "execution_count": 16,
   "metadata": {
    "tags": []
   },
   "outputs": [],
   "source": [
    "# função que plota a distribuição das variáveis categóricas\n",
    "def plot_distr(var, n_row, n_col, title, rotation, data, hue = None):\n",
    "    f = sns.countplot(ax = axes[n_row, n_col], x = var, data = data, hue = hue, order = data[var].value_counts().index)\n",
    "    f.set(title = title, ylabel = 'Frequência Absoluta')\n",
    "    f.tick_params(axis=\"x\", rotation = rotation)\n",
    "    return None"
   ]
  },
  {
   "cell_type": "code",
   "execution_count": 17,
   "metadata": {
    "tags": []
   },
   "outputs": [
    {
     "data": {
      "image/png": "[encoded data removed]",
      "text/plain": [
       "<Figure size 1152x1440 with 4 Axes>"
      ]
     },
     "metadata": {},
     "output_type": "display_data"
    }
   ],
   "source": [
    "fig, axes = plt.subplots(2, 2, figsize=(16, 20))\n",
    "plot_distr('DES_CATEGORIA_MATERIAL', 0, 0, 'Categoria do produto', 0, df)\n",
    "plot_distr('DES_MARCA_MATERIAL', 0, 1, 'Marca do produto', 60, df)\n",
    "plot_distr('FLG_DATA', 1, 0, 'Datas Festivas', 0, df)\n",
    "plot_distr('CAMPANHA_MKT', 1, 1, 'Campanhas de marketing', 45, df_cat)"
   ]
  },
  {
   "cell_type": "markdown",
   "metadata": {},
   "source": [
    "Vamos fazer agora uma análise bivariada para entender como variam preço e quantidade vendida."
   ]
  },
  {
   "cell_type": "code",
   "execution_count": 18,
   "metadata": {
    "tags": []
   },
   "outputs": [
    {
     "data": {
      "text/plain": [
       "<AxesSubplot:xlabel='QT_VENDA', ylabel='VL_PRECO'>"
      ]
     },
     "execution_count": 18,
     "metadata": {},
     "output_type": "execute_result"
    },
    {
     "data": {
      "image/png": "[encoded data removed]",
      "text/plain": [
       "<Figure size 432x288 with 1 Axes>"
      ]
     },
     "metadata": {},
     "output_type": "display_data"
    }
   ],
   "source": [
    "sns.scatterplot(data=df, x='QT_VENDA', y='VL_PRECO')"
   ]
  },
  {
   "cell_type": "markdown",
   "metadata": {},
   "source": [
    "Vemos que parece não haver uma correlação significativa entre essas variáveis. Agora, vamos avaliar o comportamento temporal da quantidade de vendas."
   ]
  },
  {
   "cell_type": "code",
   "execution_count": 19,
   "metadata": {
    "tags": []
   },
   "outputs": [
    {
     "data": {
      "text/plain": [
       "(0, 14)"
      ]
     },
     "execution_count": 19,
     "metadata": {},
     "output_type": "execute_result"
    }
   ],
   "source": [
    "df_no_sale = df[df['QT_VENDA']==0.0]\n",
    "df_no_sale.shape"
   ]
  },
  {
   "cell_type": "code",
   "execution_count": 20,
   "metadata": {
    "tags": []
   },
   "outputs": [
    {
     "data": {
      "image/png": "[encoded data removed]",
      "text/plain": [
       "<Figure size 432x288 with 1 Axes>"
      ]
     },
     "metadata": {},
     "output_type": "display_data"
    }
   ],
   "source": [
    "f = sns.lineplot(data= df, x='COD_CICLO', y='QT_VENDA')\n",
    "f.set(title = 'Evolução temporal da média da quantidade de vendas', xlabel = 'Ciclo', ylabel = 'Quantidade de vendas')\n",
    "plt.show()"
   ]
  },
  {
   "cell_type": "markdown",
   "metadata": {},
   "source": [
    "Vamos checar se esta série temporal é estacionária, como aparenta ser, após tratamento dos dados faltantes. Utilizaremos para tanto o teste ADF (Augmented Dickey-Fuller). Por hora vamos checar como a série se comporta em ciclos com dias festivos versus ciclos sem dias festivos."
   ]
  },
  {
   "cell_type": "code",
   "execution_count": 21,
   "metadata": {
    "tags": []
   },
   "outputs": [
    {
     "data": {
      "text/html": [
       "<div>\n",
       "<style scoped>\n",
       "    .dataframe tbody tr th:only-of-type {\n",
       "        vertical-align: middle;\n",
       "    }\n",
       "\n",
       "    .dataframe tbody tr th {\n",
       "        vertical-align: top;\n",
       "    }\n",
       "\n",
       "    .dataframe thead th {\n",
       "        text-align: right;\n",
       "    }\n",
       "</style>\n",
       "<table border=\"1\" class=\"dataframe\">\n",
       "  <thead>\n",
       "    <tr style=\"text-align: right;\">\n",
       "      <th></th>\n",
       "      <th>COD_MATERIAL</th>\n",
       "      <th>COD_CICLO</th>\n",
       "      <th>DES_CATEGORIA_MATERIAL</th>\n",
       "      <th>DES_MARCA_MATERIAL</th>\n",
       "      <th>FLG_DATA</th>\n",
       "      <th>FLG_CAMPANHA_MKT_A</th>\n",
       "      <th>FLG_CAMPANHA_MKT_B</th>\n",
       "      <th>FLG_CAMPANHA_MKT_C</th>\n",
       "      <th>FLG_CAMPANHA_MKT_D</th>\n",
       "      <th>FLG_CAMPANHA_MKT_E</th>\n",
       "      <th>FLG_CAMPANHA_MKT_F</th>\n",
       "      <th>PCT_DESCONTO</th>\n",
       "      <th>VL_PRECO</th>\n",
       "      <th>QT_VENDA</th>\n",
       "    </tr>\n",
       "  </thead>\n",
       "  <tbody>\n",
       "    <tr>\n",
       "      <th>0</th>\n",
       "      <td>6246</td>\n",
       "      <td>201908</td>\n",
       "      <td>anon_S12</td>\n",
       "      <td>Other</td>\n",
       "      <td>1</td>\n",
       "      <td>0.0</td>\n",
       "      <td>0.0</td>\n",
       "      <td>0.0</td>\n",
       "      <td>0.0</td>\n",
       "      <td>0.0</td>\n",
       "      <td>0.0</td>\n",
       "      <td>NaN</td>\n",
       "      <td>461.40</td>\n",
       "      <td>240.0</td>\n",
       "    </tr>\n",
       "    <tr>\n",
       "      <th>2</th>\n",
       "      <td>6306</td>\n",
       "      <td>201916</td>\n",
       "      <td>anon_S12</td>\n",
       "      <td>Other</td>\n",
       "      <td>1</td>\n",
       "      <td>0.0</td>\n",
       "      <td>0.0</td>\n",
       "      <td>0.0</td>\n",
       "      <td>0.0</td>\n",
       "      <td>0.0</td>\n",
       "      <td>0.0</td>\n",
       "      <td>NaN</td>\n",
       "      <td>521.40</td>\n",
       "      <td>240.0</td>\n",
       "    </tr>\n",
       "    <tr>\n",
       "      <th>9</th>\n",
       "      <td>6480</td>\n",
       "      <td>201807</td>\n",
       "      <td>anon_S12</td>\n",
       "      <td>anon_S17</td>\n",
       "      <td>1</td>\n",
       "      <td>0.0</td>\n",
       "      <td>0.0</td>\n",
       "      <td>0.0</td>\n",
       "      <td>0.0</td>\n",
       "      <td>0.0</td>\n",
       "      <td>0.0</td>\n",
       "      <td>NaN</td>\n",
       "      <td>798.18</td>\n",
       "      <td>678.0</td>\n",
       "    </tr>\n",
       "    <tr>\n",
       "      <th>11</th>\n",
       "      <td>6480</td>\n",
       "      <td>201809</td>\n",
       "      <td>anon_S12</td>\n",
       "      <td>anon_S17</td>\n",
       "      <td>1</td>\n",
       "      <td>0.0</td>\n",
       "      <td>0.0</td>\n",
       "      <td>0.0</td>\n",
       "      <td>0.0</td>\n",
       "      <td>0.0</td>\n",
       "      <td>0.0</td>\n",
       "      <td>NaN</td>\n",
       "      <td>833.40</td>\n",
       "      <td>498.0</td>\n",
       "    </tr>\n",
       "    <tr>\n",
       "      <th>16</th>\n",
       "      <td>6528</td>\n",
       "      <td>201908</td>\n",
       "      <td>anon_S12</td>\n",
       "      <td>Other</td>\n",
       "      <td>1</td>\n",
       "      <td>0.0</td>\n",
       "      <td>0.0</td>\n",
       "      <td>0.0</td>\n",
       "      <td>0.0</td>\n",
       "      <td>0.0</td>\n",
       "      <td>0.0</td>\n",
       "      <td>NaN</td>\n",
       "      <td>403.50</td>\n",
       "      <td>240.0</td>\n",
       "    </tr>\n",
       "  </tbody>\n",
       "</table>\n",
       "</div>"
      ],
      "text/plain": [
       "    COD_MATERIAL  COD_CICLO DES_CATEGORIA_MATERIAL DES_MARCA_MATERIAL  \\\n",
       "0           6246     201908               anon_S12              Other   \n",
       "2           6306     201916               anon_S12              Other   \n",
       "9           6480     201807               anon_S12           anon_S17   \n",
       "11          6480     201809               anon_S12           anon_S17   \n",
       "16          6528     201908               anon_S12              Other   \n",
       "\n",
       "    FLG_DATA  FLG_CAMPANHA_MKT_A  FLG_CAMPANHA_MKT_B  FLG_CAMPANHA_MKT_C  \\\n",
       "0          1                 0.0                 0.0                 0.0   \n",
       "2          1                 0.0                 0.0                 0.0   \n",
       "9          1                 0.0                 0.0                 0.0   \n",
       "11         1                 0.0                 0.0                 0.0   \n",
       "16         1                 0.0                 0.0                 0.0   \n",
       "\n",
       "    FLG_CAMPANHA_MKT_D  FLG_CAMPANHA_MKT_E  FLG_CAMPANHA_MKT_F  PCT_DESCONTO  \\\n",
       "0                  0.0                 0.0                 0.0           NaN   \n",
       "2                  0.0                 0.0                 0.0           NaN   \n",
       "9                  0.0                 0.0                 0.0           NaN   \n",
       "11                 0.0                 0.0                 0.0           NaN   \n",
       "16                 0.0                 0.0                 0.0           NaN   \n",
       "\n",
       "    VL_PRECO  QT_VENDA  \n",
       "0     461.40     240.0  \n",
       "2     521.40     240.0  \n",
       "9     798.18     678.0  \n",
       "11    833.40     498.0  \n",
       "16    403.50     240.0  "
      ]
     },
     "execution_count": 21,
     "metadata": {},
     "output_type": "execute_result"
    }
   ],
   "source": [
    "df_festa = df[df['FLG_DATA']==1]\n",
    "df_festa.head()"
   ]
  },
  {
   "cell_type": "code",
   "execution_count": 22,
   "metadata": {
    "tags": []
   },
   "outputs": [
    {
     "data": {
      "image/png": "[encoded data removed]",
      "text/plain": [
       "<Figure size 432x288 with 1 Axes>"
      ]
     },
     "metadata": {},
     "output_type": "display_data"
    }
   ],
   "source": [
    "f = sns.lineplot(data= df_festa, x='COD_CICLO', y='QT_VENDA')\n",
    "f.set(title = 'Evolução temporal da quantidade de vendas em períodos com feriados', xlabel = 'Ciclo', ylabel = 'Quantidade de vendas')\n",
    "plt.show()"
   ]
  },
  {
   "cell_type": "code",
   "execution_count": 23,
   "metadata": {
    "tags": []
   },
   "outputs": [
    {
     "data": {
      "image/png": "[encoded data removed]",
      "text/plain": [
       "<Figure size 432x288 with 1 Axes>"
      ]
     },
     "metadata": {},
     "output_type": "display_data"
    }
   ],
   "source": [
    "df_normal = df[df['FLG_DATA']!=1]\n",
    "f = sns.lineplot(data= df_normal, x='COD_CICLO', y='QT_VENDA')\n",
    "f.set(title = 'Evolução temporal da quantidade de vendas em períodos sem feriados', xlabel = 'Ciclo', ylabel = 'Quantidade de vendas')\n",
    "plt.show()"
   ]
  },
  {
   "cell_type": "markdown",
   "metadata": {},
   "source": [
    "Podemos notar comportamentos distintos em ambos os casos com relação a quantidade de vendas, o que pode induzir uma sazonalidade na série."
   ]
  },
  {
   "cell_type": "markdown",
   "metadata": {},
   "source": [
    "## Pré-processamento e engenharia de features"
   ]
  },
  {
   "cell_type": "markdown",
   "metadata": {},
   "source": [
    "Primeiramente vamos eliminar a coluna 'PCT_DESCONTO' devido ao fato de possuir a maior parte de registros com valor faltante e a coluna 'COD_MATERIAL' por não trazer informação relevante para a análise."
   ]
  },
  {
   "cell_type": "code",
   "execution_count": 24,
   "metadata": {
    "tags": []
   },
   "outputs": [
    {
     "data": {
      "text/plain": [
       "COD_CICLO                    0\n",
       "DES_CATEGORIA_MATERIAL       0\n",
       "DES_MARCA_MATERIAL           0\n",
       "FLG_DATA                     0\n",
       "FLG_CAMPANHA_MKT_A           0\n",
       "FLG_CAMPANHA_MKT_B           0\n",
       "FLG_CAMPANHA_MKT_C           0\n",
       "FLG_CAMPANHA_MKT_D           0\n",
       "FLG_CAMPANHA_MKT_E           0\n",
       "FLG_CAMPANHA_MKT_F           0\n",
       "VL_PRECO                     6\n",
       "QT_VENDA                  3148\n",
       "dtype: int64"
      ]
     },
     "execution_count": 24,
     "metadata": {},
     "output_type": "execute_result"
    }
   ],
   "source": [
    "df_no_missing = df.drop({'PCT_DESCONTO', 'COD_MATERIAL'}, axis=1)\n",
    "df_no_missing.isna().sum()"
   ]
  },
  {
   "cell_type": "code",
   "execution_count": 25,
   "metadata": {
    "tags": []
   },
   "outputs": [
    {
     "data": {
      "text/plain": [
       "COD_CICLO                 0\n",
       "DES_CATEGORIA_MATERIAL    0\n",
       "DES_MARCA_MATERIAL        0\n",
       "FLG_DATA                  0\n",
       "FLG_CAMPANHA_MKT_A        0\n",
       "FLG_CAMPANHA_MKT_B        0\n",
       "FLG_CAMPANHA_MKT_C        0\n",
       "FLG_CAMPANHA_MKT_D        0\n",
       "FLG_CAMPANHA_MKT_E        0\n",
       "FLG_CAMPANHA_MKT_F        0\n",
       "VL_PRECO                  0\n",
       "QT_VENDA                  0\n",
       "dtype: int64"
      ]
     },
     "execution_count": 25,
     "metadata": {},
     "output_type": "execute_result"
    }
   ],
   "source": [
    "df_no_missing.dropna(inplace=True)\n",
    "df_no_missing.isna().sum()"
   ]
  },
  {
   "cell_type": "code",
   "execution_count": 26,
   "metadata": {
    "tags": []
   },
   "outputs": [
    {
     "data": {
      "text/plain": [
       "48940"
      ]
     },
     "execution_count": 26,
     "metadata": {},
     "output_type": "execute_result"
    }
   ],
   "source": [
    "len(df_no_missing)"
   ]
  },
  {
   "cell_type": "code",
   "execution_count": 27,
   "metadata": {
    "tags": []
   },
   "outputs": [],
   "source": [
    "df_no_missing.set_index('COD_CICLO', inplace=True)\n",
    "df_no_missing.sort_index(inplace=True)"
   ]
  },
  {
   "cell_type": "code",
   "execution_count": 28,
   "metadata": {
    "tags": []
   },
   "outputs": [],
   "source": [
    "from statsmodels.tsa.stattools import adfuller\n",
    "est = adfuller(df_no_missing['QT_VENDA'])"
   ]
  },
  {
   "cell_type": "code",
   "execution_count": 29,
   "metadata": {
    "tags": []
   },
   "outputs": [
    {
     "name": "stdout",
     "output_type": "stream",
     "text": [
      "ADF Statistic: -24.556136170336043\n",
      "p-value: 0.0\n"
     ]
    }
   ],
   "source": [
    "print('ADF Statistic:', est[0])\n",
    "print('p-value:', est[1])"
   ]
  },
  {
   "cell_type": "markdown",
   "metadata": {},
   "source": [
    "Como o p-value é nulo, podemos assumir que a série é estacionária."
   ]
  },
  {
   "cell_type": "code",
   "execution_count": 30,
   "metadata": {
    "tags": []
   },
   "outputs": [
    {
     "data": {
      "text/plain": [
       "(6089, 11)"
      ]
     },
     "execution_count": 30,
     "metadata": {},
     "output_type": "execute_result"
    }
   ],
   "source": [
    "msk = (df_no_missing.index < 202010)\n",
    "df_train = df_no_missing[msk].copy()\n",
    "df_test = df_no_missing[~msk].copy()\n",
    "df_test.shape"
   ]
  },
  {
   "cell_type": "code",
   "execution_count": 31,
   "metadata": {
    "tags": []
   },
   "outputs": [
    {
     "data": {
      "text/plain": [
       "Int64Index([201801, 201802, 201803, 201804, 201805, 201806, 201807, 201808,\n",
       "            201809, 201810, 201811, 201812, 201813, 201814, 201815, 201816,\n",
       "            201817, 201818, 201901, 201902, 201903, 201904, 201905, 201906,\n",
       "            201907, 201908, 201909, 201910, 201911, 201912, 201913, 201914,\n",
       "            201915, 201916, 201917, 202001, 202002, 202003, 202004, 202005,\n",
       "            202006, 202007, 202008, 202009],\n",
       "           dtype='int64', name='COD_CICLO')"
      ]
     },
     "execution_count": 31,
     "metadata": {},
     "output_type": "execute_result"
    }
   ],
   "source": [
    "df_train.index.unique()"
   ]
  },
  {
   "cell_type": "code",
   "execution_count": 32,
   "metadata": {
    "tags": []
   },
   "outputs": [
    {
     "data": {
      "text/plain": [
       "44"
      ]
     },
     "execution_count": 32,
     "metadata": {},
     "output_type": "execute_result"
    }
   ],
   "source": [
    "df_train.index.nunique()"
   ]
  },
  {
   "cell_type": "markdown",
   "metadata": {},
   "source": [
    "## Modelagem preditiva: ARIMA vs XGBoost\n",
    "\n"
   ]
  },
  {
   "cell_type": "code",
   "execution_count": 33,
   "metadata": {
    "tags": []
   },
   "outputs": [
    {
     "data": {
      "text/plain": [
       "COD_CICLO\n",
       "201801    355218.0\n",
       "201801      1140.0\n",
       "201801       480.0\n",
       "201801     50142.0\n",
       "201801     85554.0\n",
       "            ...   \n",
       "202009    119214.0\n",
       "202009     11490.0\n",
       "202009       486.0\n",
       "202009      1866.0\n",
       "202009      1068.0\n",
       "Name: QT_VENDA, Length: 42851, dtype: float64"
      ]
     },
     "execution_count": 33,
     "metadata": {},
     "output_type": "execute_result"
    }
   ],
   "source": [
    "series = df_train.loc[:, 'QT_VENDA']\n",
    "series"
   ]
  },
  {
   "cell_type": "code",
   "execution_count": 34,
   "metadata": {
    "tags": []
   },
   "outputs": [
    {
     "data": {
      "image/png": "[encoded data removed]",
      "text/plain": [
       "<Figure size 432x288 with 1 Axes>"
      ]
     },
     "metadata": {},
     "output_type": "display_data"
    }
   ],
   "source": [
    "autocorrelation_plot(series)\n",
    "plt.show()"
   ]
  },
  {
   "cell_type": "markdown",
   "metadata": {},
   "source": [
    "Pelo gráfico acima percebemos que praticamente não há auto-correlação, indidicando que o parâmetro p, ou a componente AR do método, pode ser escolhida como nula."
   ]
  },
  {
   "cell_type": "code",
   "execution_count": 35,
   "metadata": {
    "tags": []
   },
   "outputs": [
    {
     "name": "stderr",
     "output_type": "stream",
     "text": [
      "/Users/grasiele/opt/anaconda3/lib/python3.8/site-packages/statsmodels/graphics/tsaplots.py:348: FutureWarning: The default method 'yw' can produce PACF values outside of the [-1,1] interval. After 0.13, the default will change tounadjusted Yule-Walker ('ywm'). You can use this method now by setting method='ywm'.\n",
      "  warnings.warn(\n"
     ]
    },
    {
     "data": {
      "image/png": "[encoded data removed]",
      "text/plain": [
       "<Figure size 432x288 with 1 Axes>"
      ]
     },
     "metadata": {},
     "output_type": "display_data"
    }
   ],
   "source": [
    "pacf_original = plot_pacf(series)"
   ]
  },
  {
   "cell_type": "markdown",
   "metadata": {},
   "source": [
    "### Experimento 1"
   ]
  },
  {
   "cell_type": "code",
   "execution_count": 36,
   "metadata": {
    "tags": []
   },
   "outputs": [],
   "source": [
    "# usanto auto-arima para a escolha dos parâmetros de ordem\n",
    "#import pmdarima as pm\n",
    "#auto_arima = pm.auto_arima(series, seasonal=True)\n",
    "#auto_arima"
   ]
  },
  {
   "cell_type": "code",
   "execution_count": 37,
   "metadata": {
    "tags": []
   },
   "outputs": [
    {
     "name": "stderr",
     "output_type": "stream",
     "text": [
      "/Users/grasiele/opt/anaconda3/lib/python3.8/site-packages/statsmodels/tsa/base/tsa_model.py:471: ValueWarning: An unsupported index was provided and will be ignored when e.g. forecasting.\n",
      "  self._init_dates(dates, freq)\n",
      "/Users/grasiele/opt/anaconda3/lib/python3.8/site-packages/statsmodels/tsa/base/tsa_model.py:471: ValueWarning: An unsupported index was provided and will be ignored when e.g. forecasting.\n",
      "  self._init_dates(dates, freq)\n",
      "/Users/grasiele/opt/anaconda3/lib/python3.8/site-packages/statsmodels/tsa/base/tsa_model.py:471: ValueWarning: An unsupported index was provided and will be ignored when e.g. forecasting.\n",
      "  self._init_dates(dates, freq)\n"
     ]
    }
   ],
   "source": [
    "#model = sm.tsa.SARIMAX(series, order=(5, 1, 0), seasonal_order=(0, 0, 0, 34))\n",
    "model = ARIMA(series, order=(5,1,0))"
   ]
  },
  {
   "cell_type": "code",
   "execution_count": 38,
   "metadata": {
    "tags": []
   },
   "outputs": [],
   "source": [
    "results = model.fit()"
   ]
  },
  {
   "cell_type": "code",
   "execution_count": 39,
   "metadata": {
    "tags": []
   },
   "outputs": [
    {
     "data": {
      "text/html": [
       "<table class=\"simpletable\">\n",
       "<caption>SARIMAX Results</caption>\n",
       "<tr>\n",
       "  <th>Dep. Variable:</th>       <td>QT_VENDA</td>     <th>  No. Observations:  </th>    <td>42851</td>   \n",
       "</tr>\n",
       "<tr>\n",
       "  <th>Model:</th>            <td>ARIMA(5, 1, 0)</td>  <th>  Log Likelihood     </th> <td>-555600.080</td>\n",
       "</tr>\n",
       "<tr>\n",
       "  <th>Date:</th>            <td>Thu, 06 Apr 2023</td> <th>  AIC                </th> <td>1111212.161</td>\n",
       "</tr>\n",
       "<tr>\n",
       "  <th>Time:</th>                <td>17:45:43</td>     <th>  BIC                </th> <td>1111264.153</td>\n",
       "</tr>\n",
       "<tr>\n",
       "  <th>Sample:</th>                  <td>0</td>        <th>  HQIC               </th> <td>1111228.565</td>\n",
       "</tr>\n",
       "<tr>\n",
       "  <th></th>                     <td> - 42851</td>     <th>                     </th>      <td> </td>     \n",
       "</tr>\n",
       "<tr>\n",
       "  <th>Covariance Type:</th>        <td>opg</td>       <th>                     </th>      <td> </td>     \n",
       "</tr>\n",
       "</table>\n",
       "<table class=\"simpletable\">\n",
       "<tr>\n",
       "     <td></td>       <th>coef</th>     <th>std err</th>      <th>z</th>      <th>P>|z|</th>  <th>[0.025</th>    <th>0.975]</th>  \n",
       "</tr>\n",
       "<tr>\n",
       "  <th>ar.L1</th>  <td>   -0.8377</td> <td>    0.002</td> <td> -370.880</td> <td> 0.000</td> <td>   -0.842</td> <td>   -0.833</td>\n",
       "</tr>\n",
       "<tr>\n",
       "  <th>ar.L2</th>  <td>   -0.6739</td> <td>    0.003</td> <td> -233.824</td> <td> 0.000</td> <td>   -0.680</td> <td>   -0.668</td>\n",
       "</tr>\n",
       "<tr>\n",
       "  <th>ar.L3</th>  <td>   -0.5066</td> <td>    0.003</td> <td> -166.942</td> <td> 0.000</td> <td>   -0.513</td> <td>   -0.501</td>\n",
       "</tr>\n",
       "<tr>\n",
       "  <th>ar.L4</th>  <td>   -0.3343</td> <td>    0.003</td> <td> -116.859</td> <td> 0.000</td> <td>   -0.340</td> <td>   -0.329</td>\n",
       "</tr>\n",
       "<tr>\n",
       "  <th>ar.L5</th>  <td>   -0.1619</td> <td>    0.002</td> <td>  -71.262</td> <td> 0.000</td> <td>   -0.166</td> <td>   -0.157</td>\n",
       "</tr>\n",
       "<tr>\n",
       "  <th>sigma2</th> <td> 1.071e+10</td> <td> 1.18e-14</td> <td> 9.06e+23</td> <td> 0.000</td> <td> 1.07e+10</td> <td> 1.07e+10</td>\n",
       "</tr>\n",
       "</table>\n",
       "<table class=\"simpletable\">\n",
       "<tr>\n",
       "  <th>Ljung-Box (L1) (Q):</th>     <td>23.05</td> <th>  Jarque-Bera (JB):  </th> <td>19741072.40</td>\n",
       "</tr>\n",
       "<tr>\n",
       "  <th>Prob(Q):</th>                <td>0.00</td>  <th>  Prob(JB):          </th>    <td>0.00</td>    \n",
       "</tr>\n",
       "<tr>\n",
       "  <th>Heteroskedasticity (H):</th> <td>1.12</td>  <th>  Skew:              </th>    <td>7.26</td>    \n",
       "</tr>\n",
       "<tr>\n",
       "  <th>Prob(H) (two-sided):</th>    <td>0.00</td>  <th>  Kurtosis:          </th>   <td>107.14</td>   \n",
       "</tr>\n",
       "</table><br/><br/>Warnings:<br/>[1] Covariance matrix calculated using the outer product of gradients (complex-step).<br/>[2] Covariance matrix is singular or near-singular, with condition number 8.37e+39. Standard errors may be unstable."
      ],
      "text/plain": [
       "<class 'statsmodels.iolib.summary.Summary'>\n",
       "\"\"\"\n",
       "                               SARIMAX Results                                \n",
       "==============================================================================\n",
       "Dep. Variable:               QT_VENDA   No. Observations:                42851\n",
       "Model:                 ARIMA(5, 1, 0)   Log Likelihood             -555600.080\n",
       "Date:                Thu, 06 Apr 2023   AIC                        1111212.161\n",
       "Time:                        17:45:43   BIC                        1111264.153\n",
       "Sample:                             0   HQIC                       1111228.565\n",
       "                              - 42851                                         \n",
       "Covariance Type:                  opg                                         \n",
       "==============================================================================\n",
       "                 coef    std err          z      P>|z|      [0.025      0.975]\n",
       "------------------------------------------------------------------------------\n",
       "ar.L1         -0.8377      0.002   -370.880      0.000      -0.842      -0.833\n",
       "ar.L2         -0.6739      0.003   -233.824      0.000      -0.680      -0.668\n",
       "ar.L3         -0.5066      0.003   -166.942      0.000      -0.513      -0.501\n",
       "ar.L4         -0.3343      0.003   -116.859      0.000      -0.340      -0.329\n",
       "ar.L5         -0.1619      0.002    -71.262      0.000      -0.166      -0.157\n",
       "sigma2      1.071e+10   1.18e-14   9.06e+23      0.000    1.07e+10    1.07e+10\n",
       "===================================================================================\n",
       "Ljung-Box (L1) (Q):                  23.05   Jarque-Bera (JB):          19741072.40\n",
       "Prob(Q):                              0.00   Prob(JB):                         0.00\n",
       "Heteroskedasticity (H):               1.12   Skew:                             7.26\n",
       "Prob(H) (two-sided):                  0.00   Kurtosis:                       107.14\n",
       "===================================================================================\n",
       "\n",
       "Warnings:\n",
       "[1] Covariance matrix calculated using the outer product of gradients (complex-step).\n",
       "[2] Covariance matrix is singular or near-singular, with condition number 8.37e+39. Standard errors may be unstable.\n",
       "\"\"\""
      ]
     },
     "execution_count": 39,
     "metadata": {},
     "output_type": "execute_result"
    }
   ],
   "source": [
    "results.summary()"
   ]
  },
  {
   "cell_type": "code",
   "execution_count": 40,
   "metadata": {
    "tags": []
   },
   "outputs": [
    {
     "data": {
      "image/png": "[encoded data removed]",
      "text/plain": [
       "<Figure size 864x576 with 2 Axes>"
      ]
     },
     "metadata": {},
     "output_type": "display_data"
    }
   ],
   "source": [
    "residuals = results.resid[1:]\n",
    "fig, ax = plt.subplots(1,2, figsize=(12,8))\n",
    "residuals.plot(title='Residuals', ax=ax[0])\n",
    "residuals.plot(title='Density', kind='kde', ax=ax[1])\n",
    "plt.show()"
   ]
  },
  {
   "cell_type": "code",
   "execution_count": 41,
   "metadata": {
    "tags": []
   },
   "outputs": [
    {
     "name": "stdout",
     "output_type": "stream",
     "text": [
      "count    4.285000e+04\n",
      "mean    -1.235019e+01\n",
      "std      1.034910e+05\n",
      "min     -5.060657e+05\n",
      "25%     -2.849348e+04\n",
      "50%     -1.017727e+04\n",
      "75%      6.644992e+03\n",
      "max      2.613855e+06\n",
      "dtype: float64\n"
     ]
    }
   ],
   "source": [
    "print(residuals.describe())"
   ]
  },
  {
   "cell_type": "markdown",
   "metadata": {
    "tags": []
   },
   "source": [
    "### Avaliação do modelo"
   ]
  },
  {
   "cell_type": "code",
   "execution_count": 42,
   "metadata": {
    "tags": []
   },
   "outputs": [
    {
     "data": {
      "text/plain": [
       "COD_CICLO\n",
       "202010    127662.0\n",
       "202010      1632.0\n",
       "202010    211644.0\n",
       "202010     30330.0\n",
       "202010     24072.0\n",
       "            ...   \n",
       "202015       240.0\n",
       "202015    166968.0\n",
       "202015     88980.0\n",
       "202015      2568.0\n",
       "202015     13314.0\n",
       "Name: QT_VENDA, Length: 6089, dtype: float64"
      ]
     },
     "execution_count": 42,
     "metadata": {},
     "output_type": "execute_result"
    }
   ],
   "source": [
    "#ground-truth\n",
    "series_test = df_test.loc[:, 'QT_VENDA']\n",
    "series_test"
   ]
  },
  {
   "cell_type": "code",
   "execution_count": 43,
   "metadata": {
    "tags": []
   },
   "outputs": [
    {
     "name": "stderr",
     "output_type": "stream",
     "text": [
      "/Users/grasiele/opt/anaconda3/lib/python3.8/site-packages/statsmodels/tsa/base/tsa_model.py:834: ValueWarning: No supported index is available. Prediction results will be given with an integer index beginning at `start`.\n",
      "  return get_prediction_index(\n"
     ]
    },
    {
     "name": "stdout",
     "output_type": "stream",
     "text": [
      "Valor mínimo predito: 10351.568834115407\n",
      "Valor máximo predito: 25614.980080007324\n",
      "0    23212.287948\n",
      "1    25614.980080\n",
      "2    10404.063398\n",
      "3    10351.568834\n",
      "4    12155.403136\n",
      "Name: predicted_mean, dtype: float64\n"
     ]
    }
   ],
   "source": [
    "#predicted values\n",
    "forecast = results.forecast(len(series_test))\n",
    "print(f'Valor mínimo predito: {forecast.min()}')\n",
    "print(f'Valor máximo predito: {forecast.max()}')\n",
    "forecast = forecast.reset_index(drop=True)\n",
    "print(forecast.head())"
   ]
  },
  {
   "cell_type": "code",
   "execution_count": 44,
   "metadata": {
    "tags": []
   },
   "outputs": [
    {
     "data": {
      "image/png": "[encoded data removed]",
      "text/plain": [
       "<Figure size 432x288 with 1 Axes>"
      ]
     },
     "metadata": {},
     "output_type": "display_data"
    }
   ],
   "source": [
    "plt.plot(series_test.values)\n",
    "plt.plot(forecast, color='red')\n",
    "plt.show()"
   ]
  },
  {
   "cell_type": "code",
   "execution_count": 45,
   "metadata": {
    "tags": []
   },
   "outputs": [
    {
     "data": {
      "text/html": [
       "<div>\n",
       "<style scoped>\n",
       "    .dataframe tbody tr th:only-of-type {\n",
       "        vertical-align: middle;\n",
       "    }\n",
       "\n",
       "    .dataframe tbody tr th {\n",
       "        vertical-align: top;\n",
       "    }\n",
       "\n",
       "    .dataframe thead th {\n",
       "        text-align: right;\n",
       "    }\n",
       "</style>\n",
       "<table border=\"1\" class=\"dataframe\">\n",
       "  <thead>\n",
       "    <tr style=\"text-align: right;\">\n",
       "      <th></th>\n",
       "      <th>0</th>\n",
       "      <th>1</th>\n",
       "    </tr>\n",
       "  </thead>\n",
       "  <tbody>\n",
       "    <tr>\n",
       "      <th>ar.L1</th>\n",
       "      <td>-8.421551e-01</td>\n",
       "      <td>-8.333009e-01</td>\n",
       "    </tr>\n",
       "    <tr>\n",
       "      <th>ar.L2</th>\n",
       "      <td>-6.795149e-01</td>\n",
       "      <td>-6.682179e-01</td>\n",
       "    </tr>\n",
       "    <tr>\n",
       "      <th>ar.L3</th>\n",
       "      <td>-5.125973e-01</td>\n",
       "      <td>-5.007008e-01</td>\n",
       "    </tr>\n",
       "    <tr>\n",
       "      <th>ar.L4</th>\n",
       "      <td>-3.398738e-01</td>\n",
       "      <td>-3.286611e-01</td>\n",
       "    </tr>\n",
       "    <tr>\n",
       "      <th>ar.L5</th>\n",
       "      <td>-1.663168e-01</td>\n",
       "      <td>-1.574130e-01</td>\n",
       "    </tr>\n",
       "    <tr>\n",
       "      <th>sigma2</th>\n",
       "      <td>1.071026e+10</td>\n",
       "      <td>1.071026e+10</td>\n",
       "    </tr>\n",
       "  </tbody>\n",
       "</table>\n",
       "</div>"
      ],
      "text/plain": [
       "                   0             1\n",
       "ar.L1  -8.421551e-01 -8.333009e-01\n",
       "ar.L2  -6.795149e-01 -6.682179e-01\n",
       "ar.L3  -5.125973e-01 -5.007008e-01\n",
       "ar.L4  -3.398738e-01 -3.286611e-01\n",
       "ar.L5  -1.663168e-01 -1.574130e-01\n",
       "sigma2  1.071026e+10  1.071026e+10"
      ]
     },
     "execution_count": 45,
     "metadata": {},
     "output_type": "execute_result"
    }
   ],
   "source": [
    "pred_ci = results.conf_int()\n",
    "pred_ci"
   ]
  },
  {
   "cell_type": "code",
   "execution_count": 46,
   "metadata": {
    "tags": []
   },
   "outputs": [
    {
     "name": "stdout",
     "output_type": "stream",
     "text": [
      "mae: 34119.698878151\n",
      "mape: 9.686110268735398\n",
      "rmse: 111541.67218381405\n"
     ]
    }
   ],
   "source": [
    "from sklearn.metrics import mean_absolute_error, mean_absolute_percentage_error, mean_squared_error\n",
    "\n",
    "mae = mean_absolute_error(series_test, forecast)\n",
    "mape = mean_absolute_percentage_error(series_test, forecast)\n",
    "rmse = np.sqrt(mean_squared_error(series_test, forecast))\n",
    "\n",
    "print(f'mae: {mae}')\n",
    "print(f'mape: {mape}')\n",
    "print(f'rmse: {rmse}')"
   ]
  },
  {
   "cell_type": "markdown",
   "metadata": {},
   "source": [
    "Como vemos acima, o modelo não descreve bem nossos dados. Provavelmente isso se deve ao fato de termos múltiplas linhas por item. Assim, faria mais sentido construírmos uma série temporal para cada item, o que fica inviável. Sendo assim, vamos tentar uma nova abordagem, onde vamos treinar um novo modelo para cada ciclo, e depois pegamos a média do forecast de cada ciclo para compor o forecast de novos ciclos."
   ]
  },
  {
   "cell_type": "markdown",
   "metadata": {},
   "source": [
    "### Experimento 2"
   ]
  },
  {
   "cell_type": "code",
   "execution_count": 47,
   "metadata": {
    "tags": []
   },
   "outputs": [],
   "source": [
    "groups = series.groupby(series.index)\n",
    "test_groups = series_test.groupby(series_test.index)"
   ]
  },
  {
   "cell_type": "code",
   "execution_count": 48,
   "metadata": {
    "tags": []
   },
   "outputs": [],
   "source": [
    "import warnings\n",
    "warnings.filterwarnings('ignore')"
   ]
  },
  {
   "cell_type": "code",
   "execution_count": 49,
   "metadata": {
    "tags": []
   },
   "outputs": [],
   "source": [
    "# Fit an ARIMA model for each group\n",
    "models = {}\n",
    "for name, group in groups:\n",
    "    model = ARIMA(group, order=(2, 1, 0))\n",
    "    results = model.fit()\n",
    "    models[name] = results"
   ]
  },
  {
   "cell_type": "code",
   "execution_count": 50,
   "metadata": {
    "tags": []
   },
   "outputs": [
    {
     "data": {
      "text/plain": [
       "997"
      ]
     },
     "execution_count": 50,
     "metadata": {},
     "output_type": "execute_result"
    }
   ],
   "source": [
    "forecast_group = {}\n",
    "for key in models.keys():\n",
    "        model = models[key]\n",
    "        forecast = model.forecast(steps=len(group))\n",
    "        forecast_group[key] = forecast\n",
    "len(np.mean(list(forecast_group.values()), axis=0))"
   ]
  },
  {
   "cell_type": "code",
   "execution_count": 51,
   "metadata": {
    "tags": []
   },
   "outputs": [
    {
     "name": "stdout",
     "output_type": "stream",
     "text": [
      "6089\n"
     ]
    }
   ],
   "source": [
    "forecast_values = {}\n",
    "forecast_group = {}\n",
    "for name, group in test_groups:\n",
    "    for key in models.keys():\n",
    "        model = models[key]\n",
    "        forecast = model.forecast(steps=len(group))\n",
    "        forecast_group[key] = forecast\n",
    "    forecast_values[name] = np.mean(list(forecast_group.values()), axis=0)\n",
    "\n",
    "# Combine the forecasts for each cycle\n",
    "forecasted_values = np.concatenate(list(forecast_values.values()))\n",
    "\n",
    "# Print the length of forecasted values\n",
    "print(len(forecasted_values))"
   ]
  },
  {
   "cell_type": "code",
   "execution_count": 52,
   "metadata": {
    "tags": []
   },
   "outputs": [
    {
     "name": "stdout",
     "output_type": "stream",
     "text": [
      "Test RMSE: 109318.5956096073\n",
      "Test mae: 40935.842021123695\n"
     ]
    },
    {
     "data": {
      "image/png": "[encoded data removed]",
      "text/plain": [
       "<Figure size 432x288 with 1 Axes>"
      ]
     },
     "metadata": {},
     "output_type": "display_data"
    }
   ],
   "source": [
    "rmse = np.sqrt(mean_squared_error(series_test, forecasted_values))\n",
    "mae = mean_absolute_error(series_test, forecasted_values)\n",
    "print(f'Test RMSE: {rmse}')\n",
    "print(f'Test mae: {mae}')\n",
    "plt.plot(series_test.values)\n",
    "plt.plot(forecasted_values, color='red')\n",
    "plt.show()"
   ]
  },
  {
   "cell_type": "markdown",
   "metadata": {},
   "source": [
    "### Experimento 3: XGBoost"
   ]
  },
  {
   "cell_type": "code",
   "execution_count": 72,
   "metadata": {
    "tags": []
   },
   "outputs": [
    {
     "name": "stdout",
     "output_type": "stream",
     "text": [
      "<class 'pandas.core.frame.DataFrame'>\n",
      "RangeIndex: 48940 entries, 0 to 48939\n",
      "Data columns (total 12 columns):\n",
      " #   Column                  Non-Null Count  Dtype  \n",
      "---  ------                  --------------  -----  \n",
      " 0   COD_CICLO               48940 non-null  int64  \n",
      " 1   DES_CATEGORIA_MATERIAL  48940 non-null  object \n",
      " 2   DES_MARCA_MATERIAL      48940 non-null  object \n",
      " 3   FLG_DATA                48940 non-null  int64  \n",
      " 4   FLG_CAMPANHA_MKT_A      48940 non-null  float64\n",
      " 5   FLG_CAMPANHA_MKT_B      48940 non-null  float64\n",
      " 6   FLG_CAMPANHA_MKT_C      48940 non-null  float64\n",
      " 7   FLG_CAMPANHA_MKT_D      48940 non-null  float64\n",
      " 8   FLG_CAMPANHA_MKT_E      48940 non-null  float64\n",
      " 9   FLG_CAMPANHA_MKT_F      48940 non-null  float64\n",
      " 10  VL_PRECO                48940 non-null  float64\n",
      " 11  QT_VENDA                48940 non-null  float64\n",
      "dtypes: float64(8), int64(2), object(2)\n",
      "memory usage: 4.5+ MB\n"
     ]
    }
   ],
   "source": [
    "df_xgb = df_no_missing.copy()\n",
    "df_xgb.reset_index(inplace=True)\n",
    "df_xgb.info()"
   ]
  },
  {
   "cell_type": "code",
   "execution_count": 73,
   "metadata": {
    "tags": []
   },
   "outputs": [
    {
     "data": {
      "text/html": [
       "<div>\n",
       "<style scoped>\n",
       "    .dataframe tbody tr th:only-of-type {\n",
       "        vertical-align: middle;\n",
       "    }\n",
       "\n",
       "    .dataframe tbody tr th {\n",
       "        vertical-align: top;\n",
       "    }\n",
       "\n",
       "    .dataframe thead th {\n",
       "        text-align: right;\n",
       "    }\n",
       "</style>\n",
       "<table border=\"1\" class=\"dataframe\">\n",
       "  <thead>\n",
       "    <tr style=\"text-align: right;\">\n",
       "      <th></th>\n",
       "      <th>COD_CICLO</th>\n",
       "      <th>FLG_DATA</th>\n",
       "      <th>FLG_CAMPANHA_MKT_A</th>\n",
       "      <th>FLG_CAMPANHA_MKT_B</th>\n",
       "      <th>FLG_CAMPANHA_MKT_C</th>\n",
       "      <th>FLG_CAMPANHA_MKT_D</th>\n",
       "      <th>FLG_CAMPANHA_MKT_E</th>\n",
       "      <th>FLG_CAMPANHA_MKT_F</th>\n",
       "      <th>VL_PRECO</th>\n",
       "      <th>QT_VENDA</th>\n",
       "      <th>...</th>\n",
       "      <th>DES_MARCA_MATERIAL_anon_S17</th>\n",
       "      <th>DES_MARCA_MATERIAL_anon_S20</th>\n",
       "      <th>DES_MARCA_MATERIAL_anon_S21</th>\n",
       "      <th>DES_MARCA_MATERIAL_anon_S22</th>\n",
       "      <th>DES_MARCA_MATERIAL_anon_S23</th>\n",
       "      <th>DES_MARCA_MATERIAL_anon_S24</th>\n",
       "      <th>DES_MARCA_MATERIAL_anon_S4</th>\n",
       "      <th>DES_MARCA_MATERIAL_anon_S6</th>\n",
       "      <th>DES_MARCA_MATERIAL_anon_S8</th>\n",
       "      <th>DES_MARCA_MATERIAL_anon_S9</th>\n",
       "    </tr>\n",
       "  </thead>\n",
       "  <tbody>\n",
       "    <tr>\n",
       "      <th>0</th>\n",
       "      <td>201801</td>\n",
       "      <td>0</td>\n",
       "      <td>0.0</td>\n",
       "      <td>1.0</td>\n",
       "      <td>0.5</td>\n",
       "      <td>0.0</td>\n",
       "      <td>0.0</td>\n",
       "      <td>0.0</td>\n",
       "      <td>773.625</td>\n",
       "      <td>355218.0</td>\n",
       "      <td>...</td>\n",
       "      <td>0</td>\n",
       "      <td>0</td>\n",
       "      <td>0</td>\n",
       "      <td>0</td>\n",
       "      <td>0</td>\n",
       "      <td>0</td>\n",
       "      <td>0</td>\n",
       "      <td>0</td>\n",
       "      <td>0</td>\n",
       "      <td>1</td>\n",
       "    </tr>\n",
       "    <tr>\n",
       "      <th>1</th>\n",
       "      <td>201801</td>\n",
       "      <td>0</td>\n",
       "      <td>0.0</td>\n",
       "      <td>0.0</td>\n",
       "      <td>0.0</td>\n",
       "      <td>0.0</td>\n",
       "      <td>0.0</td>\n",
       "      <td>0.0</td>\n",
       "      <td>461.400</td>\n",
       "      <td>1140.0</td>\n",
       "      <td>...</td>\n",
       "      <td>0</td>\n",
       "      <td>0</td>\n",
       "      <td>0</td>\n",
       "      <td>0</td>\n",
       "      <td>0</td>\n",
       "      <td>0</td>\n",
       "      <td>0</td>\n",
       "      <td>0</td>\n",
       "      <td>0</td>\n",
       "      <td>0</td>\n",
       "    </tr>\n",
       "    <tr>\n",
       "      <th>2</th>\n",
       "      <td>201801</td>\n",
       "      <td>0</td>\n",
       "      <td>0.0</td>\n",
       "      <td>0.0</td>\n",
       "      <td>0.0</td>\n",
       "      <td>0.0</td>\n",
       "      <td>0.0</td>\n",
       "      <td>0.0</td>\n",
       "      <td>413.400</td>\n",
       "      <td>480.0</td>\n",
       "      <td>...</td>\n",
       "      <td>0</td>\n",
       "      <td>0</td>\n",
       "      <td>0</td>\n",
       "      <td>0</td>\n",
       "      <td>1</td>\n",
       "      <td>0</td>\n",
       "      <td>0</td>\n",
       "      <td>0</td>\n",
       "      <td>0</td>\n",
       "      <td>0</td>\n",
       "    </tr>\n",
       "    <tr>\n",
       "      <th>3</th>\n",
       "      <td>201801</td>\n",
       "      <td>0</td>\n",
       "      <td>0.0</td>\n",
       "      <td>1.0</td>\n",
       "      <td>0.0</td>\n",
       "      <td>0.0</td>\n",
       "      <td>0.0</td>\n",
       "      <td>0.0</td>\n",
       "      <td>365.400</td>\n",
       "      <td>50142.0</td>\n",
       "      <td>...</td>\n",
       "      <td>0</td>\n",
       "      <td>0</td>\n",
       "      <td>0</td>\n",
       "      <td>0</td>\n",
       "      <td>0</td>\n",
       "      <td>0</td>\n",
       "      <td>0</td>\n",
       "      <td>0</td>\n",
       "      <td>0</td>\n",
       "      <td>0</td>\n",
       "    </tr>\n",
       "    <tr>\n",
       "      <th>4</th>\n",
       "      <td>201801</td>\n",
       "      <td>0</td>\n",
       "      <td>0.0</td>\n",
       "      <td>1.0</td>\n",
       "      <td>0.0</td>\n",
       "      <td>0.0</td>\n",
       "      <td>0.0</td>\n",
       "      <td>0.0</td>\n",
       "      <td>1073.400</td>\n",
       "      <td>85554.0</td>\n",
       "      <td>...</td>\n",
       "      <td>0</td>\n",
       "      <td>1</td>\n",
       "      <td>0</td>\n",
       "      <td>0</td>\n",
       "      <td>0</td>\n",
       "      <td>0</td>\n",
       "      <td>0</td>\n",
       "      <td>0</td>\n",
       "      <td>0</td>\n",
       "      <td>0</td>\n",
       "    </tr>\n",
       "  </tbody>\n",
       "</table>\n",
       "<p>5 rows × 25 columns</p>\n",
       "</div>"
      ],
      "text/plain": [
       "   COD_CICLO  FLG_DATA  FLG_CAMPANHA_MKT_A  FLG_CAMPANHA_MKT_B  \\\n",
       "0     201801         0                 0.0                 1.0   \n",
       "1     201801         0                 0.0                 0.0   \n",
       "2     201801         0                 0.0                 0.0   \n",
       "3     201801         0                 0.0                 1.0   \n",
       "4     201801         0                 0.0                 1.0   \n",
       "\n",
       "   FLG_CAMPANHA_MKT_C  FLG_CAMPANHA_MKT_D  FLG_CAMPANHA_MKT_E  \\\n",
       "0                 0.5                 0.0                 0.0   \n",
       "1                 0.0                 0.0                 0.0   \n",
       "2                 0.0                 0.0                 0.0   \n",
       "3                 0.0                 0.0                 0.0   \n",
       "4                 0.0                 0.0                 0.0   \n",
       "\n",
       "   FLG_CAMPANHA_MKT_F  VL_PRECO  QT_VENDA  ...  DES_MARCA_MATERIAL_anon_S17  \\\n",
       "0                 0.0   773.625  355218.0  ...                            0   \n",
       "1                 0.0   461.400    1140.0  ...                            0   \n",
       "2                 0.0   413.400     480.0  ...                            0   \n",
       "3                 0.0   365.400   50142.0  ...                            0   \n",
       "4                 0.0  1073.400   85554.0  ...                            0   \n",
       "\n",
       "   DES_MARCA_MATERIAL_anon_S20  DES_MARCA_MATERIAL_anon_S21  \\\n",
       "0                            0                            0   \n",
       "1                            0                            0   \n",
       "2                            0                            0   \n",
       "3                            0                            0   \n",
       "4                            1                            0   \n",
       "\n",
       "   DES_MARCA_MATERIAL_anon_S22  DES_MARCA_MATERIAL_anon_S23  \\\n",
       "0                            0                            0   \n",
       "1                            0                            0   \n",
       "2                            0                            1   \n",
       "3                            0                            0   \n",
       "4                            0                            0   \n",
       "\n",
       "   DES_MARCA_MATERIAL_anon_S24  DES_MARCA_MATERIAL_anon_S4  \\\n",
       "0                            0                           0   \n",
       "1                            0                           0   \n",
       "2                            0                           0   \n",
       "3                            0                           0   \n",
       "4                            0                           0   \n",
       "\n",
       "   DES_MARCA_MATERIAL_anon_S6  DES_MARCA_MATERIAL_anon_S8  \\\n",
       "0                           0                           0   \n",
       "1                           0                           0   \n",
       "2                           0                           0   \n",
       "3                           0                           0   \n",
       "4                           0                           0   \n",
       "\n",
       "   DES_MARCA_MATERIAL_anon_S9  \n",
       "0                           1  \n",
       "1                           0  \n",
       "2                           0  \n",
       "3                           0  \n",
       "4                           0  \n",
       "\n",
       "[5 rows x 25 columns]"
      ]
     },
     "execution_count": 73,
     "metadata": {},
     "output_type": "execute_result"
    }
   ],
   "source": [
    "# one-hot encoding categorical variables\n",
    "df_xgb = pd.get_dummies(data=df_xgb, columns=['DES_CATEGORIA_MATERIAL','DES_MARCA_MATERIAL'], drop_first=True)\n",
    "df_xgb.head()"
   ]
  },
  {
   "cell_type": "code",
   "execution_count": 74,
   "metadata": {
    "tags": []
   },
   "outputs": [],
   "source": [
    "from sklearn.model_selection import train_test_split\n",
    "features = df_xgb.drop([\"QT_VENDA\"], axis = 1)\n",
    "target = df_xgb[\"QT_VENDA\"]\n",
    "X_train, X_test, y_train, y_test = train_test_split(features, target, test_size = 0.20)"
   ]
  },
  {
   "cell_type": "code",
   "execution_count": 75,
   "metadata": {
    "tags": []
   },
   "outputs": [
    {
     "name": "stdout",
     "output_type": "stream",
     "text": [
      "[0]\ttrain-rmse:96544.10938\teval-rmse:109573.03906\n",
      "Multiple eval metrics have been passed: 'eval-rmse' will be used for early stopping.\n",
      "\n",
      "Will train until eval-rmse hasn't improved in 50 rounds.\n",
      "[1]\ttrain-rmse:92264.25781\teval-rmse:105892.08594\n",
      "[2]\ttrain-rmse:88588.55469\teval-rmse:103157.17969\n",
      "[3]\ttrain-rmse:85244.70312\teval-rmse:100708.78906\n",
      "[4]\ttrain-rmse:82368.85938\teval-rmse:98934.89844\n",
      "[5]\ttrain-rmse:79738.25000\teval-rmse:97312.64844\n",
      "[6]\ttrain-rmse:77686.78125\teval-rmse:95977.39062\n",
      "[7]\ttrain-rmse:75731.55469\teval-rmse:95086.34375\n",
      "[8]\ttrain-rmse:73953.49219\teval-rmse:94170.98438\n",
      "[9]\ttrain-rmse:72486.85938\teval-rmse:93564.47656\n",
      "[10]\ttrain-rmse:71143.56250\teval-rmse:93033.06250\n",
      "[11]\ttrain-rmse:69721.32812\teval-rmse:92370.15625\n",
      "[12]\ttrain-rmse:68752.28906\teval-rmse:91954.46094\n",
      "[13]\ttrain-rmse:67524.49219\teval-rmse:91349.70312\n",
      "[14]\ttrain-rmse:66644.09375\teval-rmse:91230.83594\n",
      "[15]\ttrain-rmse:65683.65625\teval-rmse:90778.46094\n",
      "[16]\ttrain-rmse:64736.86328\teval-rmse:90229.12500\n",
      "[17]\ttrain-rmse:64071.74219\teval-rmse:90235.10938\n",
      "[18]\ttrain-rmse:63418.28906\teval-rmse:89929.69531\n",
      "[19]\ttrain-rmse:62720.22656\teval-rmse:89799.71875\n",
      "[20]\ttrain-rmse:62083.38672\teval-rmse:89580.63281\n",
      "[21]\ttrain-rmse:61600.34375\teval-rmse:89772.14062\n",
      "[22]\ttrain-rmse:61173.16797\teval-rmse:89529.93750\n",
      "[23]\ttrain-rmse:60533.37109\teval-rmse:89581.25781\n",
      "[24]\ttrain-rmse:59916.05469\teval-rmse:89485.19531\n",
      "[25]\ttrain-rmse:59351.77734\teval-rmse:89590.90625\n",
      "[26]\ttrain-rmse:58765.98047\teval-rmse:89712.03906\n",
      "[27]\ttrain-rmse:58355.70312\teval-rmse:89716.15625\n",
      "[28]\ttrain-rmse:57840.85547\teval-rmse:89764.71094\n",
      "[29]\ttrain-rmse:57386.76562\teval-rmse:89813.65625\n",
      "[30]\ttrain-rmse:57083.57031\teval-rmse:89944.84375\n",
      "[31]\ttrain-rmse:56597.58594\teval-rmse:89943.52344\n",
      "[32]\ttrain-rmse:56320.84375\teval-rmse:89852.29688\n",
      "[33]\ttrain-rmse:55847.64453\teval-rmse:89911.16406\n",
      "[34]\ttrain-rmse:55577.56641\teval-rmse:89896.16406\n",
      "[35]\ttrain-rmse:55193.80078\teval-rmse:90021.89062\n",
      "[36]\ttrain-rmse:54903.57812\teval-rmse:89978.03125\n",
      "[37]\ttrain-rmse:54479.20312\teval-rmse:89979.62500\n",
      "[38]\ttrain-rmse:54268.34375\teval-rmse:90112.03906\n",
      "[39]\ttrain-rmse:54056.58984\teval-rmse:90195.21094\n",
      "[40]\ttrain-rmse:53786.69531\teval-rmse:90335.17188\n",
      "[41]\ttrain-rmse:53528.82031\teval-rmse:90433.39062\n",
      "[42]\ttrain-rmse:53357.19141\teval-rmse:90500.90625\n",
      "[43]\ttrain-rmse:53217.19141\teval-rmse:90456.90625\n",
      "[44]\ttrain-rmse:53021.53906\teval-rmse:90413.51562\n",
      "[45]\ttrain-rmse:52809.00391\teval-rmse:90323.22656\n",
      "[46]\ttrain-rmse:52509.30859\teval-rmse:90420.22656\n",
      "[47]\ttrain-rmse:52377.69922\teval-rmse:90394.89844\n",
      "[48]\ttrain-rmse:52211.53516\teval-rmse:90323.80469\n",
      "[49]\ttrain-rmse:52107.22656\teval-rmse:90303.82812\n",
      "[50]\ttrain-rmse:51872.74609\teval-rmse:90253.29688\n",
      "[51]\ttrain-rmse:51740.56250\teval-rmse:90208.65625\n",
      "[52]\ttrain-rmse:51584.15625\teval-rmse:90183.63281\n",
      "[53]\ttrain-rmse:51448.75391\teval-rmse:90191.69531\n",
      "[54]\ttrain-rmse:51223.66016\teval-rmse:90242.89844\n",
      "[55]\ttrain-rmse:51007.33594\teval-rmse:90187.84375\n",
      "[56]\ttrain-rmse:50692.89844\teval-rmse:90205.07812\n",
      "[57]\ttrain-rmse:50613.56250\teval-rmse:90230.76562\n",
      "[58]\ttrain-rmse:50470.07422\teval-rmse:90199.03125\n",
      "[59]\ttrain-rmse:50402.66406\teval-rmse:90187.27344\n",
      "[60]\ttrain-rmse:50195.19531\teval-rmse:90169.33594\n",
      "[61]\ttrain-rmse:50107.67188\teval-rmse:90146.69531\n",
      "[62]\ttrain-rmse:49950.66406\teval-rmse:90216.10156\n",
      "[63]\ttrain-rmse:49760.51562\teval-rmse:90191.77344\n",
      "[64]\ttrain-rmse:49633.97656\teval-rmse:90216.07812\n",
      "[65]\ttrain-rmse:49450.25391\teval-rmse:90230.52344\n",
      "[66]\ttrain-rmse:49339.40625\teval-rmse:90223.36719\n",
      "[67]\ttrain-rmse:49259.05078\teval-rmse:90163.81250\n",
      "[68]\ttrain-rmse:49089.89453\teval-rmse:90155.75000\n",
      "[69]\ttrain-rmse:48930.17188\teval-rmse:90165.13281\n",
      "[70]\ttrain-rmse:48769.86328\teval-rmse:90154.88281\n",
      "[71]\ttrain-rmse:48659.25781\teval-rmse:90184.33594\n",
      "[72]\ttrain-rmse:48549.49609\teval-rmse:90172.82031\n",
      "[73]\ttrain-rmse:48465.80469\teval-rmse:90154.50000\n",
      "[74]\ttrain-rmse:48311.69922\teval-rmse:90145.75781\n",
      "Stopping. Best iteration:\n",
      "[24]\ttrain-rmse:59916.05469\teval-rmse:89485.19531\n",
      "\n"
     ]
    }
   ],
   "source": [
    "params = {'max_depth':8, \"booster\": \"gbtree\", 'eta':0.1, 'objective':'reg:squarederror'}\n",
    "train = xgb.DMatrix(X_train, y_train)\n",
    "test = xgb.DMatrix(X_test, y_test)\n",
    "watchlist = [(train, 'train'), (test, 'eval')]\n",
    "# Training the model\n",
    "xgboost = xgb.train(params, train, 100, evals=watchlist, early_stopping_rounds= 50, verbose_eval=True)"
   ]
  },
  {
   "cell_type": "code",
   "execution_count": 76,
   "metadata": {
    "tags": []
   },
   "outputs": [],
   "source": [
    "# Making predictions\n",
    "preds = xgboost.predict(test)"
   ]
  },
  {
   "cell_type": "code",
   "execution_count": 77,
   "metadata": {
    "tags": []
   },
   "outputs": [
    {
     "data": {
      "text/plain": [
       "9788"
      ]
     },
     "execution_count": 77,
     "metadata": {},
     "output_type": "execute_result"
    }
   ],
   "source": [
    "len(y_test)"
   ]
  },
  {
   "cell_type": "code",
   "execution_count": 78,
   "metadata": {
    "tags": []
   },
   "outputs": [
    {
     "name": "stdout",
     "output_type": "stream",
     "text": [
      "Root Mean Squared Error for XGBoost: 90145.76161268678\n",
      "Mean Absolute Error for XGBoost: 27416.02998501396\n"
     ]
    }
   ],
   "source": [
    "rms_xgboost = np.sqrt(mean_squared_error(y_test, preds))\n",
    "print(\"Root Mean Squared Error for XGBoost:\", rms_xgboost)\n",
    "mae_xgboost = mean_absolute_error(y_test, preds)\n",
    "print(\"Mean Absolute Error for XGBoost:\", mae_xgboost)"
   ]
  },
  {
   "cell_type": "markdown",
   "metadata": {
    "tags": []
   },
   "source": [
    "Vemos uma melhora significativa de performance com respeito aos nossos outros experimentos, com um rmse da ordem de 40% menor. Vamos então construir nosso modelo baseado nesse algoritmo. Abaixo vamos analisar quais as features foram mais signigicativas na modelagem preditiva."
   ]
  },
  {
   "cell_type": "code",
   "execution_count": 131,
   "metadata": {
    "tags": []
   },
   "outputs": [],
   "source": [
    "dict_scores = xgboost.get_score(importance_type='gain')\n",
    "sorted_scores = sorted(dict_scores.items(), key=lambda x:x[1], reverse=True)\n",
    "features, scores = zip(*sorted_scores)"
   ]
  },
  {
   "cell_type": "code",
   "execution_count": 138,
   "metadata": {
    "tags": []
   },
   "outputs": [
    {
     "data": {
      "text/plain": [
       "('FLG_CAMPANHA_MKT_B',\n",
       " 'DES_MARCA_MATERIAL_anon_S28',\n",
       " 'DES_MARCA_MATERIAL_anon_S4',\n",
       " 'FLG_CAMPANHA_MKT_A',\n",
       " 'DES_MARCA_MATERIAL_anon_S50',\n",
       " 'DES_MARCA_MATERIAL_anon_S22',\n",
       " 'DES_CATEGORIA_MATERIAL_anon_S12',\n",
       " 'FLG_CAMPANHA_MKT_C',\n",
       " 'VL_PRECO',\n",
       " 'DES_MARCA_MATERIAL_anon_S20',\n",
       " 'DES_MARCA_MATERIAL_anon_S47',\n",
       " 'DES_MARCA_MATERIAL_anon_S8',\n",
       " 'DES_MARCA_MATERIAL_anon_S17',\n",
       " 'DES_MARCA_MATERIAL_anon_S6',\n",
       " 'FLG_CAMPANHA_MKT_D')"
      ]
     },
     "execution_count": 138,
     "metadata": {},
     "output_type": "execute_result"
    }
   ],
   "source": [
    "features[:15]"
   ]
  },
  {
   "cell_type": "code",
   "execution_count": 141,
   "metadata": {
    "tags": []
   },
   "outputs": [
    {
     "data": {
      "image/png": "[encoded data removed]",
      "text/plain": [
       "<Figure size 864x720 with 1 Axes>"
      ]
     },
     "metadata": {},
     "output_type": "display_data"
    }
   ],
   "source": [
    "fig, ax = plt.subplots(figsize=(12, 10))\n",
    "plt.bar(features[:15], scores[:15])\n",
    "plt.xlabel('Features')\n",
    "plt.ylabel('Importance Score')\n",
    "plt.title('Feature Importance: the 15 most important')\n",
    "plt.xticks(rotation=90)\n",
    "plt.show()"
   ]
  },
  {
   "cell_type": "code",
   "execution_count": 79,
   "metadata": {
    "tags": []
   },
   "outputs": [],
   "source": [
    "#plot da série temporal para o conjunto teste\n",
    "test_xgb = pd.concat([X_test, y_test], axis=1)\n",
    "test_xgb['forecast'] = preds"
   ]
  },
  {
   "cell_type": "code",
   "execution_count": 80,
   "metadata": {
    "tags": []
   },
   "outputs": [
    {
     "data": {
      "text/html": [
       "<div>\n",
       "<style scoped>\n",
       "    .dataframe tbody tr th:only-of-type {\n",
       "        vertical-align: middle;\n",
       "    }\n",
       "\n",
       "    .dataframe tbody tr th {\n",
       "        vertical-align: top;\n",
       "    }\n",
       "\n",
       "    .dataframe thead th {\n",
       "        text-align: right;\n",
       "    }\n",
       "</style>\n",
       "<table border=\"1\" class=\"dataframe\">\n",
       "  <thead>\n",
       "    <tr style=\"text-align: right;\">\n",
       "      <th></th>\n",
       "      <th>COD_CICLO</th>\n",
       "      <th>FLG_DATA</th>\n",
       "      <th>FLG_CAMPANHA_MKT_A</th>\n",
       "      <th>FLG_CAMPANHA_MKT_B</th>\n",
       "      <th>FLG_CAMPANHA_MKT_C</th>\n",
       "      <th>FLG_CAMPANHA_MKT_D</th>\n",
       "      <th>FLG_CAMPANHA_MKT_E</th>\n",
       "      <th>FLG_CAMPANHA_MKT_F</th>\n",
       "      <th>VL_PRECO</th>\n",
       "      <th>DES_CATEGORIA_MATERIAL_anon_S12</th>\n",
       "      <th>...</th>\n",
       "      <th>DES_MARCA_MATERIAL_anon_S21</th>\n",
       "      <th>DES_MARCA_MATERIAL_anon_S22</th>\n",
       "      <th>DES_MARCA_MATERIAL_anon_S23</th>\n",
       "      <th>DES_MARCA_MATERIAL_anon_S24</th>\n",
       "      <th>DES_MARCA_MATERIAL_anon_S4</th>\n",
       "      <th>DES_MARCA_MATERIAL_anon_S6</th>\n",
       "      <th>DES_MARCA_MATERIAL_anon_S8</th>\n",
       "      <th>DES_MARCA_MATERIAL_anon_S9</th>\n",
       "      <th>QT_VENDA</th>\n",
       "      <th>forecast</th>\n",
       "    </tr>\n",
       "  </thead>\n",
       "  <tbody>\n",
       "    <tr>\n",
       "      <th>47978</th>\n",
       "      <td>202015</td>\n",
       "      <td>0</td>\n",
       "      <td>0.0</td>\n",
       "      <td>0.0</td>\n",
       "      <td>0.0</td>\n",
       "      <td>0.0</td>\n",
       "      <td>0.0</td>\n",
       "      <td>0.0</td>\n",
       "      <td>611.400</td>\n",
       "      <td>0</td>\n",
       "      <td>...</td>\n",
       "      <td>0</td>\n",
       "      <td>0</td>\n",
       "      <td>0</td>\n",
       "      <td>0</td>\n",
       "      <td>0</td>\n",
       "      <td>0</td>\n",
       "      <td>1</td>\n",
       "      <td>0</td>\n",
       "      <td>1944.0</td>\n",
       "      <td>8857.250977</td>\n",
       "    </tr>\n",
       "    <tr>\n",
       "      <th>16616</th>\n",
       "      <td>201818</td>\n",
       "      <td>1</td>\n",
       "      <td>0.0</td>\n",
       "      <td>0.0</td>\n",
       "      <td>0.0</td>\n",
       "      <td>0.0</td>\n",
       "      <td>0.0</td>\n",
       "      <td>0.0</td>\n",
       "      <td>413.400</td>\n",
       "      <td>0</td>\n",
       "      <td>...</td>\n",
       "      <td>0</td>\n",
       "      <td>0</td>\n",
       "      <td>0</td>\n",
       "      <td>0</td>\n",
       "      <td>0</td>\n",
       "      <td>0</td>\n",
       "      <td>0</td>\n",
       "      <td>0</td>\n",
       "      <td>240.0</td>\n",
       "      <td>17276.761719</td>\n",
       "    </tr>\n",
       "    <tr>\n",
       "      <th>20726</th>\n",
       "      <td>201904</td>\n",
       "      <td>0</td>\n",
       "      <td>0.0</td>\n",
       "      <td>0.0</td>\n",
       "      <td>0.0</td>\n",
       "      <td>0.0</td>\n",
       "      <td>0.0</td>\n",
       "      <td>0.0</td>\n",
       "      <td>413.400</td>\n",
       "      <td>0</td>\n",
       "      <td>...</td>\n",
       "      <td>0</td>\n",
       "      <td>0</td>\n",
       "      <td>0</td>\n",
       "      <td>0</td>\n",
       "      <td>0</td>\n",
       "      <td>0</td>\n",
       "      <td>0</td>\n",
       "      <td>0</td>\n",
       "      <td>54666.0</td>\n",
       "      <td>5745.036133</td>\n",
       "    </tr>\n",
       "    <tr>\n",
       "      <th>28298</th>\n",
       "      <td>201912</td>\n",
       "      <td>0</td>\n",
       "      <td>0.0</td>\n",
       "      <td>1.0</td>\n",
       "      <td>0.0</td>\n",
       "      <td>0.5</td>\n",
       "      <td>0.0</td>\n",
       "      <td>0.0</td>\n",
       "      <td>496.635</td>\n",
       "      <td>0</td>\n",
       "      <td>...</td>\n",
       "      <td>0</td>\n",
       "      <td>0</td>\n",
       "      <td>0</td>\n",
       "      <td>0</td>\n",
       "      <td>0</td>\n",
       "      <td>0</td>\n",
       "      <td>1</td>\n",
       "      <td>0</td>\n",
       "      <td>44016.0</td>\n",
       "      <td>161475.203125</td>\n",
       "    </tr>\n",
       "    <tr>\n",
       "      <th>45590</th>\n",
       "      <td>202012</td>\n",
       "      <td>0</td>\n",
       "      <td>0.0</td>\n",
       "      <td>0.0</td>\n",
       "      <td>0.0</td>\n",
       "      <td>0.0</td>\n",
       "      <td>0.0</td>\n",
       "      <td>0.0</td>\n",
       "      <td>479.820</td>\n",
       "      <td>0</td>\n",
       "      <td>...</td>\n",
       "      <td>0</td>\n",
       "      <td>0</td>\n",
       "      <td>0</td>\n",
       "      <td>0</td>\n",
       "      <td>0</td>\n",
       "      <td>0</td>\n",
       "      <td>0</td>\n",
       "      <td>0</td>\n",
       "      <td>1188.0</td>\n",
       "      <td>4714.774902</td>\n",
       "    </tr>\n",
       "  </tbody>\n",
       "</table>\n",
       "<p>5 rows × 26 columns</p>\n",
       "</div>"
      ],
      "text/plain": [
       "       COD_CICLO  FLG_DATA  FLG_CAMPANHA_MKT_A  FLG_CAMPANHA_MKT_B  \\\n",
       "47978     202015         0                 0.0                 0.0   \n",
       "16616     201818         1                 0.0                 0.0   \n",
       "20726     201904         0                 0.0                 0.0   \n",
       "28298     201912         0                 0.0                 1.0   \n",
       "45590     202012         0                 0.0                 0.0   \n",
       "\n",
       "       FLG_CAMPANHA_MKT_C  FLG_CAMPANHA_MKT_D  FLG_CAMPANHA_MKT_E  \\\n",
       "47978                 0.0                 0.0                 0.0   \n",
       "16616                 0.0                 0.0                 0.0   \n",
       "20726                 0.0                 0.0                 0.0   \n",
       "28298                 0.0                 0.5                 0.0   \n",
       "45590                 0.0                 0.0                 0.0   \n",
       "\n",
       "       FLG_CAMPANHA_MKT_F  VL_PRECO  DES_CATEGORIA_MATERIAL_anon_S12  ...  \\\n",
       "47978                 0.0   611.400                                0  ...   \n",
       "16616                 0.0   413.400                                0  ...   \n",
       "20726                 0.0   413.400                                0  ...   \n",
       "28298                 0.0   496.635                                0  ...   \n",
       "45590                 0.0   479.820                                0  ...   \n",
       "\n",
       "       DES_MARCA_MATERIAL_anon_S21  DES_MARCA_MATERIAL_anon_S22  \\\n",
       "47978                            0                            0   \n",
       "16616                            0                            0   \n",
       "20726                            0                            0   \n",
       "28298                            0                            0   \n",
       "45590                            0                            0   \n",
       "\n",
       "       DES_MARCA_MATERIAL_anon_S23  DES_MARCA_MATERIAL_anon_S24  \\\n",
       "47978                            0                            0   \n",
       "16616                            0                            0   \n",
       "20726                            0                            0   \n",
       "28298                            0                            0   \n",
       "45590                            0                            0   \n",
       "\n",
       "       DES_MARCA_MATERIAL_anon_S4  DES_MARCA_MATERIAL_anon_S6  \\\n",
       "47978                           0                           0   \n",
       "16616                           0                           0   \n",
       "20726                           0                           0   \n",
       "28298                           0                           0   \n",
       "45590                           0                           0   \n",
       "\n",
       "       DES_MARCA_MATERIAL_anon_S8  DES_MARCA_MATERIAL_anon_S9  QT_VENDA  \\\n",
       "47978                           1                           0    1944.0   \n",
       "16616                           0                           0     240.0   \n",
       "20726                           0                           0   54666.0   \n",
       "28298                           1                           0   44016.0   \n",
       "45590                           0                           0    1188.0   \n",
       "\n",
       "            forecast  \n",
       "47978    8857.250977  \n",
       "16616   17276.761719  \n",
       "20726    5745.036133  \n",
       "28298  161475.203125  \n",
       "45590    4714.774902  \n",
       "\n",
       "[5 rows x 26 columns]"
      ]
     },
     "execution_count": 80,
     "metadata": {},
     "output_type": "execute_result"
    }
   ],
   "source": [
    "test_xgb.head()"
   ]
  },
  {
   "cell_type": "code",
   "execution_count": 81,
   "metadata": {
    "tags": []
   },
   "outputs": [
    {
     "data": {
      "text/plain": [
       "<AxesSubplot:xlabel='COD_CICLO', ylabel='QT_VENDA'>"
      ]
     },
     "execution_count": 81,
     "metadata": {},
     "output_type": "execute_result"
    },
    {
     "data": {
      "image/png": "[encoded data removed]",
      "text/plain": [
       "<Figure size 432x288 with 1 Axes>"
      ]
     },
     "metadata": {},
     "output_type": "display_data"
    }
   ],
   "source": [
    "sns.lineplot(data=test_xgb, x='COD_CICLO', y='QT_VENDA')\n",
    "sns.lineplot(data=test_xgb, x='COD_CICLO', y='forecast')"
   ]
  },
  {
   "cell_type": "code",
   "execution_count": 99,
   "metadata": {
    "tags": []
   },
   "outputs": [
    {
     "data": {
      "text/html": [
       "<div>\n",
       "<style scoped>\n",
       "    .dataframe tbody tr th:only-of-type {\n",
       "        vertical-align: middle;\n",
       "    }\n",
       "\n",
       "    .dataframe tbody tr th {\n",
       "        vertical-align: top;\n",
       "    }\n",
       "\n",
       "    .dataframe thead th {\n",
       "        text-align: right;\n",
       "    }\n",
       "</style>\n",
       "<table border=\"1\" class=\"dataframe\">\n",
       "  <thead>\n",
       "    <tr style=\"text-align: right;\">\n",
       "      <th></th>\n",
       "      <th>COD_CICLO</th>\n",
       "      <th>FLG_DATA</th>\n",
       "      <th>FLG_CAMPANHA_MKT_A</th>\n",
       "      <th>FLG_CAMPANHA_MKT_B</th>\n",
       "      <th>FLG_CAMPANHA_MKT_C</th>\n",
       "      <th>FLG_CAMPANHA_MKT_D</th>\n",
       "      <th>FLG_CAMPANHA_MKT_E</th>\n",
       "      <th>FLG_CAMPANHA_MKT_F</th>\n",
       "      <th>VL_PRECO</th>\n",
       "      <th>DES_CATEGORIA_MATERIAL_anon_S12</th>\n",
       "      <th>...</th>\n",
       "      <th>DES_MARCA_MATERIAL_anon_S17</th>\n",
       "      <th>DES_MARCA_MATERIAL_anon_S20</th>\n",
       "      <th>DES_MARCA_MATERIAL_anon_S21</th>\n",
       "      <th>DES_MARCA_MATERIAL_anon_S22</th>\n",
       "      <th>DES_MARCA_MATERIAL_anon_S23</th>\n",
       "      <th>DES_MARCA_MATERIAL_anon_S24</th>\n",
       "      <th>DES_MARCA_MATERIAL_anon_S4</th>\n",
       "      <th>DES_MARCA_MATERIAL_anon_S6</th>\n",
       "      <th>DES_MARCA_MATERIAL_anon_S8</th>\n",
       "      <th>DES_MARCA_MATERIAL_anon_S9</th>\n",
       "    </tr>\n",
       "  </thead>\n",
       "  <tbody>\n",
       "    <tr>\n",
       "      <th>29</th>\n",
       "      <td>202101</td>\n",
       "      <td>0</td>\n",
       "      <td>0.0</td>\n",
       "      <td>0.0</td>\n",
       "      <td>0.0</td>\n",
       "      <td>0.0</td>\n",
       "      <td>0.0</td>\n",
       "      <td>0.0</td>\n",
       "      <td>791.4</td>\n",
       "      <td>1</td>\n",
       "      <td>...</td>\n",
       "      <td>0</td>\n",
       "      <td>0</td>\n",
       "      <td>0</td>\n",
       "      <td>0</td>\n",
       "      <td>0</td>\n",
       "      <td>0</td>\n",
       "      <td>0</td>\n",
       "      <td>0</td>\n",
       "      <td>0</td>\n",
       "      <td>0</td>\n",
       "    </tr>\n",
       "    <tr>\n",
       "      <th>47</th>\n",
       "      <td>202016</td>\n",
       "      <td>1</td>\n",
       "      <td>0.0</td>\n",
       "      <td>0.0</td>\n",
       "      <td>0.0</td>\n",
       "      <td>0.0</td>\n",
       "      <td>0.0</td>\n",
       "      <td>0.0</td>\n",
       "      <td>863.4</td>\n",
       "      <td>1</td>\n",
       "      <td>...</td>\n",
       "      <td>0</td>\n",
       "      <td>0</td>\n",
       "      <td>0</td>\n",
       "      <td>0</td>\n",
       "      <td>0</td>\n",
       "      <td>0</td>\n",
       "      <td>0</td>\n",
       "      <td>0</td>\n",
       "      <td>0</td>\n",
       "      <td>0</td>\n",
       "    </tr>\n",
       "    <tr>\n",
       "      <th>48</th>\n",
       "      <td>202101</td>\n",
       "      <td>0</td>\n",
       "      <td>0.0</td>\n",
       "      <td>0.0</td>\n",
       "      <td>0.0</td>\n",
       "      <td>0.0</td>\n",
       "      <td>0.0</td>\n",
       "      <td>0.0</td>\n",
       "      <td>863.4</td>\n",
       "      <td>1</td>\n",
       "      <td>...</td>\n",
       "      <td>0</td>\n",
       "      <td>0</td>\n",
       "      <td>0</td>\n",
       "      <td>0</td>\n",
       "      <td>0</td>\n",
       "      <td>0</td>\n",
       "      <td>0</td>\n",
       "      <td>0</td>\n",
       "      <td>0</td>\n",
       "      <td>0</td>\n",
       "    </tr>\n",
       "    <tr>\n",
       "      <th>113</th>\n",
       "      <td>202016</td>\n",
       "      <td>1</td>\n",
       "      <td>0.0</td>\n",
       "      <td>0.0</td>\n",
       "      <td>0.0</td>\n",
       "      <td>0.0</td>\n",
       "      <td>0.0</td>\n",
       "      <td>0.0</td>\n",
       "      <td>809.4</td>\n",
       "      <td>1</td>\n",
       "      <td>...</td>\n",
       "      <td>0</td>\n",
       "      <td>0</td>\n",
       "      <td>0</td>\n",
       "      <td>0</td>\n",
       "      <td>0</td>\n",
       "      <td>0</td>\n",
       "      <td>0</td>\n",
       "      <td>0</td>\n",
       "      <td>0</td>\n",
       "      <td>0</td>\n",
       "    </tr>\n",
       "    <tr>\n",
       "      <th>114</th>\n",
       "      <td>202017</td>\n",
       "      <td>1</td>\n",
       "      <td>0.0</td>\n",
       "      <td>0.0</td>\n",
       "      <td>0.0</td>\n",
       "      <td>0.0</td>\n",
       "      <td>0.0</td>\n",
       "      <td>0.0</td>\n",
       "      <td>809.4</td>\n",
       "      <td>1</td>\n",
       "      <td>...</td>\n",
       "      <td>0</td>\n",
       "      <td>0</td>\n",
       "      <td>0</td>\n",
       "      <td>0</td>\n",
       "      <td>0</td>\n",
       "      <td>0</td>\n",
       "      <td>0</td>\n",
       "      <td>0</td>\n",
       "      <td>0</td>\n",
       "      <td>0</td>\n",
       "    </tr>\n",
       "  </tbody>\n",
       "</table>\n",
       "<p>5 rows × 24 columns</p>\n",
       "</div>"
      ],
      "text/plain": [
       "     COD_CICLO  FLG_DATA  FLG_CAMPANHA_MKT_A  FLG_CAMPANHA_MKT_B  \\\n",
       "29      202101         0                 0.0                 0.0   \n",
       "47      202016         1                 0.0                 0.0   \n",
       "48      202101         0                 0.0                 0.0   \n",
       "113     202016         1                 0.0                 0.0   \n",
       "114     202017         1                 0.0                 0.0   \n",
       "\n",
       "     FLG_CAMPANHA_MKT_C  FLG_CAMPANHA_MKT_D  FLG_CAMPANHA_MKT_E  \\\n",
       "29                  0.0                 0.0                 0.0   \n",
       "47                  0.0                 0.0                 0.0   \n",
       "48                  0.0                 0.0                 0.0   \n",
       "113                 0.0                 0.0                 0.0   \n",
       "114                 0.0                 0.0                 0.0   \n",
       "\n",
       "     FLG_CAMPANHA_MKT_F  VL_PRECO  DES_CATEGORIA_MATERIAL_anon_S12  ...  \\\n",
       "29                  0.0     791.4                                1  ...   \n",
       "47                  0.0     863.4                                1  ...   \n",
       "48                  0.0     863.4                                1  ...   \n",
       "113                 0.0     809.4                                1  ...   \n",
       "114                 0.0     809.4                                1  ...   \n",
       "\n",
       "     DES_MARCA_MATERIAL_anon_S17  DES_MARCA_MATERIAL_anon_S20  \\\n",
       "29                             0                            0   \n",
       "47                             0                            0   \n",
       "48                             0                            0   \n",
       "113                            0                            0   \n",
       "114                            0                            0   \n",
       "\n",
       "     DES_MARCA_MATERIAL_anon_S21  DES_MARCA_MATERIAL_anon_S22  \\\n",
       "29                             0                            0   \n",
       "47                             0                            0   \n",
       "48                             0                            0   \n",
       "113                            0                            0   \n",
       "114                            0                            0   \n",
       "\n",
       "     DES_MARCA_MATERIAL_anon_S23  DES_MARCA_MATERIAL_anon_S24  \\\n",
       "29                             0                            0   \n",
       "47                             0                            0   \n",
       "48                             0                            0   \n",
       "113                            0                            0   \n",
       "114                            0                            0   \n",
       "\n",
       "     DES_MARCA_MATERIAL_anon_S4  DES_MARCA_MATERIAL_anon_S6  \\\n",
       "29                            0                           0   \n",
       "47                            0                           0   \n",
       "48                            0                           0   \n",
       "113                           0                           0   \n",
       "114                           0                           0   \n",
       "\n",
       "     DES_MARCA_MATERIAL_anon_S8  DES_MARCA_MATERIAL_anon_S9  \n",
       "29                            0                           0  \n",
       "47                            0                           0  \n",
       "48                            0                           0  \n",
       "113                           0                           0  \n",
       "114                           0                           0  \n",
       "\n",
       "[5 rows x 24 columns]"
      ]
     },
     "execution_count": 99,
     "metadata": {},
     "output_type": "execute_result"
    }
   ],
   "source": [
    "# predição da quantidade de venda para os ciclos 202016, 202017 e 202101\n",
    "new_data = df[df['COD_CICLO'].isin([202016, 202017, 202101])].drop({'QT_VENDA', 'PCT_DESCONTO', 'COD_MATERIAL'}, axis=1)\n",
    "new_data = pd.get_dummies(data=new_data, columns=['DES_CATEGORIA_MATERIAL','DES_MARCA_MATERIAL'], drop_first=True)\n",
    "new_data.head()"
   ]
  },
  {
   "cell_type": "code",
   "execution_count": 100,
   "metadata": {
    "tags": []
   },
   "outputs": [
    {
     "data": {
      "text/plain": [
       "array([ 19839.176,  31926.02 ,  29512.701, ..., 257068.11 , 221297.89 ,\n",
       "       331899.16 ], dtype=float32)"
      ]
     },
     "execution_count": 100,
     "metadata": {},
     "output_type": "execute_result"
    }
   ],
   "source": [
    "data = xgb.DMatrix(new_data)\n",
    "preds_new = xgboost.predict(data)\n",
    "preds_new"
   ]
  },
  {
   "cell_type": "code",
   "execution_count": 103,
   "metadata": {
    "tags": []
   },
   "outputs": [],
   "source": [
    "preds_n = pd.DataFrame(preds_new, columns=['Predicted Values'])\n",
    "preds_n.to_excel('data/forecasted_values.xlsx', index=False)"
   ]
  },
  {
   "cell_type": "markdown",
   "metadata": {},
   "source": [
    "## Execução dos scripts"
   ]
  },
  {
   "cell_type": "code",
   "execution_count": 1,
   "metadata": {
    "tags": []
   },
   "outputs": [
    {
     "name": "stderr",
     "output_type": "stream",
     "text": [
      "/Users/grasiele/opt/anaconda3/lib/python3.8/site-packages/pandas/core/computation/expressions.py:20: UserWarning: Pandas requires version '2.7.3' or newer of 'numexpr' (version '2.7.1' currently installed).\n",
      "  from pandas.core.computation.check import NUMEXPR_INSTALLED\n"
     ]
    },
    {
     "name": "stdout",
     "output_type": "stream",
     "text": [
      "Started preprocess step at 10:12:34\n",
      "Handling missing values\n",
      "Encoding categorical variables\n",
      "Train set with 39152 rows\n",
      "Test set with 9788 rows\n",
      "Dropping unecessary columns\n",
      "Saving sets to csv\n",
      "Finished Preprocess step at 10:12:36\n"
     ]
    }
   ],
   "source": [
    "%run preprocess.py"
   ]
  },
  {
   "cell_type": "code",
   "execution_count": 2,
   "metadata": {
    "tags": []
   },
   "outputs": [
    {
     "name": "stderr",
     "output_type": "stream",
     "text": [
      "/Users/grasiele/opt/anaconda3/lib/python3.8/site-packages/xgboost/compat.py:93: FutureWarning: pandas.Int64Index is deprecated and will be removed from pandas in a future version. Use pandas.Index with the appropriate dtype instead.\n",
      "  from pandas import MultiIndex, Int64Index\n",
      "/Users/grasiele/opt/anaconda3/lib/python3.8/site-packages/dask/dataframe/utils.py:367: FutureWarning: pandas.Int64Index is deprecated and will be removed from pandas in a future version. Use pandas.Index with the appropriate dtype instead.\n",
      "  _numeric_index_types = (pd.Int64Index, pd.Float64Index, pd.UInt64Index)\n",
      "/Users/grasiele/opt/anaconda3/lib/python3.8/site-packages/dask/dataframe/utils.py:367: FutureWarning: pandas.Float64Index is deprecated and will be removed from pandas in a future version. Use pandas.Index with the appropriate dtype instead.\n",
      "  _numeric_index_types = (pd.Int64Index, pd.Float64Index, pd.UInt64Index)\n",
      "/Users/grasiele/opt/anaconda3/lib/python3.8/site-packages/dask/dataframe/utils.py:367: FutureWarning: pandas.UInt64Index is deprecated and will be removed from pandas in a future version. Use pandas.Index with the appropriate dtype instead.\n",
      "  _numeric_index_types = (pd.Int64Index, pd.Float64Index, pd.UInt64Index)\n"
     ]
    },
    {
     "name": "stdout",
     "output_type": "stream",
     "text": [
      "Started Train step at 10:12:41\n",
      "Reading train and test sets\n",
      "Training dataset\n",
      "[0]\ttrain-rmse:101904.10938\teval-rmse:85968.62500\n",
      "Multiple eval metrics have been passed: 'eval-rmse' will be used for early stopping.\n",
      "\n",
      "Will train until eval-rmse hasn't improved in 20 rounds.\n",
      "[1]\ttrain-rmse:97382.64844\teval-rmse:82979.02344\n",
      "[2]\ttrain-rmse:93461.34375\teval-rmse:80507.48438\n",
      "[3]\ttrain-rmse:89886.90625\teval-rmse:78515.92969\n",
      "[4]\ttrain-rmse:86663.18750\teval-rmse:76802.09375\n",
      "[5]\ttrain-rmse:83912.90625\teval-rmse:75503.17188\n",
      "[6]\ttrain-rmse:81660.94531\teval-rmse:74349.27344\n",
      "[7]\ttrain-rmse:79685.21094\teval-rmse:73505.04688\n",
      "[8]\ttrain-rmse:77830.31250\teval-rmse:72764.61719\n",
      "[9]\ttrain-rmse:76252.27344\teval-rmse:72266.17188\n",
      "[10]\ttrain-rmse:74654.98438\teval-rmse:71525.00000\n",
      "[11]\ttrain-rmse:73308.53906\teval-rmse:70931.45312\n",
      "[12]\ttrain-rmse:72109.73438\teval-rmse:70561.73438\n",
      "[13]\ttrain-rmse:70787.66406\teval-rmse:70239.89844\n",
      "[14]\ttrain-rmse:69805.23438\teval-rmse:69994.92969\n",
      "[15]\ttrain-rmse:68992.32812\teval-rmse:69834.77344\n",
      "[16]\ttrain-rmse:67983.20312\teval-rmse:69617.02344\n",
      "[17]\ttrain-rmse:67218.39844\teval-rmse:69409.17969\n",
      "[18]\ttrain-rmse:66408.47656\teval-rmse:68804.95312\n",
      "[19]\ttrain-rmse:65753.09375\teval-rmse:68737.91406\n",
      "[20]\ttrain-rmse:64881.37500\teval-rmse:68700.39844\n",
      "[21]\ttrain-rmse:64281.75000\teval-rmse:68734.85156\n",
      "[22]\ttrain-rmse:63581.92969\teval-rmse:68702.68750\n",
      "[23]\ttrain-rmse:62931.34375\teval-rmse:68627.66406\n",
      "[24]\ttrain-rmse:62370.55469\teval-rmse:68584.16406\n",
      "[25]\ttrain-rmse:61786.40234\teval-rmse:68671.88281\n",
      "[26]\ttrain-rmse:61356.48828\teval-rmse:68751.11719\n",
      "[27]\ttrain-rmse:61075.17578\teval-rmse:68729.60156\n",
      "[28]\ttrain-rmse:60568.10156\teval-rmse:68857.31250\n",
      "[29]\ttrain-rmse:59999.43750\teval-rmse:68914.90625\n",
      "[30]\ttrain-rmse:59573.80469\teval-rmse:68993.30469\n",
      "[31]\ttrain-rmse:59272.80469\teval-rmse:69095.41406\n",
      "[32]\ttrain-rmse:58904.17578\teval-rmse:69203.07031\n",
      "[33]\ttrain-rmse:58737.40234\teval-rmse:69238.45312\n",
      "[34]\ttrain-rmse:58348.75391\teval-rmse:69295.16406\n",
      "[35]\ttrain-rmse:58089.67578\teval-rmse:69272.40625\n",
      "[36]\ttrain-rmse:57801.28125\teval-rmse:69280.07812\n",
      "[37]\ttrain-rmse:57651.77734\teval-rmse:69361.16406\n",
      "[38]\ttrain-rmse:57544.45703\teval-rmse:69338.64062\n",
      "[39]\ttrain-rmse:57366.92969\teval-rmse:69347.19531\n",
      "[40]\ttrain-rmse:57248.24609\teval-rmse:69354.68750\n",
      "[41]\ttrain-rmse:56979.35547\teval-rmse:69338.98438\n",
      "[42]\ttrain-rmse:56904.47266\teval-rmse:69314.92188\n",
      "[43]\ttrain-rmse:56483.00391\teval-rmse:69359.31250\n",
      "[44]\ttrain-rmse:56300.77344\teval-rmse:69425.75781\n",
      "Stopping. Best iteration:\n",
      "[24]\ttrain-rmse:62370.55469\teval-rmse:68584.16406\n",
      "\n",
      "Getting metrics\n",
      "{'mae': 25841.47385677124, 'rmse': 69425.73467788778, 'mape': 10.408707020170159}\n",
      "Saving model\n",
      "Features:['COD_CICLO', 'FLG_DATA', 'FLG_CAMPANHA_MKT_A', 'FLG_CAMPANHA_MKT_B', 'FLG_CAMPANHA_MKT_C', 'FLG_CAMPANHA_MKT_D', 'FLG_CAMPANHA_MKT_E', 'FLG_CAMPANHA_MKT_F', 'VL_PRECO', 'DES_CATEGORIA_MATERIAL_anon_S12', 'DES_CATEGORIA_MATERIAL_anon_S18', 'DES_CATEGORIA_MATERIAL_anon_S2', 'DES_CATEGORIA_MATERIAL_anon_S30', 'DES_CATEGORIA_MATERIAL_anon_S5', 'DES_MARCA_MATERIAL_anon_S14', 'DES_MARCA_MATERIAL_anon_S15', 'DES_MARCA_MATERIAL_anon_S16', 'DES_MARCA_MATERIAL_anon_S17', 'DES_MARCA_MATERIAL_anon_S19', 'DES_MARCA_MATERIAL_anon_S20', 'DES_MARCA_MATERIAL_anon_S21', 'DES_MARCA_MATERIAL_anon_S22', 'DES_MARCA_MATERIAL_anon_S23', 'DES_MARCA_MATERIAL_anon_S24', 'DES_MARCA_MATERIAL_anon_S25', 'DES_MARCA_MATERIAL_anon_S26', 'DES_MARCA_MATERIAL_anon_S27', 'DES_MARCA_MATERIAL_anon_S28', 'DES_MARCA_MATERIAL_anon_S29', 'DES_MARCA_MATERIAL_anon_S3', 'DES_MARCA_MATERIAL_anon_S31', 'DES_MARCA_MATERIAL_anon_S32', 'DES_MARCA_MATERIAL_anon_S33', 'DES_MARCA_MATERIAL_anon_S34', 'DES_MARCA_MATERIAL_anon_S35', 'DES_MARCA_MATERIAL_anon_S36', 'DES_MARCA_MATERIAL_anon_S37', 'DES_MARCA_MATERIAL_anon_S38', 'DES_MARCA_MATERIAL_anon_S39', 'DES_MARCA_MATERIAL_anon_S4', 'DES_MARCA_MATERIAL_anon_S40', 'DES_MARCA_MATERIAL_anon_S41', 'DES_MARCA_MATERIAL_anon_S42', 'DES_MARCA_MATERIAL_anon_S43', 'DES_MARCA_MATERIAL_anon_S44', 'DES_MARCA_MATERIAL_anon_S45', 'DES_MARCA_MATERIAL_anon_S46', 'DES_MARCA_MATERIAL_anon_S47', 'DES_MARCA_MATERIAL_anon_S48', 'DES_MARCA_MATERIAL_anon_S49', 'DES_MARCA_MATERIAL_anon_S50', 'DES_MARCA_MATERIAL_anon_S51', 'DES_MARCA_MATERIAL_anon_S52', 'DES_MARCA_MATERIAL_anon_S53', 'DES_MARCA_MATERIAL_anon_S54', 'DES_MARCA_MATERIAL_anon_S55', 'DES_MARCA_MATERIAL_anon_S56', 'DES_MARCA_MATERIAL_anon_S57', 'DES_MARCA_MATERIAL_anon_S58', 'DES_MARCA_MATERIAL_anon_S59', 'DES_MARCA_MATERIAL_anon_S6', 'DES_MARCA_MATERIAL_anon_S60', 'DES_MARCA_MATERIAL_anon_S61', 'DES_MARCA_MATERIAL_anon_S62', 'DES_MARCA_MATERIAL_anon_S63', 'DES_MARCA_MATERIAL_anon_S64', 'DES_MARCA_MATERIAL_anon_S65', 'DES_MARCA_MATERIAL_anon_S66', 'DES_MARCA_MATERIAL_anon_S67', 'DES_MARCA_MATERIAL_anon_S68', 'DES_MARCA_MATERIAL_anon_S69', 'DES_MARCA_MATERIAL_anon_S70', 'DES_MARCA_MATERIAL_anon_S71', 'DES_MARCA_MATERIAL_anon_S72', 'DES_MARCA_MATERIAL_anon_S73', 'DES_MARCA_MATERIAL_anon_S74', 'DES_MARCA_MATERIAL_anon_S75', 'DES_MARCA_MATERIAL_anon_S76', 'DES_MARCA_MATERIAL_anon_S77', 'DES_MARCA_MATERIAL_anon_S78', 'DES_MARCA_MATERIAL_anon_S79', 'DES_MARCA_MATERIAL_anon_S8', 'DES_MARCA_MATERIAL_anon_S82', 'DES_MARCA_MATERIAL_anon_S83', 'DES_MARCA_MATERIAL_anon_S84', 'DES_MARCA_MATERIAL_anon_S85', 'DES_MARCA_MATERIAL_anon_S86', 'DES_MARCA_MATERIAL_anon_S87', 'DES_MARCA_MATERIAL_anon_S89', 'DES_MARCA_MATERIAL_anon_S9', 'DES_MARCA_MATERIAL_anon_S90', 'DES_MARCA_MATERIAL_anon_S91', 'DES_MARCA_MATERIAL_anon_S92', 'DES_MARCA_MATERIAL_anon_S93', 'DES_MARCA_MATERIAL_anon_S94']\n",
      "Finished train step at 10:12:52\n"
     ]
    }
   ],
   "source": [
    "%run train.py"
   ]
  },
  {
   "cell_type": "code",
   "execution_count": 1,
   "metadata": {
    "tags": []
   },
   "outputs": [
    {
     "name": "stderr",
     "output_type": "stream",
     "text": [
      "/Users/grasiele/opt/anaconda3/lib/python3.8/site-packages/pandas/core/computation/expressions.py:20: UserWarning: Pandas requires version '2.7.3' or newer of 'numexpr' (version '2.7.1' currently installed).\n",
      "  from pandas.core.computation.check import NUMEXPR_INSTALLED\n"
     ]
    },
    {
     "data": {
      "text/html": [
       "<div>\n",
       "<style scoped>\n",
       "    .dataframe tbody tr th:only-of-type {\n",
       "        vertical-align: middle;\n",
       "    }\n",
       "\n",
       "    .dataframe tbody tr th {\n",
       "        vertical-align: top;\n",
       "    }\n",
       "\n",
       "    .dataframe thead th {\n",
       "        text-align: right;\n",
       "    }\n",
       "</style>\n",
       "<table border=\"1\" class=\"dataframe\">\n",
       "  <thead>\n",
       "    <tr style=\"text-align: right;\">\n",
       "      <th></th>\n",
       "      <th>COD_MATERIAL</th>\n",
       "      <th>COD_CICLO</th>\n",
       "      <th>DES_CATEGORIA_MATERIAL</th>\n",
       "      <th>DES_MARCA_MATERIAL</th>\n",
       "      <th>FLG_DATA</th>\n",
       "      <th>FLG_CAMPANHA_MKT_A</th>\n",
       "      <th>FLG_CAMPANHA_MKT_B</th>\n",
       "      <th>FLG_CAMPANHA_MKT_C</th>\n",
       "      <th>FLG_CAMPANHA_MKT_D</th>\n",
       "      <th>FLG_CAMPANHA_MKT_E</th>\n",
       "      <th>FLG_CAMPANHA_MKT_F</th>\n",
       "      <th>PCT_DESCONTO</th>\n",
       "      <th>VL_PRECO</th>\n",
       "      <th>QT_VENDA</th>\n",
       "    </tr>\n",
       "  </thead>\n",
       "  <tbody>\n",
       "    <tr>\n",
       "      <th>29</th>\n",
       "      <td>7098</td>\n",
       "      <td>202101</td>\n",
       "      <td>anon_S12</td>\n",
       "      <td>anon_S45</td>\n",
       "      <td>0</td>\n",
       "      <td>0.0</td>\n",
       "      <td>0.0</td>\n",
       "      <td>0.0</td>\n",
       "      <td>0.0</td>\n",
       "      <td>0.0</td>\n",
       "      <td>0.0</td>\n",
       "      <td>NaN</td>\n",
       "      <td>791.4</td>\n",
       "      <td>NaN</td>\n",
       "    </tr>\n",
       "    <tr>\n",
       "      <th>47</th>\n",
       "      <td>7230</td>\n",
       "      <td>202016</td>\n",
       "      <td>anon_S12</td>\n",
       "      <td>anon_S42</td>\n",
       "      <td>1</td>\n",
       "      <td>0.0</td>\n",
       "      <td>0.0</td>\n",
       "      <td>0.0</td>\n",
       "      <td>0.0</td>\n",
       "      <td>0.0</td>\n",
       "      <td>0.0</td>\n",
       "      <td>NaN</td>\n",
       "      <td>863.4</td>\n",
       "      <td>NaN</td>\n",
       "    </tr>\n",
       "    <tr>\n",
       "      <th>48</th>\n",
       "      <td>7230</td>\n",
       "      <td>202101</td>\n",
       "      <td>anon_S12</td>\n",
       "      <td>anon_S42</td>\n",
       "      <td>0</td>\n",
       "      <td>0.0</td>\n",
       "      <td>0.0</td>\n",
       "      <td>0.0</td>\n",
       "      <td>0.0</td>\n",
       "      <td>0.0</td>\n",
       "      <td>0.0</td>\n",
       "      <td>NaN</td>\n",
       "      <td>863.4</td>\n",
       "      <td>NaN</td>\n",
       "    </tr>\n",
       "    <tr>\n",
       "      <th>113</th>\n",
       "      <td>10104</td>\n",
       "      <td>202016</td>\n",
       "      <td>anon_S12</td>\n",
       "      <td>anon_S47</td>\n",
       "      <td>1</td>\n",
       "      <td>0.0</td>\n",
       "      <td>0.0</td>\n",
       "      <td>0.0</td>\n",
       "      <td>0.0</td>\n",
       "      <td>0.0</td>\n",
       "      <td>0.0</td>\n",
       "      <td>NaN</td>\n",
       "      <td>809.4</td>\n",
       "      <td>NaN</td>\n",
       "    </tr>\n",
       "    <tr>\n",
       "      <th>114</th>\n",
       "      <td>10104</td>\n",
       "      <td>202017</td>\n",
       "      <td>anon_S12</td>\n",
       "      <td>anon_S47</td>\n",
       "      <td>1</td>\n",
       "      <td>0.0</td>\n",
       "      <td>0.0</td>\n",
       "      <td>0.0</td>\n",
       "      <td>0.0</td>\n",
       "      <td>0.0</td>\n",
       "      <td>0.0</td>\n",
       "      <td>NaN</td>\n",
       "      <td>809.4</td>\n",
       "      <td>NaN</td>\n",
       "    </tr>\n",
       "  </tbody>\n",
       "</table>\n",
       "</div>"
      ],
      "text/plain": [
       "     COD_MATERIAL  COD_CICLO DES_CATEGORIA_MATERIAL DES_MARCA_MATERIAL  \\\n",
       "29           7098     202101               anon_S12           anon_S45   \n",
       "47           7230     202016               anon_S12           anon_S42   \n",
       "48           7230     202101               anon_S12           anon_S42   \n",
       "113         10104     202016               anon_S12           anon_S47   \n",
       "114         10104     202017               anon_S12           anon_S47   \n",
       "\n",
       "     FLG_DATA  FLG_CAMPANHA_MKT_A  FLG_CAMPANHA_MKT_B  FLG_CAMPANHA_MKT_C  \\\n",
       "29          0                 0.0                 0.0                 0.0   \n",
       "47          1                 0.0                 0.0                 0.0   \n",
       "48          0                 0.0                 0.0                 0.0   \n",
       "113         1                 0.0                 0.0                 0.0   \n",
       "114         1                 0.0                 0.0                 0.0   \n",
       "\n",
       "     FLG_CAMPANHA_MKT_D  FLG_CAMPANHA_MKT_E  FLG_CAMPANHA_MKT_F  PCT_DESCONTO  \\\n",
       "29                  0.0                 0.0                 0.0           NaN   \n",
       "47                  0.0                 0.0                 0.0           NaN   \n",
       "48                  0.0                 0.0                 0.0           NaN   \n",
       "113                 0.0                 0.0                 0.0           NaN   \n",
       "114                 0.0                 0.0                 0.0           NaN   \n",
       "\n",
       "     VL_PRECO  QT_VENDA  \n",
       "29      791.4       NaN  \n",
       "47      863.4       NaN  \n",
       "48      863.4       NaN  \n",
       "113     809.4       NaN  \n",
       "114     809.4       NaN  "
      ]
     },
     "execution_count": 1,
     "metadata": {},
     "output_type": "execute_result"
    }
   ],
   "source": [
    "import pandas as pd\n",
    "df = pd.read_csv('output.csv')\n",
    "new_data = df[df['COD_CICLO'].isin([202016, 202017, 202101])]\n",
    "new_data.head()"
   ]
  },
  {
   "cell_type": "code",
   "execution_count": 2,
   "metadata": {
    "tags": []
   },
   "outputs": [
    {
     "name": "stderr",
     "output_type": "stream",
     "text": [
      "/Users/grasiele/opt/anaconda3/lib/python3.8/site-packages/xgboost/compat.py:93: FutureWarning: pandas.Int64Index is deprecated and will be removed from pandas in a future version. Use pandas.Index with the appropriate dtype instead.\n",
      "  from pandas import MultiIndex, Int64Index\n",
      "/Users/grasiele/opt/anaconda3/lib/python3.8/site-packages/dask/dataframe/utils.py:367: FutureWarning: pandas.Int64Index is deprecated and will be removed from pandas in a future version. Use pandas.Index with the appropriate dtype instead.\n",
      "  _numeric_index_types = (pd.Int64Index, pd.Float64Index, pd.UInt64Index)\n",
      "/Users/grasiele/opt/anaconda3/lib/python3.8/site-packages/dask/dataframe/utils.py:367: FutureWarning: pandas.Float64Index is deprecated and will be removed from pandas in a future version. Use pandas.Index with the appropriate dtype instead.\n",
      "  _numeric_index_types = (pd.Int64Index, pd.Float64Index, pd.UInt64Index)\n",
      "/Users/grasiele/opt/anaconda3/lib/python3.8/site-packages/dask/dataframe/utils.py:367: FutureWarning: pandas.UInt64Index is deprecated and will be removed from pandas in a future version. Use pandas.Index with the appropriate dtype instead.\n",
      "  _numeric_index_types = (pd.Int64Index, pd.Float64Index, pd.UInt64Index)\n"
     ]
    }
   ],
   "source": [
    "from inference import predict_xgb"
   ]
  },
  {
   "cell_type": "code",
   "execution_count": 3,
   "metadata": {
    "tags": []
   },
   "outputs": [
    {
     "name": "stderr",
     "output_type": "stream",
     "text": [
      "/Users/grasiele/Dropbox/Mac/Documents/case-study-forecasting/inference.py:20: SettingWithCopyWarning: \n",
      "A value is trying to be set on a copy of a slice from a DataFrame\n",
      "\n",
      "See the caveats in the documentation: https://pandas.pydata.org/pandas-docs/stable/user_guide/indexing.html#returning-a-view-versus-a-copy\n",
      "  df.drop(columns={'PCT_DESCONTO', 'COD_MATERIAL', 'QT_VENDA'}, inplace=True)\n",
      "/Users/grasiele/Dropbox/Mac/Documents/case-study-forecasting/inference.py:22: SettingWithCopyWarning: \n",
      "A value is trying to be set on a copy of a slice from a DataFrame\n",
      "\n",
      "See the caveats in the documentation: https://pandas.pydata.org/pandas-docs/stable/user_guide/indexing.html#returning-a-view-versus-a-copy\n",
      "  df.dropna(inplace=True)\n"
     ]
    },
    {
     "name": "stdout",
     "output_type": "stream",
     "text": [
      "['COD_CICLO', 'FLG_DATA', 'FLG_CAMPANHA_MKT_A', 'FLG_CAMPANHA_MKT_B', 'FLG_CAMPANHA_MKT_C', 'FLG_CAMPANHA_MKT_D', 'FLG_CAMPANHA_MKT_E', 'FLG_CAMPANHA_MKT_F', 'VL_PRECO', 'DES_CATEGORIA_MATERIAL_anon_S12', 'DES_CATEGORIA_MATERIAL_anon_S18', 'DES_CATEGORIA_MATERIAL_anon_S2', 'DES_CATEGORIA_MATERIAL_anon_S30', 'DES_CATEGORIA_MATERIAL_anon_S5', 'DES_MARCA_MATERIAL_anon_S14', 'DES_MARCA_MATERIAL_anon_S15', 'DES_MARCA_MATERIAL_anon_S16', 'DES_MARCA_MATERIAL_anon_S17', 'DES_MARCA_MATERIAL_anon_S19', 'DES_MARCA_MATERIAL_anon_S20', 'DES_MARCA_MATERIAL_anon_S21', 'DES_MARCA_MATERIAL_anon_S22', 'DES_MARCA_MATERIAL_anon_S23', 'DES_MARCA_MATERIAL_anon_S24', 'DES_MARCA_MATERIAL_anon_S25', 'DES_MARCA_MATERIAL_anon_S26', 'DES_MARCA_MATERIAL_anon_S27', 'DES_MARCA_MATERIAL_anon_S28', 'DES_MARCA_MATERIAL_anon_S29', 'DES_MARCA_MATERIAL_anon_S3', 'DES_MARCA_MATERIAL_anon_S31', 'DES_MARCA_MATERIAL_anon_S32', 'DES_MARCA_MATERIAL_anon_S33', 'DES_MARCA_MATERIAL_anon_S34', 'DES_MARCA_MATERIAL_anon_S35', 'DES_MARCA_MATERIAL_anon_S36', 'DES_MARCA_MATERIAL_anon_S37', 'DES_MARCA_MATERIAL_anon_S38', 'DES_MARCA_MATERIAL_anon_S39', 'DES_MARCA_MATERIAL_anon_S4', 'DES_MARCA_MATERIAL_anon_S40', 'DES_MARCA_MATERIAL_anon_S41', 'DES_MARCA_MATERIAL_anon_S42', 'DES_MARCA_MATERIAL_anon_S43', 'DES_MARCA_MATERIAL_anon_S44', 'DES_MARCA_MATERIAL_anon_S45', 'DES_MARCA_MATERIAL_anon_S46', 'DES_MARCA_MATERIAL_anon_S47', 'DES_MARCA_MATERIAL_anon_S48', 'DES_MARCA_MATERIAL_anon_S49', 'DES_MARCA_MATERIAL_anon_S50', 'DES_MARCA_MATERIAL_anon_S51', 'DES_MARCA_MATERIAL_anon_S52', 'DES_MARCA_MATERIAL_anon_S53', 'DES_MARCA_MATERIAL_anon_S54', 'DES_MARCA_MATERIAL_anon_S55', 'DES_MARCA_MATERIAL_anon_S56', 'DES_MARCA_MATERIAL_anon_S57', 'DES_MARCA_MATERIAL_anon_S58', 'DES_MARCA_MATERIAL_anon_S59', 'DES_MARCA_MATERIAL_anon_S6', 'DES_MARCA_MATERIAL_anon_S60', 'DES_MARCA_MATERIAL_anon_S61', 'DES_MARCA_MATERIAL_anon_S62', 'DES_MARCA_MATERIAL_anon_S63', 'DES_MARCA_MATERIAL_anon_S64', 'DES_MARCA_MATERIAL_anon_S65', 'DES_MARCA_MATERIAL_anon_S66', 'DES_MARCA_MATERIAL_anon_S67', 'DES_MARCA_MATERIAL_anon_S68', 'DES_MARCA_MATERIAL_anon_S69', 'DES_MARCA_MATERIAL_anon_S70', 'DES_MARCA_MATERIAL_anon_S71', 'DES_MARCA_MATERIAL_anon_S72', 'DES_MARCA_MATERIAL_anon_S73', 'DES_MARCA_MATERIAL_anon_S74', 'DES_MARCA_MATERIAL_anon_S75', 'DES_MARCA_MATERIAL_anon_S76', 'DES_MARCA_MATERIAL_anon_S77', 'DES_MARCA_MATERIAL_anon_S78', 'DES_MARCA_MATERIAL_anon_S79', 'DES_MARCA_MATERIAL_anon_S8', 'DES_MARCA_MATERIAL_anon_S82', 'DES_MARCA_MATERIAL_anon_S83', 'DES_MARCA_MATERIAL_anon_S84', 'DES_MARCA_MATERIAL_anon_S85', 'DES_MARCA_MATERIAL_anon_S86', 'DES_MARCA_MATERIAL_anon_S87', 'DES_MARCA_MATERIAL_anon_S89', 'DES_MARCA_MATERIAL_anon_S9', 'DES_MARCA_MATERIAL_anon_S90', 'DES_MARCA_MATERIAL_anon_S91', 'DES_MARCA_MATERIAL_anon_S92', 'DES_MARCA_MATERIAL_anon_S93', 'DES_MARCA_MATERIAL_anon_S94']\n"
     ]
    },
    {
     "name": "stderr",
     "output_type": "stream",
     "text": [
      "/Users/grasiele/Dropbox/Mac/Documents/case-study-forecasting/inference.py:60: UserWarning: Pandas requires version '1.4.3' or newer of 'xlsxwriter' (version '1.3.7' currently installed).\n",
      "  preds.to_excel('data/forecasted_values.xlsx', index=False)\n"
     ]
    },
    {
     "data": {
      "text/html": [
       "<div>\n",
       "<style scoped>\n",
       "    .dataframe tbody tr th:only-of-type {\n",
       "        vertical-align: middle;\n",
       "    }\n",
       "\n",
       "    .dataframe tbody tr th {\n",
       "        vertical-align: top;\n",
       "    }\n",
       "\n",
       "    .dataframe thead th {\n",
       "        text-align: right;\n",
       "    }\n",
       "</style>\n",
       "<table border=\"1\" class=\"dataframe\">\n",
       "  <thead>\n",
       "    <tr style=\"text-align: right;\">\n",
       "      <th></th>\n",
       "      <th>Predicted Values</th>\n",
       "    </tr>\n",
       "  </thead>\n",
       "  <tbody>\n",
       "    <tr>\n",
       "      <th>0</th>\n",
       "      <td>20208.777344</td>\n",
       "    </tr>\n",
       "    <tr>\n",
       "      <th>1</th>\n",
       "      <td>20888.978516</td>\n",
       "    </tr>\n",
       "    <tr>\n",
       "      <th>2</th>\n",
       "      <td>17128.675781</td>\n",
       "    </tr>\n",
       "    <tr>\n",
       "      <th>3</th>\n",
       "      <td>24095.796875</td>\n",
       "    </tr>\n",
       "    <tr>\n",
       "      <th>4</th>\n",
       "      <td>24095.796875</td>\n",
       "    </tr>\n",
       "    <tr>\n",
       "      <th>...</th>\n",
       "      <td>...</td>\n",
       "    </tr>\n",
       "    <tr>\n",
       "      <th>3143</th>\n",
       "      <td>25100.943359</td>\n",
       "    </tr>\n",
       "    <tr>\n",
       "      <th>3144</th>\n",
       "      <td>50328.218750</td>\n",
       "    </tr>\n",
       "    <tr>\n",
       "      <th>3145</th>\n",
       "      <td>202021.718750</td>\n",
       "    </tr>\n",
       "    <tr>\n",
       "      <th>3146</th>\n",
       "      <td>203727.078125</td>\n",
       "    </tr>\n",
       "    <tr>\n",
       "      <th>3147</th>\n",
       "      <td>147391.609375</td>\n",
       "    </tr>\n",
       "  </tbody>\n",
       "</table>\n",
       "<p>3148 rows × 1 columns</p>\n",
       "</div>"
      ],
      "text/plain": [
       "      Predicted Values\n",
       "0         20208.777344\n",
       "1         20888.978516\n",
       "2         17128.675781\n",
       "3         24095.796875\n",
       "4         24095.796875\n",
       "...                ...\n",
       "3143      25100.943359\n",
       "3144      50328.218750\n",
       "3145     202021.718750\n",
       "3146     203727.078125\n",
       "3147     147391.609375\n",
       "\n",
       "[3148 rows x 1 columns]"
      ]
     },
     "execution_count": 3,
     "metadata": {},
     "output_type": "execute_result"
    }
   ],
   "source": [
    "predict_xgb(new_data)"
   ]
  },
  {
   "cell_type": "code",
   "execution_count": null,
   "metadata": {},
   "outputs": [],
   "source": []
  }
 ],
 "metadata": {
  "kernelspec": {
   "display_name": "Python 3",
   "language": "python",
   "name": "python3"
  },
  "language_info": {
   "codemirror_mode": {
    "name": "ipython",
    "version": 3
   },
   "file_extension": ".py",
   "mimetype": "text/x-python",
   "name": "python",
   "nbconvert_exporter": "python",
   "pygments_lexer": "ipython3",
   "version": "3.8.5"
  }
 },
 "nbformat": 4,
 "nbformat_minor": 4
}
