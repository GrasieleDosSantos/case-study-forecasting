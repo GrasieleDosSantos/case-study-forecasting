{
 "cells": [
  {
   "cell_type": "markdown",
   "metadata": {},
   "source": [
    "# Estudo de caso: previsão de vendas\n",
    "\n",
    "Nesse estudo vamos fazer uma análise exploratória de dados de vendas, onde cada linha do conjunto contém informações de venda de um determinado item, associadas a ciclos temporais. As colunas de nosso dataset são:\n",
    "\n",
    "- COD_MATERIAL            Código do produto\n",
    "- COD_CICLO               Ciclo (variável de tempo)\n",
    "- DES_CATEGORIA_MATERIAL  Categoria do produto\n",
    "- DES_MARCA_MATERIAL      Marca do Produto\n",
    "- FLG_DATA                Indicador de existência ou não de datas comemorativas no ciclo\n",
    "- FLG_CAMPANHA_MKT_A      Indicador de existência ou não da campanha de marketing A no ciclo\n",
    "- FLG_CAMPANHA_MKT_B      Indicador de existência ou não da campanha de marketing B no ciclo\n",
    "- FLG_CAMPANHA_MKT_C      Indicador de existência ou não da campanha de marketing C no ciclo\n",
    "- FLG_CAMPANHA_MKT_D      Indicador de existência ou não da campanha de marketing D no ciclo\n",
    "- FLG_CAMPANHA_MKT_E      Indicador de existência ou não da campanha de marketing E no ciclo\n",
    "- FLG_CAMPANHA_MKT_F      Indicador de existência ou não da campanha de marketing E no ciclo\n",
    "- PCT_DESCONTO            Percentual de desconto aplicado na venda (0 - 100)\n",
    "- VL_PRECO                Preço do produto\n",
    "- QT_VENDA                Quantidade vendida\n",
    "\n",
    "O objetivo é prever a quantidade vendida de cada item em 3 ciclos específicos: 202016, 202017 e 202101.\n",
    "\n",
    "\n",
    "Este notebook também contém uma seção de pré-processamento dos dados e diferentes experimentos associados a diferentes abordagens de treinamento de algoritmos de machine learning, na tentativa de encontrar um modelo que apresente uma boa performance quando comparado aos outros. A partir desta exploração construíremos os scripts de pré-processamento, treino e inferência, para possibilitar futuras automações."
   ]
  },
  {
   "cell_type": "markdown",
   "metadata": {},
   "source": [
    "## Análise Exploratória"
   ]
  },
  {
   "cell_type": "code",
   "execution_count": 1,
   "metadata": {
    "tags": []
   },
   "outputs": [
    {
     "name": "stderr",
     "output_type": "stream",
     "text": [
      "/Users/grasiele/opt/anaconda3/lib/python3.8/site-packages/pandas/core/computation/expressions.py:20: UserWarning: Pandas requires version '2.7.3' or newer of 'numexpr' (version '2.7.1' currently installed).\n",
      "  from pandas.core.computation.check import NUMEXPR_INSTALLED\n"
     ]
    }
   ],
   "source": [
    "import pandas as pd \n",
    "from pandas.plotting import autocorrelation_plot\n",
    "import numpy as np \n",
    "import os\n",
    "import matplotlib.pyplot as plt \n",
    "import seaborn as sns \n",
    "\n",
    "from statsmodels.tsa.arima.model import ARIMA\n",
    "import statsmodels.api as sm\n",
    "from statsmodels.graphics.tsaplots import plot_pacf\n",
    "from sklearn.metrics import mean_squared_error\n",
    "\n",
    "sns.set_style(\"whitegrid\")"
   ]
  },
  {
   "cell_type": "code",
   "execution_count": 2,
   "metadata": {
    "tags": []
   },
   "outputs": [
    {
     "data": {
      "text/html": [
       "<div>\n",
       "<style scoped>\n",
       "    .dataframe tbody tr th:only-of-type {\n",
       "        vertical-align: middle;\n",
       "    }\n",
       "\n",
       "    .dataframe tbody tr th {\n",
       "        vertical-align: top;\n",
       "    }\n",
       "\n",
       "    .dataframe thead th {\n",
       "        text-align: right;\n",
       "    }\n",
       "</style>\n",
       "<table border=\"1\" class=\"dataframe\">\n",
       "  <thead>\n",
       "    <tr style=\"text-align: right;\">\n",
       "      <th></th>\n",
       "      <th>COD_MATERIAL</th>\n",
       "      <th>COD_CICLO</th>\n",
       "      <th>DES_CATEGORIA_MATERIAL</th>\n",
       "      <th>DES_MARCA_MATERIAL</th>\n",
       "      <th>FLG_DATA</th>\n",
       "      <th>FLG_CAMPANHA_MKT_A</th>\n",
       "      <th>FLG_CAMPANHA_MKT_B</th>\n",
       "      <th>FLG_CAMPANHA_MKT_C</th>\n",
       "      <th>FLG_CAMPANHA_MKT_D</th>\n",
       "      <th>FLG_CAMPANHA_MKT_E</th>\n",
       "      <th>FLG_CAMPANHA_MKT_F</th>\n",
       "      <th>PCT_DESCONTO</th>\n",
       "      <th>VL_PRECO</th>\n",
       "      <th>QT_VENDA</th>\n",
       "    </tr>\n",
       "  </thead>\n",
       "  <tbody>\n",
       "    <tr>\n",
       "      <th>0</th>\n",
       "      <td>6246</td>\n",
       "      <td>201908</td>\n",
       "      <td>anon_S12</td>\n",
       "      <td>anon_S53</td>\n",
       "      <td>1</td>\n",
       "      <td>0.0</td>\n",
       "      <td>0.0</td>\n",
       "      <td>0.0</td>\n",
       "      <td>0.0</td>\n",
       "      <td>0.0</td>\n",
       "      <td>0.0</td>\n",
       "      <td>NaN</td>\n",
       "      <td>461.4</td>\n",
       "      <td>240.0</td>\n",
       "    </tr>\n",
       "    <tr>\n",
       "      <th>1</th>\n",
       "      <td>6246</td>\n",
       "      <td>201915</td>\n",
       "      <td>anon_S12</td>\n",
       "      <td>anon_S53</td>\n",
       "      <td>0</td>\n",
       "      <td>0.0</td>\n",
       "      <td>0.0</td>\n",
       "      <td>0.0</td>\n",
       "      <td>0.0</td>\n",
       "      <td>0.0</td>\n",
       "      <td>0.0</td>\n",
       "      <td>NaN</td>\n",
       "      <td>461.4</td>\n",
       "      <td>240.0</td>\n",
       "    </tr>\n",
       "    <tr>\n",
       "      <th>2</th>\n",
       "      <td>6306</td>\n",
       "      <td>201916</td>\n",
       "      <td>anon_S12</td>\n",
       "      <td>anon_S53</td>\n",
       "      <td>1</td>\n",
       "      <td>0.0</td>\n",
       "      <td>0.0</td>\n",
       "      <td>0.0</td>\n",
       "      <td>0.0</td>\n",
       "      <td>0.0</td>\n",
       "      <td>0.0</td>\n",
       "      <td>NaN</td>\n",
       "      <td>521.4</td>\n",
       "      <td>240.0</td>\n",
       "    </tr>\n",
       "    <tr>\n",
       "      <th>3</th>\n",
       "      <td>6480</td>\n",
       "      <td>201801</td>\n",
       "      <td>anon_S12</td>\n",
       "      <td>anon_S17</td>\n",
       "      <td>0</td>\n",
       "      <td>0.0</td>\n",
       "      <td>0.0</td>\n",
       "      <td>0.0</td>\n",
       "      <td>0.0</td>\n",
       "      <td>0.0</td>\n",
       "      <td>0.0</td>\n",
       "      <td>NaN</td>\n",
       "      <td>833.4</td>\n",
       "      <td>528.0</td>\n",
       "    </tr>\n",
       "    <tr>\n",
       "      <th>4</th>\n",
       "      <td>6480</td>\n",
       "      <td>201802</td>\n",
       "      <td>anon_S12</td>\n",
       "      <td>anon_S17</td>\n",
       "      <td>0</td>\n",
       "      <td>0.0</td>\n",
       "      <td>0.0</td>\n",
       "      <td>0.0</td>\n",
       "      <td>0.0</td>\n",
       "      <td>0.0</td>\n",
       "      <td>0.0</td>\n",
       "      <td>NaN</td>\n",
       "      <td>833.4</td>\n",
       "      <td>564.0</td>\n",
       "    </tr>\n",
       "  </tbody>\n",
       "</table>\n",
       "</div>"
      ],
      "text/plain": [
       "   COD_MATERIAL  COD_CICLO DES_CATEGORIA_MATERIAL DES_MARCA_MATERIAL  \\\n",
       "0          6246     201908               anon_S12           anon_S53   \n",
       "1          6246     201915               anon_S12           anon_S53   \n",
       "2          6306     201916               anon_S12           anon_S53   \n",
       "3          6480     201801               anon_S12           anon_S17   \n",
       "4          6480     201802               anon_S12           anon_S17   \n",
       "\n",
       "   FLG_DATA  FLG_CAMPANHA_MKT_A  FLG_CAMPANHA_MKT_B  FLG_CAMPANHA_MKT_C  \\\n",
       "0         1                 0.0                 0.0                 0.0   \n",
       "1         0                 0.0                 0.0                 0.0   \n",
       "2         1                 0.0                 0.0                 0.0   \n",
       "3         0                 0.0                 0.0                 0.0   \n",
       "4         0                 0.0                 0.0                 0.0   \n",
       "\n",
       "   FLG_CAMPANHA_MKT_D  FLG_CAMPANHA_MKT_E  FLG_CAMPANHA_MKT_F  PCT_DESCONTO  \\\n",
       "0                 0.0                 0.0                 0.0           NaN   \n",
       "1                 0.0                 0.0                 0.0           NaN   \n",
       "2                 0.0                 0.0                 0.0           NaN   \n",
       "3                 0.0                 0.0                 0.0           NaN   \n",
       "4                 0.0                 0.0                 0.0           NaN   \n",
       "\n",
       "   VL_PRECO  QT_VENDA  \n",
       "0     461.4     240.0  \n",
       "1     461.4     240.0  \n",
       "2     521.4     240.0  \n",
       "3     833.4     528.0  \n",
       "4     833.4     564.0  "
      ]
     },
     "execution_count": 2,
     "metadata": {},
     "output_type": "execute_result"
    }
   ],
   "source": [
    "df = pd.read_csv('output.csv')\n",
    "df.head()"
   ]
  },
  {
   "cell_type": "code",
   "execution_count": 3,
   "metadata": {},
   "outputs": [
    {
     "data": {
      "text/plain": [
       "(52094, 14)"
      ]
     },
     "execution_count": 3,
     "metadata": {},
     "output_type": "execute_result"
    }
   ],
   "source": [
    "df.shape"
   ]
  },
  {
   "cell_type": "code",
   "execution_count": 4,
   "metadata": {
    "tags": []
   },
   "outputs": [
    {
     "name": "stdout",
     "output_type": "stream",
     "text": [
      "<class 'pandas.core.frame.DataFrame'>\n",
      "RangeIndex: 52094 entries, 0 to 52093\n",
      "Data columns (total 14 columns):\n",
      " #   Column                  Non-Null Count  Dtype  \n",
      "---  ------                  --------------  -----  \n",
      " 0   COD_MATERIAL            52094 non-null  int64  \n",
      " 1   COD_CICLO               52094 non-null  int64  \n",
      " 2   DES_CATEGORIA_MATERIAL  52094 non-null  object \n",
      " 3   DES_MARCA_MATERIAL      52094 non-null  object \n",
      " 4   FLG_DATA                52094 non-null  int64  \n",
      " 5   FLG_CAMPANHA_MKT_A      52094 non-null  float64\n",
      " 6   FLG_CAMPANHA_MKT_B      52094 non-null  float64\n",
      " 7   FLG_CAMPANHA_MKT_C      52094 non-null  float64\n",
      " 8   FLG_CAMPANHA_MKT_D      52094 non-null  float64\n",
      " 9   FLG_CAMPANHA_MKT_E      52094 non-null  float64\n",
      " 10  FLG_CAMPANHA_MKT_F      52094 non-null  float64\n",
      " 11  PCT_DESCONTO            16780 non-null  float64\n",
      " 12  VL_PRECO                52088 non-null  float64\n",
      " 13  QT_VENDA                48946 non-null  float64\n",
      "dtypes: float64(9), int64(3), object(2)\n",
      "memory usage: 5.6+ MB\n"
     ]
    }
   ],
   "source": [
    "df.info()"
   ]
  },
  {
   "cell_type": "code",
   "execution_count": 5,
   "metadata": {
    "tags": []
   },
   "outputs": [
    {
     "data": {
      "text/plain": [
       "COD_MATERIAL                  0\n",
       "COD_CICLO                     0\n",
       "DES_CATEGORIA_MATERIAL        0\n",
       "DES_MARCA_MATERIAL            0\n",
       "FLG_DATA                      0\n",
       "FLG_CAMPANHA_MKT_A            0\n",
       "FLG_CAMPANHA_MKT_B            0\n",
       "FLG_CAMPANHA_MKT_C            0\n",
       "FLG_CAMPANHA_MKT_D            0\n",
       "FLG_CAMPANHA_MKT_E            0\n",
       "FLG_CAMPANHA_MKT_F            0\n",
       "PCT_DESCONTO              35314\n",
       "VL_PRECO                      6\n",
       "QT_VENDA                   3148\n",
       "dtype: int64"
      ]
     },
     "execution_count": 5,
     "metadata": {},
     "output_type": "execute_result"
    }
   ],
   "source": [
    "df.isna().sum()"
   ]
  },
  {
   "cell_type": "markdown",
   "metadata": {},
   "source": [
    "Vemos que a variável 'PCT_DESCONTO' possui cerca de 68% de dados faltantes. Já nosso target, a variável 'QT_VENDA', possui 3148 dados faltantes. Observe também que as variáveis flag são do tipo float, mas descrevem variáveis de natureza categórica. Por isso, ao analisarmos correlação e propriedades como média, std, e outras, consideraremos somente as variáveis intrinsicamente do tipo numérico."
   ]
  },
  {
   "cell_type": "code",
   "execution_count": 6,
   "metadata": {
    "tags": []
   },
   "outputs": [
    {
     "data": {
      "text/html": [
       "<div>\n",
       "<style scoped>\n",
       "    .dataframe tbody tr th:only-of-type {\n",
       "        vertical-align: middle;\n",
       "    }\n",
       "\n",
       "    .dataframe tbody tr th {\n",
       "        vertical-align: top;\n",
       "    }\n",
       "\n",
       "    .dataframe thead th {\n",
       "        text-align: right;\n",
       "    }\n",
       "</style>\n",
       "<table border=\"1\" class=\"dataframe\">\n",
       "  <thead>\n",
       "    <tr style=\"text-align: right;\">\n",
       "      <th></th>\n",
       "      <th>PCT_DESCONTO</th>\n",
       "      <th>VL_PRECO</th>\n",
       "      <th>QT_VENDA</th>\n",
       "    </tr>\n",
       "  </thead>\n",
       "  <tbody>\n",
       "    <tr>\n",
       "      <th>PCT_DESCONTO</th>\n",
       "      <td>1.000000</td>\n",
       "      <td>-0.031468</td>\n",
       "      <td>0.006591</td>\n",
       "    </tr>\n",
       "    <tr>\n",
       "      <th>VL_PRECO</th>\n",
       "      <td>-0.031468</td>\n",
       "      <td>1.000000</td>\n",
       "      <td>0.100871</td>\n",
       "    </tr>\n",
       "    <tr>\n",
       "      <th>QT_VENDA</th>\n",
       "      <td>0.006591</td>\n",
       "      <td>0.100871</td>\n",
       "      <td>1.000000</td>\n",
       "    </tr>\n",
       "  </tbody>\n",
       "</table>\n",
       "</div>"
      ],
      "text/plain": [
       "              PCT_DESCONTO  VL_PRECO  QT_VENDA\n",
       "PCT_DESCONTO      1.000000 -0.031468  0.006591\n",
       "VL_PRECO         -0.031468  1.000000  0.100871\n",
       "QT_VENDA          0.006591  0.100871  1.000000"
      ]
     },
     "execution_count": 6,
     "metadata": {},
     "output_type": "execute_result"
    }
   ],
   "source": [
    "df[['PCT_DESCONTO', 'VL_PRECO', 'QT_VENDA']].corr()"
   ]
  },
  {
   "cell_type": "code",
   "execution_count": 7,
   "metadata": {
    "tags": []
   },
   "outputs": [
    {
     "data": {
      "text/html": [
       "<div>\n",
       "<style scoped>\n",
       "    .dataframe tbody tr th:only-of-type {\n",
       "        vertical-align: middle;\n",
       "    }\n",
       "\n",
       "    .dataframe tbody tr th {\n",
       "        vertical-align: top;\n",
       "    }\n",
       "\n",
       "    .dataframe thead th {\n",
       "        text-align: right;\n",
       "    }\n",
       "</style>\n",
       "<table border=\"1\" class=\"dataframe\">\n",
       "  <thead>\n",
       "    <tr style=\"text-align: right;\">\n",
       "      <th></th>\n",
       "      <th>count</th>\n",
       "      <th>mean</th>\n",
       "      <th>std</th>\n",
       "      <th>min</th>\n",
       "      <th>25%</th>\n",
       "      <th>50%</th>\n",
       "      <th>75%</th>\n",
       "      <th>max</th>\n",
       "    </tr>\n",
       "  </thead>\n",
       "  <tbody>\n",
       "    <tr>\n",
       "      <th>PCT_DESCONTO</th>\n",
       "      <td>16780.0</td>\n",
       "      <td>19.461982</td>\n",
       "      <td>77.696194</td>\n",
       "      <td>0.00</td>\n",
       "      <td>15.0</td>\n",
       "      <td>20.0</td>\n",
       "      <td>25.035</td>\n",
       "      <td>10000.00</td>\n",
       "    </tr>\n",
       "    <tr>\n",
       "      <th>VL_PRECO</th>\n",
       "      <td>52088.0</td>\n",
       "      <td>544.998243</td>\n",
       "      <td>250.925173</td>\n",
       "      <td>234.06</td>\n",
       "      <td>389.4</td>\n",
       "      <td>461.4</td>\n",
       "      <td>593.400</td>\n",
       "      <td>5539.62</td>\n",
       "    </tr>\n",
       "    <tr>\n",
       "      <th>QT_VENDA</th>\n",
       "      <td>48946.0</td>\n",
       "      <td>34004.046275</td>\n",
       "      <td>98123.669055</td>\n",
       "      <td>235.00</td>\n",
       "      <td>810.0</td>\n",
       "      <td>5880.0</td>\n",
       "      <td>29964.000</td>\n",
       "      <td>4047372.00</td>\n",
       "    </tr>\n",
       "  </tbody>\n",
       "</table>\n",
       "</div>"
      ],
      "text/plain": [
       "                count          mean           std     min    25%     50%  \\\n",
       "PCT_DESCONTO  16780.0     19.461982     77.696194    0.00   15.0    20.0   \n",
       "VL_PRECO      52088.0    544.998243    250.925173  234.06  389.4   461.4   \n",
       "QT_VENDA      48946.0  34004.046275  98123.669055  235.00  810.0  5880.0   \n",
       "\n",
       "                    75%         max  \n",
       "PCT_DESCONTO     25.035    10000.00  \n",
       "VL_PRECO        593.400     5539.62  \n",
       "QT_VENDA      29964.000  4047372.00  "
      ]
     },
     "execution_count": 7,
     "metadata": {},
     "output_type": "execute_result"
    }
   ],
   "source": [
    "df[['PCT_DESCONTO', 'VL_PRECO', 'QT_VENDA']].describe().T"
   ]
  },
  {
   "cell_type": "markdown",
   "metadata": {},
   "source": [
    "Pelas descritiva acima, podemos ver que a variável 'pct_desconto' possui outliers. Mas não vamos nos preocupar com essa questão, pois no pré processamento ela será descartada por conter muitos valores faltantes. Vamos agora analisar a distribuição das demais variáveis."
   ]
  },
  {
   "cell_type": "code",
   "execution_count": 8,
   "metadata": {
    "tags": []
   },
   "outputs": [
    {
     "data": {
      "text/plain": [
       "anon_S5     14053\n",
       "anon_S2     12870\n",
       "anon_S12    12828\n",
       "anon_S11     7018\n",
       "anon_S18     3120\n",
       "anon_S30     2205\n",
       "Name: DES_CATEGORIA_MATERIAL, dtype: int64"
      ]
     },
     "execution_count": 8,
     "metadata": {},
     "output_type": "execute_result"
    }
   ],
   "source": [
    "df['DES_CATEGORIA_MATERIAL'].value_counts()"
   ]
  },
  {
   "cell_type": "code",
   "execution_count": 9,
   "metadata": {
    "tags": []
   },
   "outputs": [
    {
     "data": {
      "text/plain": [
       "anon_S8     10302\n",
       "anon_S24     7361\n",
       "anon_S23     3649\n",
       "anon_S22     3513\n",
       "anon_S20     3333\n",
       "            ...  \n",
       "anon_S92        1\n",
       "anon_S80        1\n",
       "anon_S87        1\n",
       "anon_S82        1\n",
       "anon_S84        1\n",
       "Name: DES_MARCA_MATERIAL, Length: 85, dtype: int64"
      ]
     },
     "execution_count": 9,
     "metadata": {},
     "output_type": "execute_result"
    }
   ],
   "source": [
    "df['DES_MARCA_MATERIAL'].value_counts()"
   ]
  },
  {
   "cell_type": "markdown",
   "metadata": {},
   "source": [
    "Vamos que esta última feature possui uma cardinalidade alta. Vamos, por agora, considerar apenas os 10 valores mais frequentes, e agrupar os demais em uma única categoria chamada 'other'."
   ]
  },
  {
   "cell_type": "code",
   "execution_count": 10,
   "metadata": {
    "tags": []
   },
   "outputs": [],
   "source": [
    "counts = df['DES_MARCA_MATERIAL'].value_counts()\n",
    "to_group = counts[counts < 1525].index.tolist()\n",
    "df['DES_MARCA_MATERIAL'] = df['DES_MARCA_MATERIAL'].replace(to_group, 'Other')"
   ]
  },
  {
   "cell_type": "code",
   "execution_count": 11,
   "metadata": {
    "tags": []
   },
   "outputs": [
    {
     "data": {
      "text/plain": [
       "Other       13844\n",
       "anon_S8     10302\n",
       "anon_S24     7361\n",
       "anon_S23     3649\n",
       "anon_S22     3513\n",
       "anon_S20     3333\n",
       "anon_S17     2347\n",
       "anon_S21     2282\n",
       "anon_S6      2039\n",
       "anon_S9      1898\n",
       "anon_S4      1526\n",
       "Name: DES_MARCA_MATERIAL, dtype: int64"
      ]
     },
     "execution_count": 11,
     "metadata": {},
     "output_type": "execute_result"
    }
   ],
   "source": [
    "df['DES_MARCA_MATERIAL'].value_counts()"
   ]
  },
  {
   "cell_type": "code",
   "execution_count": 12,
   "metadata": {
    "tags": []
   },
   "outputs": [
    {
     "data": {
      "text/plain": [
       "53"
      ]
     },
     "execution_count": 12,
     "metadata": {},
     "output_type": "execute_result"
    }
   ],
   "source": [
    "df['COD_CICLO'].nunique()"
   ]
  },
  {
   "cell_type": "code",
   "execution_count": 13,
   "metadata": {
    "tags": []
   },
   "outputs": [
    {
     "data": {
      "text/plain": [
       "array([201908, 201915, 201916, 201801, 201802, 201803, 201804, 201805,\n",
       "       201806, 201807, 201808, 201809, 201810, 201811, 201813, 201902,\n",
       "       201904, 201914, 202002, 202101, 201812, 201903, 201910, 201913,\n",
       "       202003, 202008, 202011, 202016, 201917, 202015, 201817, 201901,\n",
       "       201912, 201818, 201907, 201911, 201814, 201905, 202001, 202004,\n",
       "       202005, 202006, 202007, 202009, 202010, 202012, 202013, 202017,\n",
       "       201906, 201815, 201816, 201909, 202014])"
      ]
     },
     "execution_count": 13,
     "metadata": {},
     "output_type": "execute_result"
    }
   ],
   "source": [
    "df['COD_CICLO'].unique()"
   ]
  },
  {
   "cell_type": "code",
   "execution_count": 14,
   "metadata": {
    "tags": []
   },
   "outputs": [
    {
     "data": {
      "text/plain": [
       "202017    1053\n",
       "202016    1049\n",
       "202101    1046\n",
       "Name: COD_CICLO, dtype: int64"
      ]
     },
     "execution_count": 14,
     "metadata": {},
     "output_type": "execute_result"
    }
   ],
   "source": [
    "df[df['QT_VENDA'].isna()]['COD_CICLO'].value_counts()"
   ]
  },
  {
   "cell_type": "markdown",
   "metadata": {},
   "source": [
    "Aqui vemos que os dados faltantes em 'QT_VENDA' se referem aos ciclos para os quais queremos fazer as previsões. Portanto, não temos o ground-truth associado a estes ciclos."
   ]
  },
  {
   "cell_type": "code",
   "execution_count": 15,
   "metadata": {
    "tags": []
   },
   "outputs": [
    {
     "data": {
      "text/plain": [
       "FLG_CAMPANHA_MKT_A    36124\n",
       "FLG_CAMPANHA_MKT_B    13577\n",
       "FLG_CAMPANHA_MKT_D     2213\n",
       "FLG_CAMPANHA_MKT_C      180\n",
       "Name: CAMPANHA_MKT, dtype: int64"
      ]
     },
     "execution_count": 15,
     "metadata": {},
     "output_type": "execute_result"
    }
   ],
   "source": [
    "# categorizing the campaing variables in order to plot their distribution\n",
    "df_cat = df.loc[:,['FLG_CAMPANHA_MKT_A', 'FLG_CAMPANHA_MKT_B', 'FLG_CAMPANHA_MKT_C', 'FLG_CAMPANHA_MKT_D', 'FLG_CAMPANHA_MKT_E', 'FLG_CAMPANHA_MKT_F']]\n",
    "df_cat['CAMPANHA_MKT'] = df_cat.idxmax(axis=1)\n",
    "df_cat['CAMPANHA_MKT'].value_counts()"
   ]
  },
  {
   "cell_type": "markdown",
   "metadata": {},
   "source": [
    "Note que não há registros correspondentes às campanhas E e F."
   ]
  },
  {
   "cell_type": "code",
   "execution_count": 16,
   "metadata": {
    "tags": []
   },
   "outputs": [],
   "source": [
    "# função que plota a distribuição das variáveis categóricas\n",
    "def plot_distr(var, n_row, n_col, title, rotation, data, hue = None):\n",
    "    f = sns.countplot(ax = axes[n_row, n_col], x = var, data = data, hue = hue, order = data[var].value_counts().index)\n",
    "    f.set(title = title, ylabel = 'Frequência Absoluta')\n",
    "    f.tick_params(axis=\"x\", rotation = rotation)\n",
    "    return None"
   ]
  },
  {
   "cell_type": "code",
   "execution_count": 17,
   "metadata": {
    "tags": []
   },
   "outputs": [
    {
     "data": {
      "image/png": "[encoded data removed]",
      "text/plain": [
       "<Figure size 1152x1728 with 4 Axes>"
      ]
     },
     "metadata": {},
     "output_type": "display_data"
    }
   ],
   "source": [
    "fig, axes = plt.subplots(2, 2, figsize=(16, 24))\n",
    "plot_distr('DES_CATEGORIA_MATERIAL', 0, 0, 'Categoria do produto', 0, df)\n",
    "plot_distr('DES_MARCA_MATERIAL', 0, 1, 'Marca do produto', 60, df)\n",
    "plot_distr('FLG_DATA', 1, 0, 'Datas Festivas', 0, df)\n",
    "plot_distr('CAMPANHA_MKT', 1, 1, 'Campanhas de marketing', 45, df_cat)"
   ]
  },
  {
   "cell_type": "markdown",
   "metadata": {},
   "source": [
    "Vamos fazer agora uma análise bivariada para entender como variam preço e quantidade vendida."
   ]
  },
  {
   "cell_type": "code",
   "execution_count": 18,
   "metadata": {
    "tags": []
   },
   "outputs": [
    {
     "data": {
      "text/plain": [
       "<AxesSubplot:xlabel='QT_VENDA', ylabel='VL_PRECO'>"
      ]
     },
     "execution_count": 18,
     "metadata": {},
     "output_type": "execute_result"
    },
    {
     "data": {
      "image/png": "[encoded data removed]",
      "text/plain": [
       "<Figure size 432x288 with 1 Axes>"
      ]
     },
     "metadata": {},
     "output_type": "display_data"
    }
   ],
   "source": [
    "sns.scatterplot(data=df, x='QT_VENDA', y='VL_PRECO')"
   ]
  },
  {
   "cell_type": "markdown",
   "metadata": {},
   "source": [
    "Vemos que parece não haver uma correlação significativa entre essas variáveis. Agora, vamos avaliar o comportamento temporal da quantidade de vendas."
   ]
  },
  {
   "cell_type": "code",
   "execution_count": 19,
   "metadata": {
    "tags": []
   },
   "outputs": [
    {
     "data": {
      "image/png": "[encoded data removed]",
      "text/plain": [
       "<Figure size 432x288 with 1 Axes>"
      ]
     },
     "metadata": {},
     "output_type": "display_data"
    }
   ],
   "source": [
    "f = sns.lineplot(data= df, x='COD_CICLO', y='QT_VENDA')\n",
    "f.set(title = 'Evolução temporal da quantidade de vendas', xlabel = 'Ciclo', ylabel = 'Quantidade de vendas')\n",
    "plt.show()"
   ]
  },
  {
   "cell_type": "markdown",
   "metadata": {},
   "source": [
    "Vamos checar se esta série temporal é estacionária, como aparenta ser, após tratamento dos dados faltantes. Utilizaremos para tanto o teste ADF (Augmented Dickey-Fuller). Por hora vamos checar como a série se comporta em ciclos com dias festivos versus ciclos sem dias festivos."
   ]
  },
  {
   "cell_type": "code",
   "execution_count": 20,
   "metadata": {
    "tags": []
   },
   "outputs": [
    {
     "data": {
      "text/html": [
       "<div>\n",
       "<style scoped>\n",
       "    .dataframe tbody tr th:only-of-type {\n",
       "        vertical-align: middle;\n",
       "    }\n",
       "\n",
       "    .dataframe tbody tr th {\n",
       "        vertical-align: top;\n",
       "    }\n",
       "\n",
       "    .dataframe thead th {\n",
       "        text-align: right;\n",
       "    }\n",
       "</style>\n",
       "<table border=\"1\" class=\"dataframe\">\n",
       "  <thead>\n",
       "    <tr style=\"text-align: right;\">\n",
       "      <th></th>\n",
       "      <th>COD_MATERIAL</th>\n",
       "      <th>COD_CICLO</th>\n",
       "      <th>DES_CATEGORIA_MATERIAL</th>\n",
       "      <th>DES_MARCA_MATERIAL</th>\n",
       "      <th>FLG_DATA</th>\n",
       "      <th>FLG_CAMPANHA_MKT_A</th>\n",
       "      <th>FLG_CAMPANHA_MKT_B</th>\n",
       "      <th>FLG_CAMPANHA_MKT_C</th>\n",
       "      <th>FLG_CAMPANHA_MKT_D</th>\n",
       "      <th>FLG_CAMPANHA_MKT_E</th>\n",
       "      <th>FLG_CAMPANHA_MKT_F</th>\n",
       "      <th>PCT_DESCONTO</th>\n",
       "      <th>VL_PRECO</th>\n",
       "      <th>QT_VENDA</th>\n",
       "    </tr>\n",
       "  </thead>\n",
       "  <tbody>\n",
       "    <tr>\n",
       "      <th>0</th>\n",
       "      <td>6246</td>\n",
       "      <td>201908</td>\n",
       "      <td>anon_S12</td>\n",
       "      <td>Other</td>\n",
       "      <td>1</td>\n",
       "      <td>0.0</td>\n",
       "      <td>0.0</td>\n",
       "      <td>0.0</td>\n",
       "      <td>0.0</td>\n",
       "      <td>0.0</td>\n",
       "      <td>0.0</td>\n",
       "      <td>NaN</td>\n",
       "      <td>461.40</td>\n",
       "      <td>240.0</td>\n",
       "    </tr>\n",
       "    <tr>\n",
       "      <th>2</th>\n",
       "      <td>6306</td>\n",
       "      <td>201916</td>\n",
       "      <td>anon_S12</td>\n",
       "      <td>Other</td>\n",
       "      <td>1</td>\n",
       "      <td>0.0</td>\n",
       "      <td>0.0</td>\n",
       "      <td>0.0</td>\n",
       "      <td>0.0</td>\n",
       "      <td>0.0</td>\n",
       "      <td>0.0</td>\n",
       "      <td>NaN</td>\n",
       "      <td>521.40</td>\n",
       "      <td>240.0</td>\n",
       "    </tr>\n",
       "    <tr>\n",
       "      <th>9</th>\n",
       "      <td>6480</td>\n",
       "      <td>201807</td>\n",
       "      <td>anon_S12</td>\n",
       "      <td>anon_S17</td>\n",
       "      <td>1</td>\n",
       "      <td>0.0</td>\n",
       "      <td>0.0</td>\n",
       "      <td>0.0</td>\n",
       "      <td>0.0</td>\n",
       "      <td>0.0</td>\n",
       "      <td>0.0</td>\n",
       "      <td>NaN</td>\n",
       "      <td>798.18</td>\n",
       "      <td>678.0</td>\n",
       "    </tr>\n",
       "    <tr>\n",
       "      <th>11</th>\n",
       "      <td>6480</td>\n",
       "      <td>201809</td>\n",
       "      <td>anon_S12</td>\n",
       "      <td>anon_S17</td>\n",
       "      <td>1</td>\n",
       "      <td>0.0</td>\n",
       "      <td>0.0</td>\n",
       "      <td>0.0</td>\n",
       "      <td>0.0</td>\n",
       "      <td>0.0</td>\n",
       "      <td>0.0</td>\n",
       "      <td>NaN</td>\n",
       "      <td>833.40</td>\n",
       "      <td>498.0</td>\n",
       "    </tr>\n",
       "    <tr>\n",
       "      <th>16</th>\n",
       "      <td>6528</td>\n",
       "      <td>201908</td>\n",
       "      <td>anon_S12</td>\n",
       "      <td>Other</td>\n",
       "      <td>1</td>\n",
       "      <td>0.0</td>\n",
       "      <td>0.0</td>\n",
       "      <td>0.0</td>\n",
       "      <td>0.0</td>\n",
       "      <td>0.0</td>\n",
       "      <td>0.0</td>\n",
       "      <td>NaN</td>\n",
       "      <td>403.50</td>\n",
       "      <td>240.0</td>\n",
       "    </tr>\n",
       "  </tbody>\n",
       "</table>\n",
       "</div>"
      ],
      "text/plain": [
       "    COD_MATERIAL  COD_CICLO DES_CATEGORIA_MATERIAL DES_MARCA_MATERIAL  \\\n",
       "0           6246     201908               anon_S12              Other   \n",
       "2           6306     201916               anon_S12              Other   \n",
       "9           6480     201807               anon_S12           anon_S17   \n",
       "11          6480     201809               anon_S12           anon_S17   \n",
       "16          6528     201908               anon_S12              Other   \n",
       "\n",
       "    FLG_DATA  FLG_CAMPANHA_MKT_A  FLG_CAMPANHA_MKT_B  FLG_CAMPANHA_MKT_C  \\\n",
       "0          1                 0.0                 0.0                 0.0   \n",
       "2          1                 0.0                 0.0                 0.0   \n",
       "9          1                 0.0                 0.0                 0.0   \n",
       "11         1                 0.0                 0.0                 0.0   \n",
       "16         1                 0.0                 0.0                 0.0   \n",
       "\n",
       "    FLG_CAMPANHA_MKT_D  FLG_CAMPANHA_MKT_E  FLG_CAMPANHA_MKT_F  PCT_DESCONTO  \\\n",
       "0                  0.0                 0.0                 0.0           NaN   \n",
       "2                  0.0                 0.0                 0.0           NaN   \n",
       "9                  0.0                 0.0                 0.0           NaN   \n",
       "11                 0.0                 0.0                 0.0           NaN   \n",
       "16                 0.0                 0.0                 0.0           NaN   \n",
       "\n",
       "    VL_PRECO  QT_VENDA  \n",
       "0     461.40     240.0  \n",
       "2     521.40     240.0  \n",
       "9     798.18     678.0  \n",
       "11    833.40     498.0  \n",
       "16    403.50     240.0  "
      ]
     },
     "execution_count": 20,
     "metadata": {},
     "output_type": "execute_result"
    }
   ],
   "source": [
    "df_festa = df[df['FLG_DATA']==1]\n",
    "df_festa.head()"
   ]
  },
  {
   "cell_type": "code",
   "execution_count": 21,
   "metadata": {
    "tags": []
   },
   "outputs": [
    {
     "data": {
      "image/png": "[encoded data removed]",
      "text/plain": [
       "<Figure size 432x288 with 1 Axes>"
      ]
     },
     "metadata": {},
     "output_type": "display_data"
    }
   ],
   "source": [
    "f = sns.lineplot(data= df_festa, x='COD_CICLO', y='QT_VENDA')\n",
    "f.set(title = 'Evolução temporal da quantidade de vendas em períodos com feriados', xlabel = 'Ciclo', ylabel = 'Quantidade de vendas')\n",
    "plt.show()"
   ]
  },
  {
   "cell_type": "code",
   "execution_count": 22,
   "metadata": {
    "tags": []
   },
   "outputs": [
    {
     "data": {
      "image/png": "[encoded data removed]",
      "text/plain": [
       "<Figure size 432x288 with 1 Axes>"
      ]
     },
     "metadata": {},
     "output_type": "display_data"
    }
   ],
   "source": [
    "df_normal = df[df['FLG_DATA']!=1]\n",
    "f = sns.lineplot(data= df_normal, x='COD_CICLO', y='QT_VENDA')\n",
    "f.set(title = 'Evolução temporal da quantidade de vendas em períodos sem feriados', xlabel = 'Ciclo', ylabel = 'Quantidade de vendas')\n",
    "plt.show()"
   ]
  },
  {
   "cell_type": "markdown",
   "metadata": {},
   "source": [
    "Podemos notar comportamentos distintos em ambos os casos com relação a quantidade de vendas, o que pode induzir uma sazonalidade na série."
   ]
  },
  {
   "cell_type": "markdown",
   "metadata": {},
   "source": [
    "## Pré-processamento e engenharia de features"
   ]
  },
  {
   "cell_type": "markdown",
   "metadata": {},
   "source": [
    "Primeiramente vamos eliminar a coluna 'PCT_DESCONTO' devido ao fato de possuir a maior parte de registros com valor faltante e a coluna 'COD_MATERIAL' por não trazer informação relevante para a análise."
   ]
  },
  {
   "cell_type": "code",
   "execution_count": 23,
   "metadata": {
    "tags": []
   },
   "outputs": [
    {
     "data": {
      "text/plain": [
       "COD_CICLO                    0\n",
       "DES_CATEGORIA_MATERIAL       0\n",
       "DES_MARCA_MATERIAL           0\n",
       "FLG_DATA                     0\n",
       "FLG_CAMPANHA_MKT_A           0\n",
       "FLG_CAMPANHA_MKT_B           0\n",
       "FLG_CAMPANHA_MKT_C           0\n",
       "FLG_CAMPANHA_MKT_D           0\n",
       "FLG_CAMPANHA_MKT_E           0\n",
       "FLG_CAMPANHA_MKT_F           0\n",
       "VL_PRECO                     6\n",
       "QT_VENDA                  3148\n",
       "dtype: int64"
      ]
     },
     "execution_count": 23,
     "metadata": {},
     "output_type": "execute_result"
    }
   ],
   "source": [
    "df_no_missing = df.drop({'PCT_DESCONTO', 'COD_MATERIAL'}, axis=1)\n",
    "df_no_missing.isna().sum()"
   ]
  },
  {
   "cell_type": "code",
   "execution_count": 24,
   "metadata": {
    "tags": []
   },
   "outputs": [
    {
     "data": {
      "text/plain": [
       "COD_CICLO                 0\n",
       "DES_CATEGORIA_MATERIAL    0\n",
       "DES_MARCA_MATERIAL        0\n",
       "FLG_DATA                  0\n",
       "FLG_CAMPANHA_MKT_A        0\n",
       "FLG_CAMPANHA_MKT_B        0\n",
       "FLG_CAMPANHA_MKT_C        0\n",
       "FLG_CAMPANHA_MKT_D        0\n",
       "FLG_CAMPANHA_MKT_E        0\n",
       "FLG_CAMPANHA_MKT_F        0\n",
       "VL_PRECO                  0\n",
       "QT_VENDA                  0\n",
       "dtype: int64"
      ]
     },
     "execution_count": 24,
     "metadata": {},
     "output_type": "execute_result"
    }
   ],
   "source": [
    "df_no_missing.dropna(inplace=True)\n",
    "df_no_missing.isna().sum()"
   ]
  },
  {
   "cell_type": "code",
   "execution_count": 25,
   "metadata": {
    "tags": []
   },
   "outputs": [
    {
     "data": {
      "text/plain": [
       "48940"
      ]
     },
     "execution_count": 25,
     "metadata": {},
     "output_type": "execute_result"
    }
   ],
   "source": [
    "len(df_no_missing)"
   ]
  },
  {
   "cell_type": "code",
   "execution_count": 26,
   "metadata": {
    "tags": []
   },
   "outputs": [],
   "source": [
    "df_no_missing.set_index('COD_CICLO', inplace=True)\n",
    "df_no_missing.sort_index(inplace=True)"
   ]
  },
  {
   "cell_type": "code",
   "execution_count": 27,
   "metadata": {
    "tags": []
   },
   "outputs": [],
   "source": [
    "from statsmodels.tsa.stattools import adfuller\n",
    "est = adfuller(df_no_missing['QT_VENDA'])"
   ]
  },
  {
   "cell_type": "code",
   "execution_count": 28,
   "metadata": {
    "tags": []
   },
   "outputs": [
    {
     "name": "stdout",
     "output_type": "stream",
     "text": [
      "ADF Statistic: -24.556136170336043\n",
      "p-value: 0.0\n"
     ]
    }
   ],
   "source": [
    "print('ADF Statistic:', est[0])\n",
    "print('p-value:', est[1])"
   ]
  },
  {
   "cell_type": "markdown",
   "metadata": {},
   "source": [
    "Como o p-value é nulo, podemos assumir que a série é estacionária. Vamos agora retirar os ciclos 202016, 202017 e 202101, que são os ciclos para os quais queremos prever a quantidade de vendas. Depois disso vamos aplicar o one-hot-encoding para as variáveis categóricas 'DES_CATEGORIA_MATERIAL' e 'DES_MARCA_MATERIAL'."
   ]
  },
  {
   "cell_type": "code",
   "execution_count": 29,
   "metadata": {
    "tags": []
   },
   "outputs": [
    {
     "data": {
      "text/plain": [
       "(6089, 11)"
      ]
     },
     "execution_count": 29,
     "metadata": {},
     "output_type": "execute_result"
    }
   ],
   "source": [
    "msk = (df_no_missing.index < 202010)\n",
    "df_train = df_no_missing[msk].copy()\n",
    "df_test = df_no_missing[~msk].copy()\n",
    "df_test.shape"
   ]
  },
  {
   "cell_type": "code",
   "execution_count": 30,
   "metadata": {
    "tags": []
   },
   "outputs": [
    {
     "data": {
      "text/plain": [
       "Int64Index([201801, 201802, 201803, 201804, 201805, 201806, 201807, 201808,\n",
       "            201809, 201810, 201811, 201812, 201813, 201814, 201815, 201816,\n",
       "            201817, 201818, 201901, 201902, 201903, 201904, 201905, 201906,\n",
       "            201907, 201908, 201909, 201910, 201911, 201912, 201913, 201914,\n",
       "            201915, 201916, 201917, 202001, 202002, 202003, 202004, 202005,\n",
       "            202006, 202007, 202008, 202009],\n",
       "           dtype='int64', name='COD_CICLO')"
      ]
     },
     "execution_count": 30,
     "metadata": {},
     "output_type": "execute_result"
    }
   ],
   "source": [
    "df_train.index.sort_values().unique()"
   ]
  },
  {
   "cell_type": "code",
   "execution_count": 31,
   "metadata": {
    "tags": []
   },
   "outputs": [
    {
     "data": {
      "text/plain": [
       "44"
      ]
     },
     "execution_count": 31,
     "metadata": {},
     "output_type": "execute_result"
    }
   ],
   "source": [
    "df_train.index.nunique()"
   ]
  },
  {
   "cell_type": "markdown",
   "metadata": {},
   "source": [
    "## Modelagem preditiva: ARIMA vs XGBoost\n",
    "\n"
   ]
  },
  {
   "cell_type": "code",
   "execution_count": 32,
   "metadata": {
    "tags": []
   },
   "outputs": [
    {
     "data": {
      "text/plain": [
       "COD_CICLO\n",
       "201801    355218.0\n",
       "201801      1140.0\n",
       "201801       480.0\n",
       "201801     50142.0\n",
       "201801     85554.0\n",
       "            ...   \n",
       "202009    119214.0\n",
       "202009     11490.0\n",
       "202009       486.0\n",
       "202009      1866.0\n",
       "202009      1068.0\n",
       "Name: QT_VENDA, Length: 42851, dtype: float64"
      ]
     },
     "execution_count": 32,
     "metadata": {},
     "output_type": "execute_result"
    }
   ],
   "source": [
    "series = df_train.loc[:, 'QT_VENDA']\n",
    "series"
   ]
  },
  {
   "cell_type": "code",
   "execution_count": 33,
   "metadata": {
    "tags": []
   },
   "outputs": [
    {
     "data": {
      "image/png": "[encoded data removed]",
      "text/plain": [
       "<Figure size 432x288 with 1 Axes>"
      ]
     },
     "metadata": {},
     "output_type": "display_data"
    }
   ],
   "source": [
    "autocorrelation_plot(series)\n",
    "plt.show()"
   ]
  },
  {
   "cell_type": "markdown",
   "metadata": {},
   "source": [
    "Pelo gráfico acima percebemos que praticamente não há auto-correlação, indidicando que o parâmetro p, ou a componente AR do método, pode ser colocada como nula."
   ]
  },
  {
   "cell_type": "code",
   "execution_count": 34,
   "metadata": {
    "tags": []
   },
   "outputs": [
    {
     "name": "stderr",
     "output_type": "stream",
     "text": [
      "/Users/grasiele/opt/anaconda3/lib/python3.8/site-packages/statsmodels/graphics/tsaplots.py:348: FutureWarning: The default method 'yw' can produce PACF values outside of the [-1,1] interval. After 0.13, the default will change tounadjusted Yule-Walker ('ywm'). You can use this method now by setting method='ywm'.\n",
      "  warnings.warn(\n"
     ]
    },
    {
     "data": {
      "image/png": "[encoded data removed]",
      "text/plain": [
       "<Figure size 432x288 with 1 Axes>"
      ]
     },
     "metadata": {},
     "output_type": "display_data"
    }
   ],
   "source": [
    "pacf_original = plot_pacf(series)"
   ]
  },
  {
   "cell_type": "markdown",
   "metadata": {},
   "source": [
    "### Experimento 1"
   ]
  },
  {
   "cell_type": "code",
   "execution_count": 35,
   "metadata": {
    "tags": []
   },
   "outputs": [
    {
     "data": {
      "text/plain": [
       "ARIMA(order=(5, 1, 0), scoring_args={}, suppress_warnings=True,\n",
       "      with_intercept=False)"
      ]
     },
     "execution_count": 35,
     "metadata": {},
     "output_type": "execute_result"
    }
   ],
   "source": [
    "# usanto auto-arima para a escolha dos parâmetros de ordem\n",
    "import pmdarima as pm\n",
    "auto_arima = pm.auto_arima(series, seasonal=True)\n",
    "auto_arima"
   ]
  },
  {
   "cell_type": "code",
   "execution_count": 36,
   "metadata": {
    "tags": []
   },
   "outputs": [
    {
     "name": "stderr",
     "output_type": "stream",
     "text": [
      "/Users/grasiele/opt/anaconda3/lib/python3.8/site-packages/statsmodels/tsa/base/tsa_model.py:471: ValueWarning: An unsupported index was provided and will be ignored when e.g. forecasting.\n",
      "  self._init_dates(dates, freq)\n",
      "/Users/grasiele/opt/anaconda3/lib/python3.8/site-packages/statsmodels/tsa/base/tsa_model.py:471: ValueWarning: An unsupported index was provided and will be ignored when e.g. forecasting.\n",
      "  self._init_dates(dates, freq)\n",
      "/Users/grasiele/opt/anaconda3/lib/python3.8/site-packages/statsmodels/tsa/base/tsa_model.py:471: ValueWarning: An unsupported index was provided and will be ignored when e.g. forecasting.\n",
      "  self._init_dates(dates, freq)\n"
     ]
    }
   ],
   "source": [
    "#model = sm.tsa.SARIMAX(series, order=(5, 1, 0), seasonal_order=(0, 0, 0, 34))\n",
    "model = ARIMA(series, order=(5,1,0))"
   ]
  },
  {
   "cell_type": "code",
   "execution_count": 37,
   "metadata": {
    "tags": []
   },
   "outputs": [],
   "source": [
    "results = model.fit()"
   ]
  },
  {
   "cell_type": "code",
   "execution_count": 38,
   "metadata": {
    "tags": []
   },
   "outputs": [
    {
     "data": {
      "text/html": [
       "<table class=\"simpletable\">\n",
       "<caption>SARIMAX Results</caption>\n",
       "<tr>\n",
       "  <th>Dep. Variable:</th>       <td>QT_VENDA</td>     <th>  No. Observations:  </th>    <td>42851</td>   \n",
       "</tr>\n",
       "<tr>\n",
       "  <th>Model:</th>            <td>ARIMA(5, 1, 0)</td>  <th>  Log Likelihood     </th> <td>-555600.080</td>\n",
       "</tr>\n",
       "<tr>\n",
       "  <th>Date:</th>            <td>Wed, 05 Apr 2023</td> <th>  AIC                </th> <td>1111212.161</td>\n",
       "</tr>\n",
       "<tr>\n",
       "  <th>Time:</th>                <td>17:08:33</td>     <th>  BIC                </th> <td>1111264.153</td>\n",
       "</tr>\n",
       "<tr>\n",
       "  <th>Sample:</th>                  <td>0</td>        <th>  HQIC               </th> <td>1111228.565</td>\n",
       "</tr>\n",
       "<tr>\n",
       "  <th></th>                     <td> - 42851</td>     <th>                     </th>      <td> </td>     \n",
       "</tr>\n",
       "<tr>\n",
       "  <th>Covariance Type:</th>        <td>opg</td>       <th>                     </th>      <td> </td>     \n",
       "</tr>\n",
       "</table>\n",
       "<table class=\"simpletable\">\n",
       "<tr>\n",
       "     <td></td>       <th>coef</th>     <th>std err</th>      <th>z</th>      <th>P>|z|</th>  <th>[0.025</th>    <th>0.975]</th>  \n",
       "</tr>\n",
       "<tr>\n",
       "  <th>ar.L1</th>  <td>   -0.8377</td> <td>    0.002</td> <td> -370.880</td> <td> 0.000</td> <td>   -0.842</td> <td>   -0.833</td>\n",
       "</tr>\n",
       "<tr>\n",
       "  <th>ar.L2</th>  <td>   -0.6739</td> <td>    0.003</td> <td> -233.824</td> <td> 0.000</td> <td>   -0.680</td> <td>   -0.668</td>\n",
       "</tr>\n",
       "<tr>\n",
       "  <th>ar.L3</th>  <td>   -0.5066</td> <td>    0.003</td> <td> -166.942</td> <td> 0.000</td> <td>   -0.513</td> <td>   -0.501</td>\n",
       "</tr>\n",
       "<tr>\n",
       "  <th>ar.L4</th>  <td>   -0.3343</td> <td>    0.003</td> <td> -116.859</td> <td> 0.000</td> <td>   -0.340</td> <td>   -0.329</td>\n",
       "</tr>\n",
       "<tr>\n",
       "  <th>ar.L5</th>  <td>   -0.1619</td> <td>    0.002</td> <td>  -71.262</td> <td> 0.000</td> <td>   -0.166</td> <td>   -0.157</td>\n",
       "</tr>\n",
       "<tr>\n",
       "  <th>sigma2</th> <td> 1.071e+10</td> <td> 1.18e-14</td> <td> 9.06e+23</td> <td> 0.000</td> <td> 1.07e+10</td> <td> 1.07e+10</td>\n",
       "</tr>\n",
       "</table>\n",
       "<table class=\"simpletable\">\n",
       "<tr>\n",
       "  <th>Ljung-Box (L1) (Q):</th>     <td>23.05</td> <th>  Jarque-Bera (JB):  </th> <td>19741072.40</td>\n",
       "</tr>\n",
       "<tr>\n",
       "  <th>Prob(Q):</th>                <td>0.00</td>  <th>  Prob(JB):          </th>    <td>0.00</td>    \n",
       "</tr>\n",
       "<tr>\n",
       "  <th>Heteroskedasticity (H):</th> <td>1.12</td>  <th>  Skew:              </th>    <td>7.26</td>    \n",
       "</tr>\n",
       "<tr>\n",
       "  <th>Prob(H) (two-sided):</th>    <td>0.00</td>  <th>  Kurtosis:          </th>   <td>107.14</td>   \n",
       "</tr>\n",
       "</table><br/><br/>Warnings:<br/>[1] Covariance matrix calculated using the outer product of gradients (complex-step).<br/>[2] Covariance matrix is singular or near-singular, with condition number 8.37e+39. Standard errors may be unstable."
      ],
      "text/plain": [
       "<class 'statsmodels.iolib.summary.Summary'>\n",
       "\"\"\"\n",
       "                               SARIMAX Results                                \n",
       "==============================================================================\n",
       "Dep. Variable:               QT_VENDA   No. Observations:                42851\n",
       "Model:                 ARIMA(5, 1, 0)   Log Likelihood             -555600.080\n",
       "Date:                Wed, 05 Apr 2023   AIC                        1111212.161\n",
       "Time:                        17:08:33   BIC                        1111264.153\n",
       "Sample:                             0   HQIC                       1111228.565\n",
       "                              - 42851                                         \n",
       "Covariance Type:                  opg                                         \n",
       "==============================================================================\n",
       "                 coef    std err          z      P>|z|      [0.025      0.975]\n",
       "------------------------------------------------------------------------------\n",
       "ar.L1         -0.8377      0.002   -370.880      0.000      -0.842      -0.833\n",
       "ar.L2         -0.6739      0.003   -233.824      0.000      -0.680      -0.668\n",
       "ar.L3         -0.5066      0.003   -166.942      0.000      -0.513      -0.501\n",
       "ar.L4         -0.3343      0.003   -116.859      0.000      -0.340      -0.329\n",
       "ar.L5         -0.1619      0.002    -71.262      0.000      -0.166      -0.157\n",
       "sigma2      1.071e+10   1.18e-14   9.06e+23      0.000    1.07e+10    1.07e+10\n",
       "===================================================================================\n",
       "Ljung-Box (L1) (Q):                  23.05   Jarque-Bera (JB):          19741072.40\n",
       "Prob(Q):                              0.00   Prob(JB):                         0.00\n",
       "Heteroskedasticity (H):               1.12   Skew:                             7.26\n",
       "Prob(H) (two-sided):                  0.00   Kurtosis:                       107.14\n",
       "===================================================================================\n",
       "\n",
       "Warnings:\n",
       "[1] Covariance matrix calculated using the outer product of gradients (complex-step).\n",
       "[2] Covariance matrix is singular or near-singular, with condition number 8.37e+39. Standard errors may be unstable.\n",
       "\"\"\""
      ]
     },
     "execution_count": 38,
     "metadata": {},
     "output_type": "execute_result"
    }
   ],
   "source": [
    "results.summary()"
   ]
  },
  {
   "cell_type": "code",
   "execution_count": 39,
   "metadata": {
    "tags": []
   },
   "outputs": [
    {
     "data": {
      "image/png": "[encoded data removed]",
      "text/plain": [
       "<Figure size 864x576 with 2 Axes>"
      ]
     },
     "metadata": {},
     "output_type": "display_data"
    }
   ],
   "source": [
    "residuals = results.resid[1:]\n",
    "fig, ax = plt.subplots(1,2, figsize=(12,8))\n",
    "residuals.plot(title='Residuals', ax=ax[0])\n",
    "residuals.plot(title='Density', kind='kde', ax=ax[1])\n",
    "plt.show()"
   ]
  },
  {
   "cell_type": "code",
   "execution_count": 40,
   "metadata": {
    "tags": []
   },
   "outputs": [
    {
     "name": "stdout",
     "output_type": "stream",
     "text": [
      "count    4.285000e+04\n",
      "mean    -1.235019e+01\n",
      "std      1.034910e+05\n",
      "min     -5.060657e+05\n",
      "25%     -2.849348e+04\n",
      "50%     -1.017727e+04\n",
      "75%      6.644992e+03\n",
      "max      2.613855e+06\n",
      "dtype: float64\n"
     ]
    }
   ],
   "source": [
    "print(residuals.describe())"
   ]
  },
  {
   "cell_type": "markdown",
   "metadata": {
    "tags": []
   },
   "source": [
    "### Avaliação do modelo"
   ]
  },
  {
   "cell_type": "code",
   "execution_count": 41,
   "metadata": {
    "tags": []
   },
   "outputs": [
    {
     "data": {
      "text/plain": [
       "COD_CICLO\n",
       "202010    127662.0\n",
       "202010      1632.0\n",
       "202010    211644.0\n",
       "202010     30330.0\n",
       "202010     24072.0\n",
       "            ...   \n",
       "202015       240.0\n",
       "202015    166968.0\n",
       "202015     88980.0\n",
       "202015      2568.0\n",
       "202015     13314.0\n",
       "Name: QT_VENDA, Length: 6089, dtype: float64"
      ]
     },
     "execution_count": 41,
     "metadata": {},
     "output_type": "execute_result"
    }
   ],
   "source": [
    "#ground-truth\n",
    "series_test = df_test.loc[:, 'QT_VENDA']\n",
    "series_test"
   ]
  },
  {
   "cell_type": "code",
   "execution_count": 42,
   "metadata": {
    "tags": []
   },
   "outputs": [
    {
     "name": "stderr",
     "output_type": "stream",
     "text": [
      "/Users/grasiele/opt/anaconda3/lib/python3.8/site-packages/statsmodels/tsa/base/tsa_model.py:834: ValueWarning: No supported index is available. Prediction results will be given with an integer index beginning at `start`.\n",
      "  return get_prediction_index(\n"
     ]
    },
    {
     "data": {
      "text/plain": [
       "42851    23212.287948\n",
       "42852    25614.980080\n",
       "42853    10404.063398\n",
       "42854    10351.568834\n",
       "42855    12155.403136\n",
       "             ...     \n",
       "48935    13871.009692\n",
       "48936    13871.009692\n",
       "48937    13871.009692\n",
       "48938    13871.009692\n",
       "48939    13871.009692\n",
       "Name: predicted_mean, Length: 6089, dtype: float64"
      ]
     },
     "execution_count": 42,
     "metadata": {},
     "output_type": "execute_result"
    }
   ],
   "source": [
    "#predicted values\n",
    "forecast = results.forecast(len(series_test))\n",
    "forecast"
   ]
  },
  {
   "cell_type": "code",
   "execution_count": 43,
   "metadata": {
    "tags": []
   },
   "outputs": [
    {
     "data": {
      "text/html": [
       "<div>\n",
       "<style scoped>\n",
       "    .dataframe tbody tr th:only-of-type {\n",
       "        vertical-align: middle;\n",
       "    }\n",
       "\n",
       "    .dataframe tbody tr th {\n",
       "        vertical-align: top;\n",
       "    }\n",
       "\n",
       "    .dataframe thead th {\n",
       "        text-align: right;\n",
       "    }\n",
       "</style>\n",
       "<table border=\"1\" class=\"dataframe\">\n",
       "  <thead>\n",
       "    <tr style=\"text-align: right;\">\n",
       "      <th></th>\n",
       "      <th>DES_CATEGORIA_MATERIAL</th>\n",
       "      <th>DES_MARCA_MATERIAL</th>\n",
       "      <th>FLG_DATA</th>\n",
       "      <th>FLG_CAMPANHA_MKT_A</th>\n",
       "      <th>FLG_CAMPANHA_MKT_B</th>\n",
       "      <th>FLG_CAMPANHA_MKT_C</th>\n",
       "      <th>FLG_CAMPANHA_MKT_D</th>\n",
       "      <th>FLG_CAMPANHA_MKT_E</th>\n",
       "      <th>FLG_CAMPANHA_MKT_F</th>\n",
       "      <th>VL_PRECO</th>\n",
       "      <th>QT_VENDA</th>\n",
       "      <th>forecast</th>\n",
       "    </tr>\n",
       "    <tr>\n",
       "      <th>COD_CICLO</th>\n",
       "      <th></th>\n",
       "      <th></th>\n",
       "      <th></th>\n",
       "      <th></th>\n",
       "      <th></th>\n",
       "      <th></th>\n",
       "      <th></th>\n",
       "      <th></th>\n",
       "      <th></th>\n",
       "      <th></th>\n",
       "      <th></th>\n",
       "      <th></th>\n",
       "    </tr>\n",
       "  </thead>\n",
       "  <tbody>\n",
       "    <tr>\n",
       "      <th>201801</th>\n",
       "      <td>anon_S12</td>\n",
       "      <td>anon_S9</td>\n",
       "      <td>0</td>\n",
       "      <td>0.0</td>\n",
       "      <td>1.0</td>\n",
       "      <td>0.5</td>\n",
       "      <td>0.0</td>\n",
       "      <td>0.0</td>\n",
       "      <td>0.0</td>\n",
       "      <td>773.625</td>\n",
       "      <td>355218.0</td>\n",
       "      <td>NaN</td>\n",
       "    </tr>\n",
       "    <tr>\n",
       "      <th>201801</th>\n",
       "      <td>anon_S18</td>\n",
       "      <td>Other</td>\n",
       "      <td>0</td>\n",
       "      <td>0.0</td>\n",
       "      <td>0.0</td>\n",
       "      <td>0.0</td>\n",
       "      <td>0.0</td>\n",
       "      <td>0.0</td>\n",
       "      <td>0.0</td>\n",
       "      <td>461.400</td>\n",
       "      <td>1140.0</td>\n",
       "      <td>NaN</td>\n",
       "    </tr>\n",
       "    <tr>\n",
       "      <th>201801</th>\n",
       "      <td>anon_S5</td>\n",
       "      <td>anon_S23</td>\n",
       "      <td>0</td>\n",
       "      <td>0.0</td>\n",
       "      <td>0.0</td>\n",
       "      <td>0.0</td>\n",
       "      <td>0.0</td>\n",
       "      <td>0.0</td>\n",
       "      <td>0.0</td>\n",
       "      <td>413.400</td>\n",
       "      <td>480.0</td>\n",
       "      <td>NaN</td>\n",
       "    </tr>\n",
       "    <tr>\n",
       "      <th>201801</th>\n",
       "      <td>anon_S5</td>\n",
       "      <td>Other</td>\n",
       "      <td>0</td>\n",
       "      <td>0.0</td>\n",
       "      <td>1.0</td>\n",
       "      <td>0.0</td>\n",
       "      <td>0.0</td>\n",
       "      <td>0.0</td>\n",
       "      <td>0.0</td>\n",
       "      <td>365.400</td>\n",
       "      <td>50142.0</td>\n",
       "      <td>NaN</td>\n",
       "    </tr>\n",
       "    <tr>\n",
       "      <th>201801</th>\n",
       "      <td>anon_S12</td>\n",
       "      <td>anon_S20</td>\n",
       "      <td>0</td>\n",
       "      <td>0.0</td>\n",
       "      <td>1.0</td>\n",
       "      <td>0.0</td>\n",
       "      <td>0.0</td>\n",
       "      <td>0.0</td>\n",
       "      <td>0.0</td>\n",
       "      <td>1073.400</td>\n",
       "      <td>85554.0</td>\n",
       "      <td>NaN</td>\n",
       "    </tr>\n",
       "  </tbody>\n",
       "</table>\n",
       "</div>"
      ],
      "text/plain": [
       "          DES_CATEGORIA_MATERIAL DES_MARCA_MATERIAL  FLG_DATA  \\\n",
       "COD_CICLO                                                       \n",
       "201801                  anon_S12            anon_S9         0   \n",
       "201801                  anon_S18              Other         0   \n",
       "201801                   anon_S5           anon_S23         0   \n",
       "201801                   anon_S5              Other         0   \n",
       "201801                  anon_S12           anon_S20         0   \n",
       "\n",
       "           FLG_CAMPANHA_MKT_A  FLG_CAMPANHA_MKT_B  FLG_CAMPANHA_MKT_C  \\\n",
       "COD_CICLO                                                               \n",
       "201801                    0.0                 1.0                 0.5   \n",
       "201801                    0.0                 0.0                 0.0   \n",
       "201801                    0.0                 0.0                 0.0   \n",
       "201801                    0.0                 1.0                 0.0   \n",
       "201801                    0.0                 1.0                 0.0   \n",
       "\n",
       "           FLG_CAMPANHA_MKT_D  FLG_CAMPANHA_MKT_E  FLG_CAMPANHA_MKT_F  \\\n",
       "COD_CICLO                                                               \n",
       "201801                    0.0                 0.0                 0.0   \n",
       "201801                    0.0                 0.0                 0.0   \n",
       "201801                    0.0                 0.0                 0.0   \n",
       "201801                    0.0                 0.0                 0.0   \n",
       "201801                    0.0                 0.0                 0.0   \n",
       "\n",
       "           VL_PRECO  QT_VENDA  forecast  \n",
       "COD_CICLO                                \n",
       "201801      773.625  355218.0       NaN  \n",
       "201801      461.400    1140.0       NaN  \n",
       "201801      413.400     480.0       NaN  \n",
       "201801      365.400   50142.0       NaN  \n",
       "201801     1073.400   85554.0       NaN  "
      ]
     },
     "execution_count": 43,
     "metadata": {},
     "output_type": "execute_result"
    }
   ],
   "source": [
    "df_no_missing['forecast'] = [None]*len(series) + forecast.tolist()\n",
    "df_no_missing.head()"
   ]
  },
  {
   "cell_type": "code",
   "execution_count": 44,
   "metadata": {
    "tags": []
   },
   "outputs": [
    {
     "data": {
      "text/plain": [
       "<AxesSubplot:xlabel='COD_CICLO', ylabel='QT_VENDA'>"
      ]
     },
     "execution_count": 44,
     "metadata": {},
     "output_type": "execute_result"
    },
    {
     "data": {
      "image/png": "[encoded data removed]",
      "text/plain": [
       "<Figure size 432x288 with 1 Axes>"
      ]
     },
     "metadata": {},
     "output_type": "display_data"
    }
   ],
   "source": [
    "sns.lineplot(data=df_no_missing, x=df_no_missing.index, y='QT_VENDA')\n",
    "sns.lineplot(data=df_no_missing, x=df_no_missing.index, y='forecast')"
   ]
  },
  {
   "cell_type": "code",
   "execution_count": 45,
   "metadata": {
    "tags": []
   },
   "outputs": [
    {
     "data": {
      "text/html": [
       "<div>\n",
       "<style scoped>\n",
       "    .dataframe tbody tr th:only-of-type {\n",
       "        vertical-align: middle;\n",
       "    }\n",
       "\n",
       "    .dataframe tbody tr th {\n",
       "        vertical-align: top;\n",
       "    }\n",
       "\n",
       "    .dataframe thead th {\n",
       "        text-align: right;\n",
       "    }\n",
       "</style>\n",
       "<table border=\"1\" class=\"dataframe\">\n",
       "  <thead>\n",
       "    <tr style=\"text-align: right;\">\n",
       "      <th></th>\n",
       "      <th>0</th>\n",
       "      <th>1</th>\n",
       "    </tr>\n",
       "  </thead>\n",
       "  <tbody>\n",
       "    <tr>\n",
       "      <th>ar.L1</th>\n",
       "      <td>-8.421551e-01</td>\n",
       "      <td>-8.333009e-01</td>\n",
       "    </tr>\n",
       "    <tr>\n",
       "      <th>ar.L2</th>\n",
       "      <td>-6.795149e-01</td>\n",
       "      <td>-6.682179e-01</td>\n",
       "    </tr>\n",
       "    <tr>\n",
       "      <th>ar.L3</th>\n",
       "      <td>-5.125973e-01</td>\n",
       "      <td>-5.007008e-01</td>\n",
       "    </tr>\n",
       "    <tr>\n",
       "      <th>ar.L4</th>\n",
       "      <td>-3.398738e-01</td>\n",
       "      <td>-3.286611e-01</td>\n",
       "    </tr>\n",
       "    <tr>\n",
       "      <th>ar.L5</th>\n",
       "      <td>-1.663168e-01</td>\n",
       "      <td>-1.574130e-01</td>\n",
       "    </tr>\n",
       "    <tr>\n",
       "      <th>sigma2</th>\n",
       "      <td>1.071026e+10</td>\n",
       "      <td>1.071026e+10</td>\n",
       "    </tr>\n",
       "  </tbody>\n",
       "</table>\n",
       "</div>"
      ],
      "text/plain": [
       "                   0             1\n",
       "ar.L1  -8.421551e-01 -8.333009e-01\n",
       "ar.L2  -6.795149e-01 -6.682179e-01\n",
       "ar.L3  -5.125973e-01 -5.007008e-01\n",
       "ar.L4  -3.398738e-01 -3.286611e-01\n",
       "ar.L5  -1.663168e-01 -1.574130e-01\n",
       "sigma2  1.071026e+10  1.071026e+10"
      ]
     },
     "execution_count": 45,
     "metadata": {},
     "output_type": "execute_result"
    }
   ],
   "source": [
    "pred_ci = results.conf_int()\n",
    "pred_ci"
   ]
  },
  {
   "cell_type": "code",
   "execution_count": 46,
   "metadata": {
    "tags": []
   },
   "outputs": [
    {
     "name": "stdout",
     "output_type": "stream",
     "text": [
      "mae: 34119.698878151\n",
      "mape: 9.686110268735398\n",
      "rmse: 111541.67218381405\n"
     ]
    }
   ],
   "source": [
    "from sklearn.metrics import mean_absolute_error, mean_absolute_percentage_error, mean_squared_error\n",
    "\n",
    "mae = mean_absolute_error(series_test, forecast)\n",
    "mape = mean_absolute_percentage_error(series_test, forecast)\n",
    "rmse = np.sqrt(mean_squared_error(series_test, forecast))\n",
    "\n",
    "print(f'mae: {mae}')\n",
    "print(f'mape: {mape}')\n",
    "print(f'rmse: {rmse}')"
   ]
  },
  {
   "cell_type": "markdown",
   "metadata": {},
   "source": [
    "Como vemos acima, o modelo não descreve bem nossos dados. Sendo assim, vamos tentar uma nova abordagem, onde vamos treinar um novo modelo para cada ciclo, e depois pegamos a média do forecast de cada ciclo para compor o forecast de novos ciclos."
   ]
  },
  {
   "cell_type": "markdown",
   "metadata": {},
   "source": [
    "### Experimento 2"
   ]
  },
  {
   "cell_type": "code",
   "execution_count": 47,
   "metadata": {
    "tags": []
   },
   "outputs": [],
   "source": [
    "groups = series.groupby(series.index)\n",
    "test_groups = series_test.groupby(series_test.index)"
   ]
  },
  {
   "cell_type": "code",
   "execution_count": 48,
   "metadata": {
    "tags": []
   },
   "outputs": [],
   "source": [
    "import warnings\n",
    "warnings.filterwarnings('ignore')"
   ]
  },
  {
   "cell_type": "code",
   "execution_count": 49,
   "metadata": {
    "tags": []
   },
   "outputs": [],
   "source": [
    "# Fit an ARIMA model for each group\n",
    "models = {}\n",
    "for name, group in groups:\n",
    "    model = ARIMA(group, order=(2, 1, 0))\n",
    "    results = model.fit()\n",
    "    models[name] = results"
   ]
  },
  {
   "cell_type": "code",
   "execution_count": 50,
   "metadata": {
    "tags": []
   },
   "outputs": [
    {
     "data": {
      "text/plain": [
       "997"
      ]
     },
     "execution_count": 50,
     "metadata": {},
     "output_type": "execute_result"
    }
   ],
   "source": [
    "forecast_group = {}\n",
    "for key in models.keys():\n",
    "        model = models[key]\n",
    "        forecast = model.forecast(steps=len(group))\n",
    "        forecast_group[key] = forecast\n",
    "len(np.mean(list(forecast_group.values()), axis=0))"
   ]
  },
  {
   "cell_type": "code",
   "execution_count": 51,
   "metadata": {
    "tags": []
   },
   "outputs": [
    {
     "name": "stdout",
     "output_type": "stream",
     "text": [
      "6089\n"
     ]
    }
   ],
   "source": [
    "forecast_values = {}\n",
    "forecast_group = {}\n",
    "for name, group in test_groups:\n",
    "    for key in models.keys():\n",
    "        model = models[key]\n",
    "        forecast = model.forecast(steps=len(group))\n",
    "        forecast_group[key] = forecast\n",
    "    forecast_values[name] = np.mean(list(forecast_group.values()), axis=0)\n",
    "\n",
    "# Combine the forecasts for each cycle\n",
    "forecasted_values = np.concatenate(list(forecast_values.values()))\n",
    "\n",
    "# Print the length of forecasted values\n",
    "print(len(forecasted_values))"
   ]
  },
  {
   "cell_type": "code",
   "execution_count": 52,
   "metadata": {
    "tags": []
   },
   "outputs": [
    {
     "name": "stdout",
     "output_type": "stream",
     "text": [
      "Test RMSE: 109318.5956096073\n",
      "Test mae: 40935.842021123695\n"
     ]
    },
    {
     "data": {
      "image/png": "[encoded data removed]",
      "text/plain": [
       "<Figure size 432x288 with 1 Axes>"
      ]
     },
     "metadata": {},
     "output_type": "display_data"
    }
   ],
   "source": [
    "rmse = np.sqrt(mean_squared_error(series_test, forecasted_values))\n",
    "mae = mean_absolute_error(series_test, forecasted_values)\n",
    "print(f'Test RMSE: {rmse}')\n",
    "print(f'Test mae: {mae}')\n",
    "plt.plot(series_test.values)\n",
    "plt.plot(forecasted_values, color='red')\n",
    "plt.show()"
   ]
  },
  {
   "cell_type": "markdown",
   "metadata": {},
   "source": [
    "### Experimento 3: XGBoost"
   ]
  },
  {
   "cell_type": "code",
   "execution_count": 53,
   "metadata": {
    "tags": []
   },
   "outputs": [
    {
     "data": {
      "text/html": [
       "<div>\n",
       "<style scoped>\n",
       "    .dataframe tbody tr th:only-of-type {\n",
       "        vertical-align: middle;\n",
       "    }\n",
       "\n",
       "    .dataframe tbody tr th {\n",
       "        vertical-align: top;\n",
       "    }\n",
       "\n",
       "    .dataframe thead th {\n",
       "        text-align: right;\n",
       "    }\n",
       "</style>\n",
       "<table border=\"1\" class=\"dataframe\">\n",
       "  <thead>\n",
       "    <tr style=\"text-align: right;\">\n",
       "      <th></th>\n",
       "      <th>COD_CICLO</th>\n",
       "      <th>DES_CATEGORIA_MATERIAL</th>\n",
       "      <th>DES_MARCA_MATERIAL</th>\n",
       "      <th>FLG_DATA</th>\n",
       "      <th>FLG_CAMPANHA_MKT_A</th>\n",
       "      <th>FLG_CAMPANHA_MKT_B</th>\n",
       "      <th>FLG_CAMPANHA_MKT_C</th>\n",
       "      <th>FLG_CAMPANHA_MKT_D</th>\n",
       "      <th>FLG_CAMPANHA_MKT_E</th>\n",
       "      <th>FLG_CAMPANHA_MKT_F</th>\n",
       "      <th>VL_PRECO</th>\n",
       "      <th>QT_VENDA</th>\n",
       "    </tr>\n",
       "  </thead>\n",
       "  <tbody>\n",
       "    <tr>\n",
       "      <th>0</th>\n",
       "      <td>201801</td>\n",
       "      <td>anon_S12</td>\n",
       "      <td>anon_S9</td>\n",
       "      <td>0</td>\n",
       "      <td>0.0</td>\n",
       "      <td>1.0</td>\n",
       "      <td>0.5</td>\n",
       "      <td>0.0</td>\n",
       "      <td>0.0</td>\n",
       "      <td>0.0</td>\n",
       "      <td>773.625</td>\n",
       "      <td>355218.0</td>\n",
       "    </tr>\n",
       "    <tr>\n",
       "      <th>1</th>\n",
       "      <td>201801</td>\n",
       "      <td>anon_S18</td>\n",
       "      <td>Other</td>\n",
       "      <td>0</td>\n",
       "      <td>0.0</td>\n",
       "      <td>0.0</td>\n",
       "      <td>0.0</td>\n",
       "      <td>0.0</td>\n",
       "      <td>0.0</td>\n",
       "      <td>0.0</td>\n",
       "      <td>461.400</td>\n",
       "      <td>1140.0</td>\n",
       "    </tr>\n",
       "    <tr>\n",
       "      <th>2</th>\n",
       "      <td>201801</td>\n",
       "      <td>anon_S5</td>\n",
       "      <td>anon_S23</td>\n",
       "      <td>0</td>\n",
       "      <td>0.0</td>\n",
       "      <td>0.0</td>\n",
       "      <td>0.0</td>\n",
       "      <td>0.0</td>\n",
       "      <td>0.0</td>\n",
       "      <td>0.0</td>\n",
       "      <td>413.400</td>\n",
       "      <td>480.0</td>\n",
       "    </tr>\n",
       "    <tr>\n",
       "      <th>3</th>\n",
       "      <td>201801</td>\n",
       "      <td>anon_S5</td>\n",
       "      <td>Other</td>\n",
       "      <td>0</td>\n",
       "      <td>0.0</td>\n",
       "      <td>1.0</td>\n",
       "      <td>0.0</td>\n",
       "      <td>0.0</td>\n",
       "      <td>0.0</td>\n",
       "      <td>0.0</td>\n",
       "      <td>365.400</td>\n",
       "      <td>50142.0</td>\n",
       "    </tr>\n",
       "    <tr>\n",
       "      <th>4</th>\n",
       "      <td>201801</td>\n",
       "      <td>anon_S12</td>\n",
       "      <td>anon_S20</td>\n",
       "      <td>0</td>\n",
       "      <td>0.0</td>\n",
       "      <td>1.0</td>\n",
       "      <td>0.0</td>\n",
       "      <td>0.0</td>\n",
       "      <td>0.0</td>\n",
       "      <td>0.0</td>\n",
       "      <td>1073.400</td>\n",
       "      <td>85554.0</td>\n",
       "    </tr>\n",
       "  </tbody>\n",
       "</table>\n",
       "</div>"
      ],
      "text/plain": [
       "   COD_CICLO DES_CATEGORIA_MATERIAL DES_MARCA_MATERIAL  FLG_DATA  \\\n",
       "0     201801               anon_S12            anon_S9         0   \n",
       "1     201801               anon_S18              Other         0   \n",
       "2     201801                anon_S5           anon_S23         0   \n",
       "3     201801                anon_S5              Other         0   \n",
       "4     201801               anon_S12           anon_S20         0   \n",
       "\n",
       "   FLG_CAMPANHA_MKT_A  FLG_CAMPANHA_MKT_B  FLG_CAMPANHA_MKT_C  \\\n",
       "0                 0.0                 1.0                 0.5   \n",
       "1                 0.0                 0.0                 0.0   \n",
       "2                 0.0                 0.0                 0.0   \n",
       "3                 0.0                 1.0                 0.0   \n",
       "4                 0.0                 1.0                 0.0   \n",
       "\n",
       "   FLG_CAMPANHA_MKT_D  FLG_CAMPANHA_MKT_E  FLG_CAMPANHA_MKT_F  VL_PRECO  \\\n",
       "0                 0.0                 0.0                 0.0   773.625   \n",
       "1                 0.0                 0.0                 0.0   461.400   \n",
       "2                 0.0                 0.0                 0.0   413.400   \n",
       "3                 0.0                 0.0                 0.0   365.400   \n",
       "4                 0.0                 0.0                 0.0  1073.400   \n",
       "\n",
       "   QT_VENDA  \n",
       "0  355218.0  \n",
       "1    1140.0  \n",
       "2     480.0  \n",
       "3   50142.0  \n",
       "4   85554.0  "
      ]
     },
     "execution_count": 53,
     "metadata": {},
     "output_type": "execute_result"
    }
   ],
   "source": [
    "df_no_missing.drop('forecast', axis=1, inplace=True)\n",
    "df_xgb = df_no_missing.reset_index()\n",
    "df_xgb.head()"
   ]
  },
  {
   "cell_type": "code",
   "execution_count": 54,
   "metadata": {
    "tags": []
   },
   "outputs": [
    {
     "data": {
      "text/html": [
       "<div>\n",
       "<style scoped>\n",
       "    .dataframe tbody tr th:only-of-type {\n",
       "        vertical-align: middle;\n",
       "    }\n",
       "\n",
       "    .dataframe tbody tr th {\n",
       "        vertical-align: top;\n",
       "    }\n",
       "\n",
       "    .dataframe thead th {\n",
       "        text-align: right;\n",
       "    }\n",
       "</style>\n",
       "<table border=\"1\" class=\"dataframe\">\n",
       "  <thead>\n",
       "    <tr style=\"text-align: right;\">\n",
       "      <th></th>\n",
       "      <th>COD_CICLO</th>\n",
       "      <th>FLG_DATA</th>\n",
       "      <th>FLG_CAMPANHA_MKT_A</th>\n",
       "      <th>FLG_CAMPANHA_MKT_B</th>\n",
       "      <th>FLG_CAMPANHA_MKT_C</th>\n",
       "      <th>FLG_CAMPANHA_MKT_D</th>\n",
       "      <th>FLG_CAMPANHA_MKT_E</th>\n",
       "      <th>FLG_CAMPANHA_MKT_F</th>\n",
       "      <th>VL_PRECO</th>\n",
       "      <th>QT_VENDA</th>\n",
       "      <th>...</th>\n",
       "      <th>DES_MARCA_MATERIAL_anon_S17</th>\n",
       "      <th>DES_MARCA_MATERIAL_anon_S20</th>\n",
       "      <th>DES_MARCA_MATERIAL_anon_S21</th>\n",
       "      <th>DES_MARCA_MATERIAL_anon_S22</th>\n",
       "      <th>DES_MARCA_MATERIAL_anon_S23</th>\n",
       "      <th>DES_MARCA_MATERIAL_anon_S24</th>\n",
       "      <th>DES_MARCA_MATERIAL_anon_S4</th>\n",
       "      <th>DES_MARCA_MATERIAL_anon_S6</th>\n",
       "      <th>DES_MARCA_MATERIAL_anon_S8</th>\n",
       "      <th>DES_MARCA_MATERIAL_anon_S9</th>\n",
       "    </tr>\n",
       "  </thead>\n",
       "  <tbody>\n",
       "    <tr>\n",
       "      <th>0</th>\n",
       "      <td>201801</td>\n",
       "      <td>0</td>\n",
       "      <td>0.0</td>\n",
       "      <td>1.0</td>\n",
       "      <td>0.5</td>\n",
       "      <td>0.0</td>\n",
       "      <td>0.0</td>\n",
       "      <td>0.0</td>\n",
       "      <td>773.625</td>\n",
       "      <td>355218.0</td>\n",
       "      <td>...</td>\n",
       "      <td>0</td>\n",
       "      <td>0</td>\n",
       "      <td>0</td>\n",
       "      <td>0</td>\n",
       "      <td>0</td>\n",
       "      <td>0</td>\n",
       "      <td>0</td>\n",
       "      <td>0</td>\n",
       "      <td>0</td>\n",
       "      <td>1</td>\n",
       "    </tr>\n",
       "    <tr>\n",
       "      <th>1</th>\n",
       "      <td>201801</td>\n",
       "      <td>0</td>\n",
       "      <td>0.0</td>\n",
       "      <td>0.0</td>\n",
       "      <td>0.0</td>\n",
       "      <td>0.0</td>\n",
       "      <td>0.0</td>\n",
       "      <td>0.0</td>\n",
       "      <td>461.400</td>\n",
       "      <td>1140.0</td>\n",
       "      <td>...</td>\n",
       "      <td>0</td>\n",
       "      <td>0</td>\n",
       "      <td>0</td>\n",
       "      <td>0</td>\n",
       "      <td>0</td>\n",
       "      <td>0</td>\n",
       "      <td>0</td>\n",
       "      <td>0</td>\n",
       "      <td>0</td>\n",
       "      <td>0</td>\n",
       "    </tr>\n",
       "    <tr>\n",
       "      <th>2</th>\n",
       "      <td>201801</td>\n",
       "      <td>0</td>\n",
       "      <td>0.0</td>\n",
       "      <td>0.0</td>\n",
       "      <td>0.0</td>\n",
       "      <td>0.0</td>\n",
       "      <td>0.0</td>\n",
       "      <td>0.0</td>\n",
       "      <td>413.400</td>\n",
       "      <td>480.0</td>\n",
       "      <td>...</td>\n",
       "      <td>0</td>\n",
       "      <td>0</td>\n",
       "      <td>0</td>\n",
       "      <td>0</td>\n",
       "      <td>1</td>\n",
       "      <td>0</td>\n",
       "      <td>0</td>\n",
       "      <td>0</td>\n",
       "      <td>0</td>\n",
       "      <td>0</td>\n",
       "    </tr>\n",
       "    <tr>\n",
       "      <th>3</th>\n",
       "      <td>201801</td>\n",
       "      <td>0</td>\n",
       "      <td>0.0</td>\n",
       "      <td>1.0</td>\n",
       "      <td>0.0</td>\n",
       "      <td>0.0</td>\n",
       "      <td>0.0</td>\n",
       "      <td>0.0</td>\n",
       "      <td>365.400</td>\n",
       "      <td>50142.0</td>\n",
       "      <td>...</td>\n",
       "      <td>0</td>\n",
       "      <td>0</td>\n",
       "      <td>0</td>\n",
       "      <td>0</td>\n",
       "      <td>0</td>\n",
       "      <td>0</td>\n",
       "      <td>0</td>\n",
       "      <td>0</td>\n",
       "      <td>0</td>\n",
       "      <td>0</td>\n",
       "    </tr>\n",
       "    <tr>\n",
       "      <th>4</th>\n",
       "      <td>201801</td>\n",
       "      <td>0</td>\n",
       "      <td>0.0</td>\n",
       "      <td>1.0</td>\n",
       "      <td>0.0</td>\n",
       "      <td>0.0</td>\n",
       "      <td>0.0</td>\n",
       "      <td>0.0</td>\n",
       "      <td>1073.400</td>\n",
       "      <td>85554.0</td>\n",
       "      <td>...</td>\n",
       "      <td>0</td>\n",
       "      <td>1</td>\n",
       "      <td>0</td>\n",
       "      <td>0</td>\n",
       "      <td>0</td>\n",
       "      <td>0</td>\n",
       "      <td>0</td>\n",
       "      <td>0</td>\n",
       "      <td>0</td>\n",
       "      <td>0</td>\n",
       "    </tr>\n",
       "  </tbody>\n",
       "</table>\n",
       "<p>5 rows × 25 columns</p>\n",
       "</div>"
      ],
      "text/plain": [
       "   COD_CICLO  FLG_DATA  FLG_CAMPANHA_MKT_A  FLG_CAMPANHA_MKT_B  \\\n",
       "0     201801         0                 0.0                 1.0   \n",
       "1     201801         0                 0.0                 0.0   \n",
       "2     201801         0                 0.0                 0.0   \n",
       "3     201801         0                 0.0                 1.0   \n",
       "4     201801         0                 0.0                 1.0   \n",
       "\n",
       "   FLG_CAMPANHA_MKT_C  FLG_CAMPANHA_MKT_D  FLG_CAMPANHA_MKT_E  \\\n",
       "0                 0.5                 0.0                 0.0   \n",
       "1                 0.0                 0.0                 0.0   \n",
       "2                 0.0                 0.0                 0.0   \n",
       "3                 0.0                 0.0                 0.0   \n",
       "4                 0.0                 0.0                 0.0   \n",
       "\n",
       "   FLG_CAMPANHA_MKT_F  VL_PRECO  QT_VENDA  ...  DES_MARCA_MATERIAL_anon_S17  \\\n",
       "0                 0.0   773.625  355218.0  ...                            0   \n",
       "1                 0.0   461.400    1140.0  ...                            0   \n",
       "2                 0.0   413.400     480.0  ...                            0   \n",
       "3                 0.0   365.400   50142.0  ...                            0   \n",
       "4                 0.0  1073.400   85554.0  ...                            0   \n",
       "\n",
       "   DES_MARCA_MATERIAL_anon_S20  DES_MARCA_MATERIAL_anon_S21  \\\n",
       "0                            0                            0   \n",
       "1                            0                            0   \n",
       "2                            0                            0   \n",
       "3                            0                            0   \n",
       "4                            1                            0   \n",
       "\n",
       "   DES_MARCA_MATERIAL_anon_S22  DES_MARCA_MATERIAL_anon_S23  \\\n",
       "0                            0                            0   \n",
       "1                            0                            0   \n",
       "2                            0                            1   \n",
       "3                            0                            0   \n",
       "4                            0                            0   \n",
       "\n",
       "   DES_MARCA_MATERIAL_anon_S24  DES_MARCA_MATERIAL_anon_S4  \\\n",
       "0                            0                           0   \n",
       "1                            0                           0   \n",
       "2                            0                           0   \n",
       "3                            0                           0   \n",
       "4                            0                           0   \n",
       "\n",
       "   DES_MARCA_MATERIAL_anon_S6  DES_MARCA_MATERIAL_anon_S8  \\\n",
       "0                           0                           0   \n",
       "1                           0                           0   \n",
       "2                           0                           0   \n",
       "3                           0                           0   \n",
       "4                           0                           0   \n",
       "\n",
       "   DES_MARCA_MATERIAL_anon_S9  \n",
       "0                           1  \n",
       "1                           0  \n",
       "2                           0  \n",
       "3                           0  \n",
       "4                           0  \n",
       "\n",
       "[5 rows x 25 columns]"
      ]
     },
     "execution_count": 54,
     "metadata": {},
     "output_type": "execute_result"
    }
   ],
   "source": [
    "# one-hot encoding categorical variables\n",
    "#df_xgb = df_no_missing.copy()\n",
    "df_xgb = pd.get_dummies(data=df_xgb, columns=['DES_CATEGORIA_MATERIAL','DES_MARCA_MATERIAL'], drop_first=True)\n",
    "df_xgb.head()"
   ]
  },
  {
   "cell_type": "code",
   "execution_count": 55,
   "metadata": {
    "tags": []
   },
   "outputs": [],
   "source": [
    "from sklearn.model_selection import train_test_split\n",
    "features = df_xgb.drop([\"QT_VENDA\"], axis = 1)\n",
    "target = df_xgb[\"QT_VENDA\"]\n",
    "X_train, X_test, y_train, y_test = train_test_split(features, target, test_size = 0.20)"
   ]
  },
  {
   "cell_type": "code",
   "execution_count": 56,
   "metadata": {
    "tags": []
   },
   "outputs": [],
   "source": [
    "import xgboost as xgb"
   ]
  },
  {
   "cell_type": "code",
   "execution_count": 57,
   "metadata": {
    "tags": []
   },
   "outputs": [
    {
     "name": "stdout",
     "output_type": "stream",
     "text": [
      "[0]\ttrain-rmse:99466.43750\teval-rmse:97640.06250\n",
      "Multiple eval metrics have been passed: 'eval-rmse' will be used for early stopping.\n",
      "\n",
      "Will train until eval-rmse hasn't improved in 50 rounds.\n",
      "[1]\ttrain-rmse:95062.56250\teval-rmse:94255.45312\n",
      "[2]\ttrain-rmse:91310.67188\teval-rmse:91445.93750\n",
      "[3]\ttrain-rmse:88045.26562\teval-rmse:88901.93750\n",
      "[4]\ttrain-rmse:85184.29688\teval-rmse:87010.04688\n",
      "[5]\ttrain-rmse:82664.50781\teval-rmse:85318.59375\n",
      "[6]\ttrain-rmse:80325.32812\teval-rmse:83887.85156\n",
      "[7]\ttrain-rmse:78360.14844\teval-rmse:82529.18750\n",
      "[8]\ttrain-rmse:76596.54688\teval-rmse:81285.96875\n",
      "[9]\ttrain-rmse:75143.43750\teval-rmse:80390.28125\n",
      "[10]\ttrain-rmse:73423.03906\teval-rmse:79639.87500\n",
      "[11]\ttrain-rmse:72202.13281\teval-rmse:78914.08594\n",
      "[12]\ttrain-rmse:70902.91406\teval-rmse:78378.01562\n",
      "[13]\ttrain-rmse:69839.25781\teval-rmse:77800.99219\n",
      "[14]\ttrain-rmse:68829.67969\teval-rmse:77364.10156\n",
      "[15]\ttrain-rmse:67999.42188\teval-rmse:76928.75000\n",
      "[16]\ttrain-rmse:67255.49219\teval-rmse:76645.34375\n",
      "[17]\ttrain-rmse:66561.16406\teval-rmse:76347.88281\n",
      "[18]\ttrain-rmse:65786.97656\teval-rmse:76095.92969\n",
      "[19]\ttrain-rmse:65188.93359\teval-rmse:75939.93750\n",
      "[20]\ttrain-rmse:64502.31250\teval-rmse:75784.67969\n",
      "[21]\ttrain-rmse:63976.96875\teval-rmse:75566.96875\n",
      "[22]\ttrain-rmse:63527.00781\teval-rmse:75446.12500\n",
      "[23]\ttrain-rmse:62945.25781\teval-rmse:75402.46094\n",
      "[24]\ttrain-rmse:62271.37500\teval-rmse:75351.65625\n",
      "[25]\ttrain-rmse:61777.71484\teval-rmse:75246.57031\n",
      "[26]\ttrain-rmse:61307.39062\teval-rmse:75029.25781\n",
      "[27]\ttrain-rmse:60828.67969\teval-rmse:74913.53906\n",
      "[28]\ttrain-rmse:60398.78125\teval-rmse:74899.65625\n",
      "[29]\ttrain-rmse:59900.90625\teval-rmse:74922.08594\n",
      "[30]\ttrain-rmse:59630.10156\teval-rmse:74845.84375\n",
      "[31]\ttrain-rmse:59188.71484\teval-rmse:74893.42188\n",
      "[32]\ttrain-rmse:58883.87109\teval-rmse:74892.71094\n",
      "[33]\ttrain-rmse:58491.27734\teval-rmse:74933.46094\n",
      "[34]\ttrain-rmse:58117.19922\teval-rmse:74843.00000\n",
      "[35]\ttrain-rmse:57871.44141\teval-rmse:74806.84375\n",
      "[36]\ttrain-rmse:57630.63672\teval-rmse:74708.96094\n",
      "[37]\ttrain-rmse:57242.92578\teval-rmse:74696.12500\n",
      "[38]\ttrain-rmse:57002.98828\teval-rmse:74642.60938\n",
      "[39]\ttrain-rmse:56764.23828\teval-rmse:74541.27344\n",
      "[40]\ttrain-rmse:56561.20312\teval-rmse:74530.33594\n",
      "[41]\ttrain-rmse:56225.29688\teval-rmse:74317.71094\n",
      "[42]\ttrain-rmse:55934.82422\teval-rmse:74136.87500\n",
      "[43]\ttrain-rmse:55757.37500\teval-rmse:74136.41406\n",
      "[44]\ttrain-rmse:55517.09375\teval-rmse:73953.18750\n",
      "[45]\ttrain-rmse:55367.14453\teval-rmse:73898.22656\n",
      "[46]\ttrain-rmse:55123.26172\teval-rmse:73902.77344\n",
      "[47]\ttrain-rmse:54756.45703\teval-rmse:73945.22656\n",
      "[48]\ttrain-rmse:54725.16797\teval-rmse:73932.18750\n",
      "[49]\ttrain-rmse:54413.30469\teval-rmse:73937.56250\n",
      "[50]\ttrain-rmse:54232.17578\teval-rmse:73820.82812\n",
      "[51]\ttrain-rmse:54108.42969\teval-rmse:73823.60156\n",
      "[52]\ttrain-rmse:53950.33203\teval-rmse:73724.84375\n",
      "[53]\ttrain-rmse:53732.51953\teval-rmse:73727.35938\n",
      "[54]\ttrain-rmse:53620.58984\teval-rmse:73727.55469\n",
      "[55]\ttrain-rmse:53500.12500\teval-rmse:73618.60938\n",
      "[56]\ttrain-rmse:53397.42188\teval-rmse:73544.23438\n",
      "[57]\ttrain-rmse:53248.57031\teval-rmse:73546.07812\n",
      "[58]\ttrain-rmse:53152.26953\teval-rmse:73560.10156\n",
      "[59]\ttrain-rmse:53005.41406\teval-rmse:73553.06250\n",
      "[60]\ttrain-rmse:52870.85156\teval-rmse:73553.80469\n",
      "[61]\ttrain-rmse:52799.53516\teval-rmse:73468.53125\n",
      "[62]\ttrain-rmse:52665.08203\teval-rmse:73478.92969\n",
      "[63]\ttrain-rmse:52644.15234\teval-rmse:73474.92969\n",
      "[64]\ttrain-rmse:52427.08203\teval-rmse:73490.46875\n",
      "[65]\ttrain-rmse:52379.24609\teval-rmse:73491.64844\n",
      "[66]\ttrain-rmse:52297.64453\teval-rmse:73485.14844\n",
      "[67]\ttrain-rmse:52180.46875\teval-rmse:73434.59375\n",
      "[68]\ttrain-rmse:51998.14453\teval-rmse:73425.80469\n",
      "[69]\ttrain-rmse:51894.21875\teval-rmse:73402.07031\n",
      "[70]\ttrain-rmse:51853.62891\teval-rmse:73407.71875\n",
      "[71]\ttrain-rmse:51686.28906\teval-rmse:73272.31250\n",
      "[72]\ttrain-rmse:51589.75391\teval-rmse:73289.63281\n",
      "[73]\ttrain-rmse:51284.47656\teval-rmse:73285.53906\n",
      "[74]\ttrain-rmse:51066.33203\teval-rmse:73296.34375\n",
      "[75]\ttrain-rmse:50955.50000\teval-rmse:73304.85156\n",
      "[76]\ttrain-rmse:50848.28906\teval-rmse:73294.73438\n",
      "[77]\ttrain-rmse:50668.01953\teval-rmse:73305.26562\n",
      "[78]\ttrain-rmse:50641.35156\teval-rmse:73318.59375\n",
      "[79]\ttrain-rmse:50446.63672\teval-rmse:73317.11719\n",
      "[80]\ttrain-rmse:50348.89453\teval-rmse:73249.17969\n",
      "[81]\ttrain-rmse:50335.60156\teval-rmse:73244.21875\n",
      "[82]\ttrain-rmse:50236.73828\teval-rmse:73284.49219\n",
      "[83]\ttrain-rmse:49941.26953\teval-rmse:73371.78906\n",
      "[84]\ttrain-rmse:49853.56641\teval-rmse:73361.97656\n",
      "[85]\ttrain-rmse:49776.40625\teval-rmse:73386.50781\n",
      "[86]\ttrain-rmse:49618.72266\teval-rmse:73370.87500\n",
      "[87]\ttrain-rmse:49534.55859\teval-rmse:73358.34375\n",
      "[88]\ttrain-rmse:49489.53125\teval-rmse:73358.52344\n",
      "[89]\ttrain-rmse:49391.31250\teval-rmse:73297.05469\n",
      "[90]\ttrain-rmse:49241.94531\teval-rmse:73313.21094\n",
      "[91]\ttrain-rmse:49163.62500\teval-rmse:73288.37500\n",
      "[92]\ttrain-rmse:49062.23047\teval-rmse:73289.28906\n",
      "[93]\ttrain-rmse:49028.87500\teval-rmse:73289.03906\n",
      "[94]\ttrain-rmse:49016.51562\teval-rmse:73285.39062\n",
      "[95]\ttrain-rmse:48979.23828\teval-rmse:73287.76562\n",
      "[96]\ttrain-rmse:48887.59766\teval-rmse:73306.28125\n",
      "[97]\ttrain-rmse:48803.35547\teval-rmse:73328.75000\n",
      "[98]\ttrain-rmse:48720.67188\teval-rmse:73379.46094\n",
      "[99]\ttrain-rmse:48484.78906\teval-rmse:73424.60156\n"
     ]
    }
   ],
   "source": [
    "params = {'max_depth':8, \"booster\": \"gbtree\", 'eta':0.1, 'objective':'reg:squarederror'}\n",
    "train = xgb.DMatrix(X_train, y_train)\n",
    "test = xgb.DMatrix(X_test, y_test)\n",
    "watchlist = [(train, 'train'), (test, 'eval')]\n",
    "# Training the model\n",
    "xgboost = xgb.train(params, train, 100, evals=watchlist, early_stopping_rounds= 50, verbose_eval=True)"
   ]
  },
  {
   "cell_type": "code",
   "execution_count": 59,
   "metadata": {
    "tags": []
   },
   "outputs": [],
   "source": [
    "# Making predictions\n",
    "preds = xgboost.predict(test)"
   ]
  },
  {
   "cell_type": "code",
   "execution_count": 60,
   "metadata": {
    "tags": []
   },
   "outputs": [
    {
     "name": "stdout",
     "output_type": "stream",
     "text": [
      "Root Mean Squared Error for XGBoost: 73424.60653909661\n",
      "Mean Absolute Error for XGBoost: 25316.42034626991\n"
     ]
    }
   ],
   "source": [
    "rms_xgboost = np.sqrt(mean_squared_error(y_test, preds))\n",
    "print(\"Root Mean Squared Error for XGBoost:\", rms_xgboost)\n",
    "mae_xgboost = mean_absolute_error(y_test, preds)\n",
    "print(\"Mean Absolute Error for XGBoost:\", mae_xgboost)"
   ]
  },
  {
   "cell_type": "markdown",
   "metadata": {},
   "source": [
    "Vemos uma melhora significativa de performance com respeito aos nossos outros experimentos, com um rmse da ordem de 40% menor. Vamos então construir nosso modelo baseado nesse algoritmo."
   ]
  },
  {
   "cell_type": "markdown",
   "metadata": {},
   "source": [
    "## Execução dos scripts"
   ]
  },
  {
   "cell_type": "code",
   "execution_count": 2,
   "metadata": {
    "tags": []
   },
   "outputs": [
    {
     "name": "stdout",
     "output_type": "stream",
     "text": [
      "Started preprocess step at 18:11:31\n",
      "Handling missing values\n",
      "Encoding categorical variables\n",
      "Train set with 39152 rows\n",
      "Test set with 9788 rows\n",
      "Dropping unecessary columns\n",
      "Saving sets to csv\n",
      "Finished Preprocess step at 18:11:33\n"
     ]
    }
   ],
   "source": [
    "%run preprocess.py"
   ]
  },
  {
   "cell_type": "code",
   "execution_count": 3,
   "metadata": {
    "tags": []
   },
   "outputs": [
    {
     "name": "stderr",
     "output_type": "stream",
     "text": [
      "/Users/grasiele/opt/anaconda3/lib/python3.8/site-packages/xgboost/compat.py:93: FutureWarning: pandas.Int64Index is deprecated and will be removed from pandas in a future version. Use pandas.Index with the appropriate dtype instead.\n",
      "  from pandas import MultiIndex, Int64Index\n",
      "/Users/grasiele/opt/anaconda3/lib/python3.8/site-packages/dask/dataframe/utils.py:367: FutureWarning: pandas.Int64Index is deprecated and will be removed from pandas in a future version. Use pandas.Index with the appropriate dtype instead.\n",
      "  _numeric_index_types = (pd.Int64Index, pd.Float64Index, pd.UInt64Index)\n",
      "/Users/grasiele/opt/anaconda3/lib/python3.8/site-packages/dask/dataframe/utils.py:367: FutureWarning: pandas.Float64Index is deprecated and will be removed from pandas in a future version. Use pandas.Index with the appropriate dtype instead.\n",
      "  _numeric_index_types = (pd.Int64Index, pd.Float64Index, pd.UInt64Index)\n",
      "/Users/grasiele/opt/anaconda3/lib/python3.8/site-packages/dask/dataframe/utils.py:367: FutureWarning: pandas.UInt64Index is deprecated and will be removed from pandas in a future version. Use pandas.Index with the appropriate dtype instead.\n",
      "  _numeric_index_types = (pd.Int64Index, pd.Float64Index, pd.UInt64Index)\n"
     ]
    },
    {
     "name": "stdout",
     "output_type": "stream",
     "text": [
      "Started Train step at 18:11:39\n",
      "Reading train and test sets\n",
      "Training dataset\n",
      "[0]\ttrain-rmse:101904.10938\teval-rmse:85968.62500\n",
      "Multiple eval metrics have been passed: 'eval-rmse' will be used for early stopping.\n",
      "\n",
      "Will train until eval-rmse hasn't improved in 20 rounds.\n",
      "[1]\ttrain-rmse:97382.64844\teval-rmse:82979.02344\n",
      "[2]\ttrain-rmse:93461.34375\teval-rmse:80507.48438\n",
      "[3]\ttrain-rmse:89886.90625\teval-rmse:78515.92969\n",
      "[4]\ttrain-rmse:86663.18750\teval-rmse:76802.09375\n",
      "[5]\ttrain-rmse:83912.90625\teval-rmse:75503.17188\n",
      "[6]\ttrain-rmse:81660.94531\teval-rmse:74349.27344\n",
      "[7]\ttrain-rmse:79685.21094\teval-rmse:73505.03906\n",
      "[8]\ttrain-rmse:77830.31250\teval-rmse:72764.61719\n",
      "[9]\ttrain-rmse:76252.28125\teval-rmse:72266.17188\n",
      "[10]\ttrain-rmse:74654.98438\teval-rmse:71525.00000\n",
      "[11]\ttrain-rmse:73308.53906\teval-rmse:70931.45312\n",
      "[12]\ttrain-rmse:72109.73438\teval-rmse:70561.73438\n",
      "[13]\ttrain-rmse:70787.66406\teval-rmse:70239.89844\n",
      "[14]\ttrain-rmse:69805.23438\teval-rmse:69994.92969\n",
      "[15]\ttrain-rmse:68992.32812\teval-rmse:69834.77344\n",
      "[16]\ttrain-rmse:67983.20312\teval-rmse:69617.02344\n",
      "[17]\ttrain-rmse:67218.40625\teval-rmse:69409.17188\n",
      "[18]\ttrain-rmse:66408.47656\teval-rmse:68804.95312\n",
      "[19]\ttrain-rmse:65753.09375\teval-rmse:68737.91406\n",
      "[20]\ttrain-rmse:64881.37500\teval-rmse:68700.39844\n",
      "[21]\ttrain-rmse:64281.75000\teval-rmse:68734.85156\n",
      "[22]\ttrain-rmse:63581.92969\teval-rmse:68702.68750\n",
      "[23]\ttrain-rmse:62931.34375\teval-rmse:68627.66406\n",
      "[24]\ttrain-rmse:62370.55469\teval-rmse:68584.16406\n",
      "[25]\ttrain-rmse:61786.39453\teval-rmse:68671.88281\n",
      "[26]\ttrain-rmse:61356.48828\teval-rmse:68751.11719\n",
      "[27]\ttrain-rmse:61075.17578\teval-rmse:68729.60156\n",
      "[28]\ttrain-rmse:60568.10156\teval-rmse:68857.31250\n",
      "[29]\ttrain-rmse:59999.43750\teval-rmse:68914.89844\n",
      "[30]\ttrain-rmse:59573.80469\teval-rmse:68993.29688\n",
      "[31]\ttrain-rmse:59272.80469\teval-rmse:69095.41406\n",
      "[32]\ttrain-rmse:58904.17578\teval-rmse:69203.07031\n",
      "[33]\ttrain-rmse:58737.40234\teval-rmse:69238.45312\n",
      "[34]\ttrain-rmse:58348.75391\teval-rmse:69295.17188\n",
      "[35]\ttrain-rmse:58089.67578\teval-rmse:69272.40625\n",
      "[36]\ttrain-rmse:57801.28125\teval-rmse:69280.07812\n",
      "[37]\ttrain-rmse:57651.77734\teval-rmse:69361.15625\n",
      "[38]\ttrain-rmse:57544.46094\teval-rmse:69338.64062\n",
      "[39]\ttrain-rmse:57366.92969\teval-rmse:69347.19531\n",
      "[40]\ttrain-rmse:57248.24609\teval-rmse:69354.68750\n",
      "[41]\ttrain-rmse:56979.35547\teval-rmse:69338.98438\n",
      "[42]\ttrain-rmse:56904.47266\teval-rmse:69314.92188\n",
      "[43]\ttrain-rmse:56483.00000\teval-rmse:69359.31250\n",
      "[44]\ttrain-rmse:56300.77344\teval-rmse:69425.75781\n",
      "Stopping. Best iteration:\n",
      "[24]\ttrain-rmse:62370.55469\teval-rmse:68584.16406\n",
      "\n",
      "Getting metrics\n",
      "{'mae': 25841.47385677124, 'rmse': 69425.73467788778, 'mape': 10.408707020170159}\n",
      "Saving model\n",
      "['FLG_CAMPANHA_MKT_B', 'FLG_CAMPANHA_MKT_D', 'VL_PRECO', 'FLG_DATA', 'DES_MARCA_MATERIAL_anon_S24', 'DES_MARCA_MATERIAL_anon_S20', 'FLG_CAMPANHA_MKT_C', 'DES_CATEGORIA_MATERIAL_anon_S30', 'DES_CATEGORIA_MATERIAL_anon_S12', 'COD_CICLO', 'DES_CATEGORIA_MATERIAL_anon_S2', 'FLG_CAMPANHA_MKT_A', 'DES_MARCA_MATERIAL_anon_S34', 'DES_CATEGORIA_MATERIAL_anon_S5', 'DES_MARCA_MATERIAL_anon_S22', 'DES_MARCA_MATERIAL_anon_S25', 'DES_MARCA_MATERIAL_anon_S28', 'DES_MARCA_MATERIAL_anon_S21', 'DES_MARCA_MATERIAL_anon_S4', 'DES_MARCA_MATERIAL_anon_S33', 'DES_MARCA_MATERIAL_anon_S8', 'DES_MARCA_MATERIAL_anon_S14', 'DES_MARCA_MATERIAL_anon_S47', 'DES_MARCA_MATERIAL_anon_S17', 'DES_MARCA_MATERIAL_anon_S19', 'DES_MARCA_MATERIAL_anon_S3', 'DES_MARCA_MATERIAL_anon_S6', 'DES_MARCA_MATERIAL_anon_S26', 'DES_MARCA_MATERIAL_anon_S31', 'DES_MARCA_MATERIAL_anon_S32', 'DES_CATEGORIA_MATERIAL_anon_S18', 'DES_MARCA_MATERIAL_anon_S50', 'DES_MARCA_MATERIAL_anon_S15', 'DES_MARCA_MATERIAL_anon_S46', 'DES_MARCA_MATERIAL_anon_S23', 'DES_MARCA_MATERIAL_anon_S39', 'DES_MARCA_MATERIAL_anon_S9', 'DES_MARCA_MATERIAL_anon_S35', 'DES_MARCA_MATERIAL_anon_S29', 'DES_MARCA_MATERIAL_anon_S42', 'DES_MARCA_MATERIAL_anon_S40', 'DES_MARCA_MATERIAL_anon_S41', 'DES_MARCA_MATERIAL_anon_S45']\n",
      "Finished train step at 18:11:49\n"
     ]
    }
   ],
   "source": [
    "%run train.py"
   ]
  },
  {
   "cell_type": "code",
   "execution_count": 9,
   "metadata": {
    "tags": []
   },
   "outputs": [],
   "source": [
    "features = ['FLG_CAMPANHA_MKT_B', 'FLG_CAMPANHA_MKT_D', 'VL_PRECO', 'FLG_DATA', 'DES_MARCA_MATERIAL_anon_S24', \n",
    "            'DES_MARCA_MATERIAL_anon_S20', 'FLG_CAMPANHA_MKT_C', 'DES_CATEGORIA_MATERIAL_anon_S30', \n",
    "            'DES_CATEGORIA_MATERIAL_anon_S12', 'COD_CICLO', 'DES_CATEGORIA_MATERIAL_anon_S2', 'FLG_CAMPANHA_MKT_A', \n",
    "            'DES_MARCA_MATERIAL_anon_S34', 'DES_CATEGORIA_MATERIAL_anon_S5', 'DES_MARCA_MATERIAL_anon_S22', \n",
    "            'DES_MARCA_MATERIAL_anon_S25', 'DES_MARCA_MATERIAL_anon_S28', 'DES_MARCA_MATERIAL_anon_S21', \n",
    "            'DES_MARCA_MATERIAL_anon_S4', 'DES_MARCA_MATERIAL_anon_S33', 'DES_MARCA_MATERIAL_anon_S8', \n",
    "            'DES_MARCA_MATERIAL_anon_S14', 'DES_MARCA_MATERIAL_anon_S47', 'DES_MARCA_MATERIAL_anon_S17', \n",
    "            'DES_MARCA_MATERIAL_anon_S19', 'DES_MARCA_MATERIAL_anon_S3', 'DES_MARCA_MATERIAL_anon_S6', \n",
    "            'DES_MARCA_MATERIAL_anon_S26', 'DES_MARCA_MATERIAL_anon_S31', 'DES_MARCA_MATERIAL_anon_S32', \n",
    "            'DES_CATEGORIA_MATERIAL_anon_S18', 'DES_MARCA_MATERIAL_anon_S50', 'DES_MARCA_MATERIAL_anon_S15', \n",
    "            'DES_MARCA_MATERIAL_anon_S46', 'DES_MARCA_MATERIAL_anon_S23', 'DES_MARCA_MATERIAL_anon_S39', 'DES_MARCA_MATERIAL_anon_S9',\n",
    "            'DES_MARCA_MATERIAL_anon_S35', 'DES_MARCA_MATERIAL_anon_S29', 'DES_MARCA_MATERIAL_anon_S42', \n",
    "            'DES_MARCA_MATERIAL_anon_S40', 'DES_MARCA_MATERIAL_anon_S41', 'DES_MARCA_MATERIAL_anon_S45']"
   ]
  },
  {
   "cell_type": "code",
   "execution_count": 1,
   "metadata": {
    "tags": []
   },
   "outputs": [
    {
     "name": "stderr",
     "output_type": "stream",
     "text": [
      "/Users/grasiele/opt/anaconda3/lib/python3.8/site-packages/pandas/core/computation/expressions.py:20: UserWarning: Pandas requires version '2.7.3' or newer of 'numexpr' (version '2.7.1' currently installed).\n",
      "  from pandas.core.computation.check import NUMEXPR_INSTALLED\n"
     ]
    },
    {
     "data": {
      "text/html": [
       "<div>\n",
       "<style scoped>\n",
       "    .dataframe tbody tr th:only-of-type {\n",
       "        vertical-align: middle;\n",
       "    }\n",
       "\n",
       "    .dataframe tbody tr th {\n",
       "        vertical-align: top;\n",
       "    }\n",
       "\n",
       "    .dataframe thead th {\n",
       "        text-align: right;\n",
       "    }\n",
       "</style>\n",
       "<table border=\"1\" class=\"dataframe\">\n",
       "  <thead>\n",
       "    <tr style=\"text-align: right;\">\n",
       "      <th></th>\n",
       "      <th>COD_MATERIAL</th>\n",
       "      <th>COD_CICLO</th>\n",
       "      <th>DES_CATEGORIA_MATERIAL</th>\n",
       "      <th>DES_MARCA_MATERIAL</th>\n",
       "      <th>FLG_DATA</th>\n",
       "      <th>FLG_CAMPANHA_MKT_A</th>\n",
       "      <th>FLG_CAMPANHA_MKT_B</th>\n",
       "      <th>FLG_CAMPANHA_MKT_C</th>\n",
       "      <th>FLG_CAMPANHA_MKT_D</th>\n",
       "      <th>FLG_CAMPANHA_MKT_E</th>\n",
       "      <th>FLG_CAMPANHA_MKT_F</th>\n",
       "      <th>PCT_DESCONTO</th>\n",
       "      <th>VL_PRECO</th>\n",
       "      <th>QT_VENDA</th>\n",
       "    </tr>\n",
       "  </thead>\n",
       "  <tbody>\n",
       "    <tr>\n",
       "      <th>29</th>\n",
       "      <td>7098</td>\n",
       "      <td>202101</td>\n",
       "      <td>anon_S12</td>\n",
       "      <td>anon_S45</td>\n",
       "      <td>0</td>\n",
       "      <td>0.0</td>\n",
       "      <td>0.0</td>\n",
       "      <td>0.0</td>\n",
       "      <td>0.0</td>\n",
       "      <td>0.0</td>\n",
       "      <td>0.0</td>\n",
       "      <td>NaN</td>\n",
       "      <td>791.4</td>\n",
       "      <td>NaN</td>\n",
       "    </tr>\n",
       "    <tr>\n",
       "      <th>47</th>\n",
       "      <td>7230</td>\n",
       "      <td>202016</td>\n",
       "      <td>anon_S12</td>\n",
       "      <td>anon_S42</td>\n",
       "      <td>1</td>\n",
       "      <td>0.0</td>\n",
       "      <td>0.0</td>\n",
       "      <td>0.0</td>\n",
       "      <td>0.0</td>\n",
       "      <td>0.0</td>\n",
       "      <td>0.0</td>\n",
       "      <td>NaN</td>\n",
       "      <td>863.4</td>\n",
       "      <td>NaN</td>\n",
       "    </tr>\n",
       "    <tr>\n",
       "      <th>48</th>\n",
       "      <td>7230</td>\n",
       "      <td>202101</td>\n",
       "      <td>anon_S12</td>\n",
       "      <td>anon_S42</td>\n",
       "      <td>0</td>\n",
       "      <td>0.0</td>\n",
       "      <td>0.0</td>\n",
       "      <td>0.0</td>\n",
       "      <td>0.0</td>\n",
       "      <td>0.0</td>\n",
       "      <td>0.0</td>\n",
       "      <td>NaN</td>\n",
       "      <td>863.4</td>\n",
       "      <td>NaN</td>\n",
       "    </tr>\n",
       "    <tr>\n",
       "      <th>113</th>\n",
       "      <td>10104</td>\n",
       "      <td>202016</td>\n",
       "      <td>anon_S12</td>\n",
       "      <td>anon_S47</td>\n",
       "      <td>1</td>\n",
       "      <td>0.0</td>\n",
       "      <td>0.0</td>\n",
       "      <td>0.0</td>\n",
       "      <td>0.0</td>\n",
       "      <td>0.0</td>\n",
       "      <td>0.0</td>\n",
       "      <td>NaN</td>\n",
       "      <td>809.4</td>\n",
       "      <td>NaN</td>\n",
       "    </tr>\n",
       "    <tr>\n",
       "      <th>114</th>\n",
       "      <td>10104</td>\n",
       "      <td>202017</td>\n",
       "      <td>anon_S12</td>\n",
       "      <td>anon_S47</td>\n",
       "      <td>1</td>\n",
       "      <td>0.0</td>\n",
       "      <td>0.0</td>\n",
       "      <td>0.0</td>\n",
       "      <td>0.0</td>\n",
       "      <td>0.0</td>\n",
       "      <td>0.0</td>\n",
       "      <td>NaN</td>\n",
       "      <td>809.4</td>\n",
       "      <td>NaN</td>\n",
       "    </tr>\n",
       "  </tbody>\n",
       "</table>\n",
       "</div>"
      ],
      "text/plain": [
       "     COD_MATERIAL  COD_CICLO DES_CATEGORIA_MATERIAL DES_MARCA_MATERIAL  \\\n",
       "29           7098     202101               anon_S12           anon_S45   \n",
       "47           7230     202016               anon_S12           anon_S42   \n",
       "48           7230     202101               anon_S12           anon_S42   \n",
       "113         10104     202016               anon_S12           anon_S47   \n",
       "114         10104     202017               anon_S12           anon_S47   \n",
       "\n",
       "     FLG_DATA  FLG_CAMPANHA_MKT_A  FLG_CAMPANHA_MKT_B  FLG_CAMPANHA_MKT_C  \\\n",
       "29          0                 0.0                 0.0                 0.0   \n",
       "47          1                 0.0                 0.0                 0.0   \n",
       "48          0                 0.0                 0.0                 0.0   \n",
       "113         1                 0.0                 0.0                 0.0   \n",
       "114         1                 0.0                 0.0                 0.0   \n",
       "\n",
       "     FLG_CAMPANHA_MKT_D  FLG_CAMPANHA_MKT_E  FLG_CAMPANHA_MKT_F  PCT_DESCONTO  \\\n",
       "29                  0.0                 0.0                 0.0           NaN   \n",
       "47                  0.0                 0.0                 0.0           NaN   \n",
       "48                  0.0                 0.0                 0.0           NaN   \n",
       "113                 0.0                 0.0                 0.0           NaN   \n",
       "114                 0.0                 0.0                 0.0           NaN   \n",
       "\n",
       "     VL_PRECO  QT_VENDA  \n",
       "29      791.4       NaN  \n",
       "47      863.4       NaN  \n",
       "48      863.4       NaN  \n",
       "113     809.4       NaN  \n",
       "114     809.4       NaN  "
      ]
     },
     "execution_count": 1,
     "metadata": {},
     "output_type": "execute_result"
    }
   ],
   "source": [
    "import pandas as pd\n",
    "df = pd.read_csv('output.csv')\n",
    "new_data = df[df['COD_CICLO'].isin([202016, 202017, 202101])]\n",
    "new_data.head()"
   ]
  },
  {
   "cell_type": "code",
   "execution_count": 6,
   "metadata": {
    "tags": []
   },
   "outputs": [],
   "source": [
    "from inference import predict_xgb"
   ]
  },
  {
   "cell_type": "code",
   "execution_count": 7,
   "metadata": {
    "tags": []
   },
   "outputs": [
    {
     "name": "stderr",
     "output_type": "stream",
     "text": [
      "/Users/grasiele/Dropbox/Mac/Documents/case-study-forecasting/inference.py:17: SettingWithCopyWarning: \n",
      "A value is trying to be set on a copy of a slice from a DataFrame\n",
      "\n",
      "See the caveats in the documentation: https://pandas.pydata.org/pandas-docs/stable/user_guide/indexing.html#returning-a-view-versus-a-copy\n",
      "  df.drop(columns={'PCT_DESCONTO', 'COD_MATERIAL', 'QT_VENDA'}, inplace=True)\n",
      "/Users/grasiele/Dropbox/Mac/Documents/case-study-forecasting/inference.py:19: SettingWithCopyWarning: \n",
      "A value is trying to be set on a copy of a slice from a DataFrame\n",
      "\n",
      "See the caveats in the documentation: https://pandas.pydata.org/pandas-docs/stable/user_guide/indexing.html#returning-a-view-versus-a-copy\n",
      "  df.dropna(inplace=True)\n"
     ]
    },
    {
     "name": "stdout",
     "output_type": "stream",
     "text": [
      "Adding empty feature: DES_MARCA_MATERIAL_anon_S40\n",
      "Adding empty feature: DES_MARCA_MATERIAL_anon_S41\n",
      "Removing extra feature not in feature list: FLG_CAMPANHA_MKT_E\n",
      "Removing extra feature not in feature list: FLG_CAMPANHA_MKT_F\n",
      "Removing extra feature not in feature list: DES_MARCA_MATERIAL_anon_S16\n",
      "Removing extra feature not in feature list: DES_MARCA_MATERIAL_anon_S27\n",
      "Removing extra feature not in feature list: DES_MARCA_MATERIAL_anon_S37\n",
      "Removing extra feature not in feature list: DES_MARCA_MATERIAL_anon_S38\n",
      "Removing extra feature not in feature list: DES_MARCA_MATERIAL_anon_S43\n",
      "Removing extra feature not in feature list: DES_MARCA_MATERIAL_anon_S44\n",
      "Removing extra feature not in feature list: DES_MARCA_MATERIAL_anon_S48\n",
      "Removing extra feature not in feature list: DES_MARCA_MATERIAL_anon_S49\n",
      "Removing extra feature not in feature list: DES_MARCA_MATERIAL_anon_S51\n",
      "Removing extra feature not in feature list: DES_MARCA_MATERIAL_anon_S53\n",
      "Removing extra feature not in feature list: DES_MARCA_MATERIAL_anon_S54\n",
      "Removing extra feature not in feature list: DES_MARCA_MATERIAL_anon_S57\n",
      "Removing extra feature not in feature list: DES_MARCA_MATERIAL_anon_S59\n",
      "Removing extra feature not in feature list: DES_MARCA_MATERIAL_anon_S63\n",
      "Removing extra feature not in feature list: DES_MARCA_MATERIAL_anon_S67\n",
      "Removing extra feature not in feature list: DES_MARCA_MATERIAL_anon_S69\n",
      "Removing extra feature not in feature list: DES_MARCA_MATERIAL_anon_S70\n",
      "Removing extra feature not in feature list: DES_MARCA_MATERIAL_anon_S71\n",
      "Removing extra feature not in feature list: DES_MARCA_MATERIAL_anon_S80\n",
      "Removing extra feature not in feature list: DES_MARCA_MATERIAL_anon_S81\n",
      "Removing extra feature not in feature list: DES_MARCA_MATERIAL_anon_S88\n"
     ]
    },
    {
     "ename": "ValueError",
     "evalue": "feature_names mismatch: ['COD_CICLO', 'FLG_DATA', 'FLG_CAMPANHA_MKT_A', 'FLG_CAMPANHA_MKT_B', 'FLG_CAMPANHA_MKT_C', 'FLG_CAMPANHA_MKT_D', 'FLG_CAMPANHA_MKT_E', 'FLG_CAMPANHA_MKT_F', 'VL_PRECO', 'DES_CATEGORIA_MATERIAL_anon_S12', 'DES_CATEGORIA_MATERIAL_anon_S18', 'DES_CATEGORIA_MATERIAL_anon_S2', 'DES_CATEGORIA_MATERIAL_anon_S30', 'DES_CATEGORIA_MATERIAL_anon_S5', 'DES_MARCA_MATERIAL_anon_S14', 'DES_MARCA_MATERIAL_anon_S15', 'DES_MARCA_MATERIAL_anon_S16', 'DES_MARCA_MATERIAL_anon_S17', 'DES_MARCA_MATERIAL_anon_S19', 'DES_MARCA_MATERIAL_anon_S20', 'DES_MARCA_MATERIAL_anon_S21', 'DES_MARCA_MATERIAL_anon_S22', 'DES_MARCA_MATERIAL_anon_S23', 'DES_MARCA_MATERIAL_anon_S24', 'DES_MARCA_MATERIAL_anon_S25', 'DES_MARCA_MATERIAL_anon_S26', 'DES_MARCA_MATERIAL_anon_S27', 'DES_MARCA_MATERIAL_anon_S28', 'DES_MARCA_MATERIAL_anon_S29', 'DES_MARCA_MATERIAL_anon_S3', 'DES_MARCA_MATERIAL_anon_S31', 'DES_MARCA_MATERIAL_anon_S32', 'DES_MARCA_MATERIAL_anon_S33', 'DES_MARCA_MATERIAL_anon_S34', 'DES_MARCA_MATERIAL_anon_S35', 'DES_MARCA_MATERIAL_anon_S36', 'DES_MARCA_MATERIAL_anon_S37', 'DES_MARCA_MATERIAL_anon_S38', 'DES_MARCA_MATERIAL_anon_S39', 'DES_MARCA_MATERIAL_anon_S4', 'DES_MARCA_MATERIAL_anon_S40', 'DES_MARCA_MATERIAL_anon_S41', 'DES_MARCA_MATERIAL_anon_S42', 'DES_MARCA_MATERIAL_anon_S43', 'DES_MARCA_MATERIAL_anon_S44', 'DES_MARCA_MATERIAL_anon_S45', 'DES_MARCA_MATERIAL_anon_S46', 'DES_MARCA_MATERIAL_anon_S47', 'DES_MARCA_MATERIAL_anon_S48', 'DES_MARCA_MATERIAL_anon_S49', 'DES_MARCA_MATERIAL_anon_S50', 'DES_MARCA_MATERIAL_anon_S51', 'DES_MARCA_MATERIAL_anon_S52', 'DES_MARCA_MATERIAL_anon_S53', 'DES_MARCA_MATERIAL_anon_S54', 'DES_MARCA_MATERIAL_anon_S55', 'DES_MARCA_MATERIAL_anon_S56', 'DES_MARCA_MATERIAL_anon_S57', 'DES_MARCA_MATERIAL_anon_S58', 'DES_MARCA_MATERIAL_anon_S59', 'DES_MARCA_MATERIAL_anon_S6', 'DES_MARCA_MATERIAL_anon_S60', 'DES_MARCA_MATERIAL_anon_S61', 'DES_MARCA_MATERIAL_anon_S62', 'DES_MARCA_MATERIAL_anon_S63', 'DES_MARCA_MATERIAL_anon_S64', 'DES_MARCA_MATERIAL_anon_S65', 'DES_MARCA_MATERIAL_anon_S66', 'DES_MARCA_MATERIAL_anon_S67', 'DES_MARCA_MATERIAL_anon_S68', 'DES_MARCA_MATERIAL_anon_S69', 'DES_MARCA_MATERIAL_anon_S70', 'DES_MARCA_MATERIAL_anon_S71', 'DES_MARCA_MATERIAL_anon_S72', 'DES_MARCA_MATERIAL_anon_S73', 'DES_MARCA_MATERIAL_anon_S74', 'DES_MARCA_MATERIAL_anon_S75', 'DES_MARCA_MATERIAL_anon_S76', 'DES_MARCA_MATERIAL_anon_S77', 'DES_MARCA_MATERIAL_anon_S78', 'DES_MARCA_MATERIAL_anon_S79', 'DES_MARCA_MATERIAL_anon_S8', 'DES_MARCA_MATERIAL_anon_S82', 'DES_MARCA_MATERIAL_anon_S83', 'DES_MARCA_MATERIAL_anon_S84', 'DES_MARCA_MATERIAL_anon_S85', 'DES_MARCA_MATERIAL_anon_S86', 'DES_MARCA_MATERIAL_anon_S87', 'DES_MARCA_MATERIAL_anon_S89', 'DES_MARCA_MATERIAL_anon_S9', 'DES_MARCA_MATERIAL_anon_S90', 'DES_MARCA_MATERIAL_anon_S91', 'DES_MARCA_MATERIAL_anon_S92', 'DES_MARCA_MATERIAL_anon_S93', 'DES_MARCA_MATERIAL_anon_S94'] ['COD_CICLO', 'FLG_DATA', 'FLG_CAMPANHA_MKT_A', 'FLG_CAMPANHA_MKT_B', 'FLG_CAMPANHA_MKT_C', 'FLG_CAMPANHA_MKT_D', 'VL_PRECO', 'DES_CATEGORIA_MATERIAL_anon_S12', 'DES_CATEGORIA_MATERIAL_anon_S18', 'DES_CATEGORIA_MATERIAL_anon_S2', 'DES_CATEGORIA_MATERIAL_anon_S30', 'DES_CATEGORIA_MATERIAL_anon_S5', 'DES_MARCA_MATERIAL_anon_S14', 'DES_MARCA_MATERIAL_anon_S15', 'DES_MARCA_MATERIAL_anon_S17', 'DES_MARCA_MATERIAL_anon_S19', 'DES_MARCA_MATERIAL_anon_S20', 'DES_MARCA_MATERIAL_anon_S21', 'DES_MARCA_MATERIAL_anon_S22', 'DES_MARCA_MATERIAL_anon_S23', 'DES_MARCA_MATERIAL_anon_S24', 'DES_MARCA_MATERIAL_anon_S25', 'DES_MARCA_MATERIAL_anon_S26', 'DES_MARCA_MATERIAL_anon_S28', 'DES_MARCA_MATERIAL_anon_S29', 'DES_MARCA_MATERIAL_anon_S3', 'DES_MARCA_MATERIAL_anon_S31', 'DES_MARCA_MATERIAL_anon_S32', 'DES_MARCA_MATERIAL_anon_S33', 'DES_MARCA_MATERIAL_anon_S34', 'DES_MARCA_MATERIAL_anon_S35', 'DES_MARCA_MATERIAL_anon_S39', 'DES_MARCA_MATERIAL_anon_S4', 'DES_MARCA_MATERIAL_anon_S42', 'DES_MARCA_MATERIAL_anon_S45', 'DES_MARCA_MATERIAL_anon_S46', 'DES_MARCA_MATERIAL_anon_S47', 'DES_MARCA_MATERIAL_anon_S50', 'DES_MARCA_MATERIAL_anon_S6', 'DES_MARCA_MATERIAL_anon_S8', 'DES_MARCA_MATERIAL_anon_S9', 'DES_MARCA_MATERIAL_anon_S40', 'DES_MARCA_MATERIAL_anon_S41']\nexpected DES_MARCA_MATERIAL_anon_S54, DES_MARCA_MATERIAL_anon_S48, DES_MARCA_MATERIAL_anon_S27, DES_MARCA_MATERIAL_anon_S73, DES_MARCA_MATERIAL_anon_S85, FLG_CAMPANHA_MKT_F, DES_MARCA_MATERIAL_anon_S38, DES_MARCA_MATERIAL_anon_S78, DES_MARCA_MATERIAL_anon_S36, DES_MARCA_MATERIAL_anon_S59, DES_MARCA_MATERIAL_anon_S63, DES_MARCA_MATERIAL_anon_S67, FLG_CAMPANHA_MKT_E, DES_MARCA_MATERIAL_anon_S52, DES_MARCA_MATERIAL_anon_S43, DES_MARCA_MATERIAL_anon_S75, DES_MARCA_MATERIAL_anon_S62, DES_MARCA_MATERIAL_anon_S76, DES_MARCA_MATERIAL_anon_S86, DES_MARCA_MATERIAL_anon_S87, DES_MARCA_MATERIAL_anon_S49, DES_MARCA_MATERIAL_anon_S82, DES_MARCA_MATERIAL_anon_S74, DES_MARCA_MATERIAL_anon_S61, DES_MARCA_MATERIAL_anon_S64, DES_MARCA_MATERIAL_anon_S84, DES_MARCA_MATERIAL_anon_S65, DES_MARCA_MATERIAL_anon_S89, DES_MARCA_MATERIAL_anon_S56, DES_MARCA_MATERIAL_anon_S60, DES_MARCA_MATERIAL_anon_S58, DES_MARCA_MATERIAL_anon_S93, DES_MARCA_MATERIAL_anon_S71, DES_MARCA_MATERIAL_anon_S94, DES_MARCA_MATERIAL_anon_S79, DES_MARCA_MATERIAL_anon_S55, DES_MARCA_MATERIAL_anon_S91, DES_MARCA_MATERIAL_anon_S83, DES_MARCA_MATERIAL_anon_S57, DES_MARCA_MATERIAL_anon_S70, DES_MARCA_MATERIAL_anon_S66, DES_MARCA_MATERIAL_anon_S92, DES_MARCA_MATERIAL_anon_S90, DES_MARCA_MATERIAL_anon_S51, DES_MARCA_MATERIAL_anon_S68, DES_MARCA_MATERIAL_anon_S53, DES_MARCA_MATERIAL_anon_S77, DES_MARCA_MATERIAL_anon_S69, DES_MARCA_MATERIAL_anon_S44, DES_MARCA_MATERIAL_anon_S37, DES_MARCA_MATERIAL_anon_S16, DES_MARCA_MATERIAL_anon_S72 in input data",
     "output_type": "error",
     "traceback": [
      "\u001b[0;31m---------------------------------------------------------------------------\u001b[0m",
      "\u001b[0;31mValueError\u001b[0m                                Traceback (most recent call last)",
      "\u001b[0;32m<ipython-input-7-a154f16dc325>\u001b[0m in \u001b[0;36m<module>\u001b[0;34m\u001b[0m\n\u001b[0;32m----> 1\u001b[0;31m \u001b[0mpredict_xgb\u001b[0m\u001b[0;34m(\u001b[0m\u001b[0mnew_data\u001b[0m\u001b[0;34m,\u001b[0m \u001b[0mfeatures\u001b[0m\u001b[0;34m)\u001b[0m\u001b[0;34m\u001b[0m\u001b[0;34m\u001b[0m\u001b[0m\n\u001b[0m",
      "\u001b[0;32m~/Dropbox/Mac/Documents/case-study-forecasting/inference.py\u001b[0m in \u001b[0;36mpredict_xgb\u001b[0;34m(new_data, features)\u001b[0m\n\u001b[1;32m     46\u001b[0m     \u001b[0mdf\u001b[0m \u001b[0;34m=\u001b[0m \u001b[0mxgb\u001b[0m\u001b[0;34m.\u001b[0m\u001b[0mDMatrix\u001b[0m\u001b[0;34m(\u001b[0m\u001b[0mdf\u001b[0m\u001b[0;34m)\u001b[0m\u001b[0;34m\u001b[0m\u001b[0;34m\u001b[0m\u001b[0m\n\u001b[1;32m     47\u001b[0m     \u001b[0mmodel\u001b[0m \u001b[0;34m=\u001b[0m \u001b[0mjoblib\u001b[0m\u001b[0;34m.\u001b[0m\u001b[0mload\u001b[0m\u001b[0;34m(\u001b[0m\u001b[0;34m'model.pkl'\u001b[0m\u001b[0;34m)\u001b[0m\u001b[0;34m\u001b[0m\u001b[0;34m\u001b[0m\u001b[0m\n\u001b[0;32m---> 48\u001b[0;31m     \u001b[0mpredictions\u001b[0m \u001b[0;34m=\u001b[0m \u001b[0mmodel\u001b[0m\u001b[0;34m.\u001b[0m\u001b[0mpredict\u001b[0m\u001b[0;34m(\u001b[0m\u001b[0mdf\u001b[0m\u001b[0;34m)\u001b[0m\u001b[0;34m\u001b[0m\u001b[0;34m\u001b[0m\u001b[0m\n\u001b[0m\u001b[1;32m     49\u001b[0m     \u001b[0mpreds\u001b[0m \u001b[0;34m=\u001b[0m \u001b[0mpd\u001b[0m\u001b[0;34m.\u001b[0m\u001b[0mDataFrame\u001b[0m\u001b[0;34m(\u001b[0m\u001b[0mpredictions\u001b[0m\u001b[0;34m,\u001b[0m \u001b[0mcolumns\u001b[0m\u001b[0;34m=\u001b[0m\u001b[0;34m[\u001b[0m\u001b[0;34m'Predicted Values'\u001b[0m\u001b[0;34m]\u001b[0m\u001b[0;34m)\u001b[0m\u001b[0;34m\u001b[0m\u001b[0;34m\u001b[0m\u001b[0m\n\u001b[1;32m     50\u001b[0m     \u001b[0mpreds\u001b[0m\u001b[0;34m.\u001b[0m\u001b[0mto_excel\u001b[0m\u001b[0;34m(\u001b[0m\u001b[0;34m'data/forecasted_values.xlsx'\u001b[0m\u001b[0;34m,\u001b[0m \u001b[0mindex\u001b[0m\u001b[0;34m=\u001b[0m\u001b[0;32mFalse\u001b[0m\u001b[0;34m)\u001b[0m\u001b[0;34m\u001b[0m\u001b[0;34m\u001b[0m\u001b[0m\n",
      "\u001b[0;32m~/opt/anaconda3/lib/python3.8/site-packages/xgboost/core.py\u001b[0m in \u001b[0;36mpredict\u001b[0;34m(self, data, output_margin, ntree_limit, pred_leaf, pred_contribs, approx_contribs, pred_interactions, validate_features, training)\u001b[0m\n\u001b[1;32m   1569\u001b[0m \u001b[0;34m\u001b[0m\u001b[0m\n\u001b[1;32m   1570\u001b[0m         \u001b[0;32mif\u001b[0m \u001b[0mvalidate_features\u001b[0m\u001b[0;34m:\u001b[0m\u001b[0;34m\u001b[0m\u001b[0;34m\u001b[0m\u001b[0m\n\u001b[0;32m-> 1571\u001b[0;31m             \u001b[0mself\u001b[0m\u001b[0;34m.\u001b[0m\u001b[0m_validate_features\u001b[0m\u001b[0;34m(\u001b[0m\u001b[0mdata\u001b[0m\u001b[0;34m)\u001b[0m\u001b[0;34m\u001b[0m\u001b[0;34m\u001b[0m\u001b[0m\n\u001b[0m\u001b[1;32m   1572\u001b[0m \u001b[0;34m\u001b[0m\u001b[0m\n\u001b[1;32m   1573\u001b[0m         \u001b[0mlength\u001b[0m \u001b[0;34m=\u001b[0m \u001b[0mc_bst_ulong\u001b[0m\u001b[0;34m(\u001b[0m\u001b[0;34m)\u001b[0m\u001b[0;34m\u001b[0m\u001b[0;34m\u001b[0m\u001b[0m\n",
      "\u001b[0;32m~/opt/anaconda3/lib/python3.8/site-packages/xgboost/core.py\u001b[0m in \u001b[0;36m_validate_features\u001b[0;34m(self, data)\u001b[0m\n\u001b[1;32m   2128\u001b[0m                             ', '.join(str(s) for s in my_missing))\n\u001b[1;32m   2129\u001b[0m \u001b[0;34m\u001b[0m\u001b[0m\n\u001b[0;32m-> 2130\u001b[0;31m                 raise ValueError(msg.format(self.feature_names,\n\u001b[0m\u001b[1;32m   2131\u001b[0m                                             data.feature_names))\n\u001b[1;32m   2132\u001b[0m \u001b[0;34m\u001b[0m\u001b[0m\n",
      "\u001b[0;31mValueError\u001b[0m: feature_names mismatch: ['COD_CICLO', 'FLG_DATA', 'FLG_CAMPANHA_MKT_A', 'FLG_CAMPANHA_MKT_B', 'FLG_CAMPANHA_MKT_C', 'FLG_CAMPANHA_MKT_D', 'FLG_CAMPANHA_MKT_E', 'FLG_CAMPANHA_MKT_F', 'VL_PRECO', 'DES_CATEGORIA_MATERIAL_anon_S12', 'DES_CATEGORIA_MATERIAL_anon_S18', 'DES_CATEGORIA_MATERIAL_anon_S2', 'DES_CATEGORIA_MATERIAL_anon_S30', 'DES_CATEGORIA_MATERIAL_anon_S5', 'DES_MARCA_MATERIAL_anon_S14', 'DES_MARCA_MATERIAL_anon_S15', 'DES_MARCA_MATERIAL_anon_S16', 'DES_MARCA_MATERIAL_anon_S17', 'DES_MARCA_MATERIAL_anon_S19', 'DES_MARCA_MATERIAL_anon_S20', 'DES_MARCA_MATERIAL_anon_S21', 'DES_MARCA_MATERIAL_anon_S22', 'DES_MARCA_MATERIAL_anon_S23', 'DES_MARCA_MATERIAL_anon_S24', 'DES_MARCA_MATERIAL_anon_S25', 'DES_MARCA_MATERIAL_anon_S26', 'DES_MARCA_MATERIAL_anon_S27', 'DES_MARCA_MATERIAL_anon_S28', 'DES_MARCA_MATERIAL_anon_S29', 'DES_MARCA_MATERIAL_anon_S3', 'DES_MARCA_MATERIAL_anon_S31', 'DES_MARCA_MATERIAL_anon_S32', 'DES_MARCA_MATERIAL_anon_S33', 'DES_MARCA_MATERIAL_anon_S34', 'DES_MARCA_MATERIAL_anon_S35', 'DES_MARCA_MATERIAL_anon_S36', 'DES_MARCA_MATERIAL_anon_S37', 'DES_MARCA_MATERIAL_anon_S38', 'DES_MARCA_MATERIAL_anon_S39', 'DES_MARCA_MATERIAL_anon_S4', 'DES_MARCA_MATERIAL_anon_S40', 'DES_MARCA_MATERIAL_anon_S41', 'DES_MARCA_MATERIAL_anon_S42', 'DES_MARCA_MATERIAL_anon_S43', 'DES_MARCA_MATERIAL_anon_S44', 'DES_MARCA_MATERIAL_anon_S45', 'DES_MARCA_MATERIAL_anon_S46', 'DES_MARCA_MATERIAL_anon_S47', 'DES_MARCA_MATERIAL_anon_S48', 'DES_MARCA_MATERIAL_anon_S49', 'DES_MARCA_MATERIAL_anon_S50', 'DES_MARCA_MATERIAL_anon_S51', 'DES_MARCA_MATERIAL_anon_S52', 'DES_MARCA_MATERIAL_anon_S53', 'DES_MARCA_MATERIAL_anon_S54', 'DES_MARCA_MATERIAL_anon_S55', 'DES_MARCA_MATERIAL_anon_S56', 'DES_MARCA_MATERIAL_anon_S57', 'DES_MARCA_MATERIAL_anon_S58', 'DES_MARCA_MATERIAL_anon_S59', 'DES_MARCA_MATERIAL_anon_S6', 'DES_MARCA_MATERIAL_anon_S60', 'DES_MARCA_MATERIAL_anon_S61', 'DES_MARCA_MATERIAL_anon_S62', 'DES_MARCA_MATERIAL_anon_S63', 'DES_MARCA_MATERIAL_anon_S64', 'DES_MARCA_MATERIAL_anon_S65', 'DES_MARCA_MATERIAL_anon_S66', 'DES_MARCA_MATERIAL_anon_S67', 'DES_MARCA_MATERIAL_anon_S68', 'DES_MARCA_MATERIAL_anon_S69', 'DES_MARCA_MATERIAL_anon_S70', 'DES_MARCA_MATERIAL_anon_S71', 'DES_MARCA_MATERIAL_anon_S72', 'DES_MARCA_MATERIAL_anon_S73', 'DES_MARCA_MATERIAL_anon_S74', 'DES_MARCA_MATERIAL_anon_S75', 'DES_MARCA_MATERIAL_anon_S76', 'DES_MARCA_MATERIAL_anon_S77', 'DES_MARCA_MATERIAL_anon_S78', 'DES_MARCA_MATERIAL_anon_S79', 'DES_MARCA_MATERIAL_anon_S8', 'DES_MARCA_MATERIAL_anon_S82', 'DES_MARCA_MATERIAL_anon_S83', 'DES_MARCA_MATERIAL_anon_S84', 'DES_MARCA_MATERIAL_anon_S85', 'DES_MARCA_MATERIAL_anon_S86', 'DES_MARCA_MATERIAL_anon_S87', 'DES_MARCA_MATERIAL_anon_S89', 'DES_MARCA_MATERIAL_anon_S9', 'DES_MARCA_MATERIAL_anon_S90', 'DES_MARCA_MATERIAL_anon_S91', 'DES_MARCA_MATERIAL_anon_S92', 'DES_MARCA_MATERIAL_anon_S93', 'DES_MARCA_MATERIAL_anon_S94'] ['COD_CICLO', 'FLG_DATA', 'FLG_CAMPANHA_MKT_A', 'FLG_CAMPANHA_MKT_B', 'FLG_CAMPANHA_MKT_C', 'FLG_CAMPANHA_MKT_D', 'VL_PRECO', 'DES_CATEGORIA_MATERIAL_anon_S12', 'DES_CATEGORIA_MATERIAL_anon_S18', 'DES_CATEGORIA_MATERIAL_anon_S2', 'DES_CATEGORIA_MATERIAL_anon_S30', 'DES_CATEGORIA_MATERIAL_anon_S5', 'DES_MARCA_MATERIAL_anon_S14', 'DES_MARCA_MATERIAL_anon_S15', 'DES_MARCA_MATERIAL_anon_S17', 'DES_MARCA_MATERIAL_anon_S19', 'DES_MARCA_MATERIAL_anon_S20', 'DES_MARCA_MATERIAL_anon_S21', 'DES_MARCA_MATERIAL_anon_S22', 'DES_MARCA_MATERIAL_anon_S23', 'DES_MARCA_MATERIAL_anon_S24', 'DES_MARCA_MATERIAL_anon_S25', 'DES_MARCA_MATERIAL_anon_S26', 'DES_MARCA_MATERIAL_anon_S28', 'DES_MARCA_MATERIAL_anon_S29', 'DES_MARCA_MATERIAL_anon_S3', 'DES_MARCA_MATERIAL_anon_S31', 'DES_MARCA_MATERIAL_anon_S32', 'DES_MARCA_MATERIAL_anon_S33', 'DES_MARCA_MATERIAL_anon_S34', 'DES_MARCA_MATERIAL_anon_S35', 'DES_MARCA_MATERIAL_anon_S39', 'DES_MARCA_MATERIAL_anon_S4', 'DES_MARCA_MATERIAL_anon_S42', 'DES_MARCA_MATERIAL_anon_S45', 'DES_MARCA_MATERIAL_anon_S46', 'DES_MARCA_MATERIAL_anon_S47', 'DES_MARCA_MATERIAL_anon_S50', 'DES_MARCA_MATERIAL_anon_S6', 'DES_MARCA_MATERIAL_anon_S8', 'DES_MARCA_MATERIAL_anon_S9', 'DES_MARCA_MATERIAL_anon_S40', 'DES_MARCA_MATERIAL_anon_S41']\nexpected DES_MARCA_MATERIAL_anon_S54, DES_MARCA_MATERIAL_anon_S48, DES_MARCA_MATERIAL_anon_S27, DES_MARCA_MATERIAL_anon_S73, DES_MARCA_MATERIAL_anon_S85, FLG_CAMPANHA_MKT_F, DES_MARCA_MATERIAL_anon_S38, DES_MARCA_MATERIAL_anon_S78, DES_MARCA_MATERIAL_anon_S36, DES_MARCA_MATERIAL_anon_S59, DES_MARCA_MATERIAL_anon_S63, DES_MARCA_MATERIAL_anon_S67, FLG_CAMPANHA_MKT_E, DES_MARCA_MATERIAL_anon_S52, DES_MARCA_MATERIAL_anon_S43, DES_MARCA_MATERIAL_anon_S75, DES_MARCA_MATERIAL_anon_S62, DES_MARCA_MATERIAL_anon_S76, DES_MARCA_MATERIAL_anon_S86, DES_MARCA_MATERIAL_anon_S87, DES_MARCA_MATERIAL_anon_S49, DES_MARCA_MATERIAL_anon_S82, DES_MARCA_MATERIAL_anon_S74, DES_MARCA_MATERIAL_anon_S61, DES_MARCA_MATERIAL_anon_S64, DES_MARCA_MATERIAL_anon_S84, DES_MARCA_MATERIAL_anon_S65, DES_MARCA_MATERIAL_anon_S89, DES_MARCA_MATERIAL_anon_S56, DES_MARCA_MATERIAL_anon_S60, DES_MARCA_MATERIAL_anon_S58, DES_MARCA_MATERIAL_anon_S93, DES_MARCA_MATERIAL_anon_S71, DES_MARCA_MATERIAL_anon_S94, DES_MARCA_MATERIAL_anon_S79, DES_MARCA_MATERIAL_anon_S55, DES_MARCA_MATERIAL_anon_S91, DES_MARCA_MATERIAL_anon_S83, DES_MARCA_MATERIAL_anon_S57, DES_MARCA_MATERIAL_anon_S70, DES_MARCA_MATERIAL_anon_S66, DES_MARCA_MATERIAL_anon_S92, DES_MARCA_MATERIAL_anon_S90, DES_MARCA_MATERIAL_anon_S51, DES_MARCA_MATERIAL_anon_S68, DES_MARCA_MATERIAL_anon_S53, DES_MARCA_MATERIAL_anon_S77, DES_MARCA_MATERIAL_anon_S69, DES_MARCA_MATERIAL_anon_S44, DES_MARCA_MATERIAL_anon_S37, DES_MARCA_MATERIAL_anon_S16, DES_MARCA_MATERIAL_anon_S72 in input data"
     ]
    }
   ],
   "source": [
    "predict_xgb(new_data, features)"
   ]
  },
  {
   "cell_type": "code",
   "execution_count": null,
   "metadata": {},
   "outputs": [],
   "source": []
  }
 ],
 "metadata": {
  "kernelspec": {
   "display_name": "Python 3",
   "language": "python",
   "name": "python3"
  },
  "language_info": {
   "codemirror_mode": {
    "name": "ipython",
    "version": 3
   },
   "file_extension": ".py",
   "mimetype": "text/x-python",
   "name": "python",
   "nbconvert_exporter": "python",
   "pygments_lexer": "ipython3",
   "version": "3.8.5"
  }
 },
 "nbformat": 4,
 "nbformat_minor": 4
}
